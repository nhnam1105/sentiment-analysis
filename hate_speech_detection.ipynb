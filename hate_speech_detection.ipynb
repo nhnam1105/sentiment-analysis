{
 "cells": [
  {
   "cell_type": "code",
   "execution_count": 287,
   "metadata": {},
   "outputs": [],
   "source": [
    "import pandas as pd\n",
    "import numpy as np\n",
    "from sklearn.feature_extraction.text import CountVectorizer\n",
    "from sklearn.feature_extraction.text import TfidfVectorizer\n",
    "import string\n",
    "from nltk.corpus import stopwords\n",
    "import preprocessor as p\n",
    "from text_preprocessing import preprocess_text\n",
    "from text_preprocessing import to_lower, expand_contraction, remove_number, remove_punctuation, remove_whitespace, normalize_unicode, lemmatize_word, remove_stopword\n",
    "from sklearn.pipeline import Pipeline\n",
    "from sklearn.preprocessing import StandardScaler\n",
    "from sklearn.ensemble import GradientBoostingClassifier\n",
    "from sklearn.feature_selection import SelectKBest, chi2\n",
    "import matplotlib.pyplot as plt\n",
    "import seaborn as sn\n",
    "from sklearn.metrics import confusion_matrix, plot_confusion_matrix, classification_report, f1_score\n",
    "import sklearn.utils\n",
    "import sys\n",
    "import regex as re\n",
    "import itertools\n",
    "import emoji\n",
    "from tensorflow.keras.preprocessing.text import Tokenizer\n",
    "from tensorflow.keras.preprocessing.sequence import pad_sequences\n",
    "from tensorflow.keras.models import Sequential, Model, load_model\n",
    "from tensorflow.keras.layers import Dense, Flatten, LSTM, Conv1D, MaxPooling1D, Dropout, Activation\n",
    "from tensorflow.keras.layers import Embedding, SpatialDropout1D\n",
    "from tensorflow.keras.layers import Input, LSTM, Concatenate\n",
    "from tensorflow.keras.optimizers import Adam\n",
    "from tensorflow.keras.utils import to_categorical, plot_model\n",
    "from sklearn.utils import shuffle\n",
    "import pickle\n",
    "from joblib import dump, load\n",
    "from sklearn.model_selection import GridSearchCV"
   ]
  },
  {
   "cell_type": "code",
   "execution_count": 288,
   "metadata": {},
   "outputs": [],
   "source": [
    "hate = pd.read_csv(\"/Volumes/DATA/UNIMI/Text Mining and Sentiment Analysis/labeled.csv\", sep=',')"
   ]
  },
  {
   "cell_type": "code",
   "execution_count": 289,
   "metadata": {},
   "outputs": [
    {
     "data": {
      "text/html": [
       "<div>\n",
       "<style scoped>\n",
       "    .dataframe tbody tr th:only-of-type {\n",
       "        vertical-align: middle;\n",
       "    }\n",
       "\n",
       "    .dataframe tbody tr th {\n",
       "        vertical-align: top;\n",
       "    }\n",
       "\n",
       "    .dataframe thead th {\n",
       "        text-align: right;\n",
       "    }\n",
       "</style>\n",
       "<table border=\"1\" class=\"dataframe\">\n",
       "  <thead>\n",
       "    <tr style=\"text-align: right;\">\n",
       "      <th></th>\n",
       "      <th>Unnamed: 0</th>\n",
       "      <th>count</th>\n",
       "      <th>hate_speech</th>\n",
       "      <th>offensive_language</th>\n",
       "      <th>neither</th>\n",
       "      <th>class</th>\n",
       "      <th>tweet</th>\n",
       "    </tr>\n",
       "  </thead>\n",
       "  <tbody>\n",
       "    <tr>\n",
       "      <th>0</th>\n",
       "      <td>0</td>\n",
       "      <td>3</td>\n",
       "      <td>0</td>\n",
       "      <td>0</td>\n",
       "      <td>3</td>\n",
       "      <td>2</td>\n",
       "      <td>!!! RT @mayasolovely: As a woman you shouldn't...</td>\n",
       "    </tr>\n",
       "    <tr>\n",
       "      <th>1</th>\n",
       "      <td>1</td>\n",
       "      <td>3</td>\n",
       "      <td>0</td>\n",
       "      <td>3</td>\n",
       "      <td>0</td>\n",
       "      <td>1</td>\n",
       "      <td>!!!!! RT @mleew17: boy dats cold...tyga dwn ba...</td>\n",
       "    </tr>\n",
       "    <tr>\n",
       "      <th>2</th>\n",
       "      <td>2</td>\n",
       "      <td>3</td>\n",
       "      <td>0</td>\n",
       "      <td>3</td>\n",
       "      <td>0</td>\n",
       "      <td>1</td>\n",
       "      <td>!!!!!!! RT @UrKindOfBrand Dawg!!!! RT @80sbaby...</td>\n",
       "    </tr>\n",
       "    <tr>\n",
       "      <th>3</th>\n",
       "      <td>3</td>\n",
       "      <td>3</td>\n",
       "      <td>0</td>\n",
       "      <td>2</td>\n",
       "      <td>1</td>\n",
       "      <td>1</td>\n",
       "      <td>!!!!!!!!! RT @C_G_Anderson: @viva_based she lo...</td>\n",
       "    </tr>\n",
       "    <tr>\n",
       "      <th>4</th>\n",
       "      <td>4</td>\n",
       "      <td>6</td>\n",
       "      <td>0</td>\n",
       "      <td>6</td>\n",
       "      <td>0</td>\n",
       "      <td>1</td>\n",
       "      <td>!!!!!!!!!!!!! RT @ShenikaRoberts: The shit you...</td>\n",
       "    </tr>\n",
       "  </tbody>\n",
       "</table>\n",
       "</div>"
      ],
      "text/plain": [
       "   Unnamed: 0  count  hate_speech  offensive_language  neither  class  \\\n",
       "0           0      3            0                   0        3      2   \n",
       "1           1      3            0                   3        0      1   \n",
       "2           2      3            0                   3        0      1   \n",
       "3           3      3            0                   2        1      1   \n",
       "4           4      6            0                   6        0      1   \n",
       "\n",
       "                                               tweet  \n",
       "0  !!! RT @mayasolovely: As a woman you shouldn't...  \n",
       "1  !!!!! RT @mleew17: boy dats cold...tyga dwn ba...  \n",
       "2  !!!!!!! RT @UrKindOfBrand Dawg!!!! RT @80sbaby...  \n",
       "3  !!!!!!!!! RT @C_G_Anderson: @viva_based she lo...  \n",
       "4  !!!!!!!!!!!!! RT @ShenikaRoberts: The shit you...  "
      ]
     },
     "execution_count": 289,
     "metadata": {},
     "output_type": "execute_result"
    }
   ],
   "source": [
    "hate.head(5)"
   ]
  },
  {
   "cell_type": "code",
   "execution_count": 290,
   "metadata": {},
   "outputs": [],
   "source": [
    "drop_cols = [\"count\", \"hate_speech\", \"offensive_language\", \"neither\", \"Unnamed: 0\"]\n",
    "df = hate.drop(drop_cols, axis = 1)"
   ]
  },
  {
   "cell_type": "code",
   "execution_count": 291,
   "metadata": {},
   "outputs": [
    {
     "data": {
      "text/plain": [
       "Text(0, 0.5, 'Counts')"
      ]
     },
     "execution_count": 291,
     "metadata": {},
     "output_type": "execute_result"
    },
    {
     "data": {
      "image/png": "[encoded data removed]",
      "text/plain": [
       "<Figure size 432x288 with 1 Axes>"
      ]
     },
     "metadata": {
      "needs_background": "light"
     },
     "output_type": "display_data"
    }
   ],
   "source": [
    "#Plotting histogram of labels to see how they are distributed\n",
    "df['class'].plot.hist(bins=5, rwidth=2, color='#607c8e')\n",
    "plt.title('Histogram label')\n",
    "plt.xlabel('Labels')\n",
    "plt.ylabel('Counts')"
   ]
  },
  {
   "cell_type": "markdown",
   "metadata": {},
   "source": [
    "## Dealing with imbalenced dataset\n",
    "Trying to add more data"
   ]
  },
  {
   "cell_type": "code",
   "execution_count": 292,
   "metadata": {},
   "outputs": [],
   "source": [
    "hate2 = pd.read_csv(\"/Users/namnguyen/Downloads/hatespeech-master/data.csv\", sep=',', encoding = \"utf-8\")"
   ]
  },
  {
   "cell_type": "code",
   "execution_count": 293,
   "metadata": {},
   "outputs": [],
   "source": [
    "hate3 = pd.read_csv(\"/Users/namnguyen/Downloads/hatespeech-master/NAACL_SRW_2016.csv\", sep=',')"
   ]
  },
  {
   "cell_type": "code",
   "execution_count": 294,
   "metadata": {},
   "outputs": [
    {
     "data": {
      "text/plain": [
       "(16907, 3)"
      ]
     },
     "execution_count": 294,
     "metadata": {},
     "output_type": "execute_result"
    }
   ],
   "source": [
    "hate2.shape"
   ]
  },
  {
   "cell_type": "code",
   "execution_count": 295,
   "metadata": {},
   "outputs": [
    {
     "data": {
      "text/html": [
       "<div>\n",
       "<style scoped>\n",
       "    .dataframe tbody tr th:only-of-type {\n",
       "        vertical-align: middle;\n",
       "    }\n",
       "\n",
       "    .dataframe tbody tr th {\n",
       "        vertical-align: top;\n",
       "    }\n",
       "\n",
       "    .dataframe thead th {\n",
       "        text-align: right;\n",
       "    }\n",
       "</style>\n",
       "<table border=\"1\" class=\"dataframe\">\n",
       "  <thead>\n",
       "    <tr style=\"text-align: right;\">\n",
       "      <th></th>\n",
       "      <th>tid</th>\n",
       "      <th>type</th>\n",
       "    </tr>\n",
       "  </thead>\n",
       "  <tbody>\n",
       "    <tr>\n",
       "      <th>0</th>\n",
       "      <td>572342978255048705</td>\n",
       "      <td>racism</td>\n",
       "    </tr>\n",
       "    <tr>\n",
       "      <th>1</th>\n",
       "      <td>572341498827522049</td>\n",
       "      <td>racism</td>\n",
       "    </tr>\n",
       "    <tr>\n",
       "      <th>2</th>\n",
       "      <td>572340476503724032</td>\n",
       "      <td>racism</td>\n",
       "    </tr>\n",
       "    <tr>\n",
       "      <th>3</th>\n",
       "      <td>572334712804384768</td>\n",
       "      <td>racism</td>\n",
       "    </tr>\n",
       "    <tr>\n",
       "      <th>4</th>\n",
       "      <td>572332655397629952</td>\n",
       "      <td>racism</td>\n",
       "    </tr>\n",
       "    <tr>\n",
       "      <th>...</th>\n",
       "      <td>...</td>\n",
       "      <td>...</td>\n",
       "    </tr>\n",
       "    <tr>\n",
       "      <th>16902</th>\n",
       "      <td>576359685843861505</td>\n",
       "      <td>none</td>\n",
       "    </tr>\n",
       "    <tr>\n",
       "      <th>16903</th>\n",
       "      <td>576612926838046720</td>\n",
       "      <td>none</td>\n",
       "    </tr>\n",
       "    <tr>\n",
       "      <th>16904</th>\n",
       "      <td>576771329975664640</td>\n",
       "      <td>none</td>\n",
       "    </tr>\n",
       "    <tr>\n",
       "      <th>16905</th>\n",
       "      <td>560595245814267905</td>\n",
       "      <td>none</td>\n",
       "    </tr>\n",
       "    <tr>\n",
       "      <th>16906</th>\n",
       "      <td>569363477095174145</td>\n",
       "      <td>none</td>\n",
       "    </tr>\n",
       "  </tbody>\n",
       "</table>\n",
       "<p>16907 rows × 2 columns</p>\n",
       "</div>"
      ],
      "text/plain": [
       "                      tid    type\n",
       "0      572342978255048705  racism\n",
       "1      572341498827522049  racism\n",
       "2      572340476503724032  racism\n",
       "3      572334712804384768  racism\n",
       "4      572332655397629952  racism\n",
       "...                   ...     ...\n",
       "16902  576359685843861505    none\n",
       "16903  576612926838046720    none\n",
       "16904  576771329975664640    none\n",
       "16905  560595245814267905    none\n",
       "16906  569363477095174145    none\n",
       "\n",
       "[16907 rows x 2 columns]"
      ]
     },
     "execution_count": 295,
     "metadata": {},
     "output_type": "execute_result"
    }
   ],
   "source": [
    "hate3"
   ]
  },
  {
   "cell_type": "code",
   "execution_count": 296,
   "metadata": {},
   "outputs": [
    {
     "data": {
      "text/plain": [
       "numpy.int64"
      ]
     },
     "execution_count": 296,
     "metadata": {},
     "output_type": "execute_result"
    }
   ],
   "source": [
    "type(hate3['tid'][0])"
   ]
  },
  {
   "cell_type": "code",
   "execution_count": 297,
   "metadata": {},
   "outputs": [
    {
     "data": {
      "text/html": [
       "<div>\n",
       "<style scoped>\n",
       "    .dataframe tbody tr th:only-of-type {\n",
       "        vertical-align: middle;\n",
       "    }\n",
       "\n",
       "    .dataframe tbody tr th {\n",
       "        vertical-align: top;\n",
       "    }\n",
       "\n",
       "    .dataframe thead th {\n",
       "        text-align: right;\n",
       "    }\n",
       "</style>\n",
       "<table border=\"1\" class=\"dataframe\">\n",
       "  <thead>\n",
       "    <tr style=\"text-align: right;\">\n",
       "      <th></th>\n",
       "      <th>tid</th>\n",
       "      <th>text</th>\n",
       "      <th>date;</th>\n",
       "    </tr>\n",
       "  </thead>\n",
       "  <tbody>\n",
       "    <tr>\n",
       "      <th>0</th>\n",
       "      <td>572342978255048705</td>\n",
       "      <td>So Drasko just said he was impressed the girls...</td>\n",
       "      <td>2015-03-02 10:29:34;</td>\n",
       "    </tr>\n",
       "    <tr>\n",
       "      <th>1</th>\n",
       "      <td>572341498827522049</td>\n",
       "      <td>Drasko they didn't cook half a bird you idiot ...</td>\n",
       "      <td>2015-03-02 10:23:41;</td>\n",
       "    </tr>\n",
       "    <tr>\n",
       "      <th>2</th>\n",
       "      <td>572340476503724032</td>\n",
       "      <td>Hopefully someone cooks Drasko in the next ep ...</td>\n",
       "      <td>2015-03-02 10:19:37;</td>\n",
       "    </tr>\n",
       "    <tr>\n",
       "      <th>3</th>\n",
       "      <td>572334712804384768</td>\n",
       "      <td>of course you were born in serbia...you're as ...</td>\n",
       "      <td>2015-03-02 09:56:43;</td>\n",
       "    </tr>\n",
       "    <tr>\n",
       "      <th>4</th>\n",
       "      <td>572332655397629952</td>\n",
       "      <td>These girls are the equivalent of the irritati...</td>\n",
       "      <td>2015-03-02 09:48:33;</td>\n",
       "    </tr>\n",
       "    <tr>\n",
       "      <th>...</th>\n",
       "      <td>...</td>\n",
       "      <td>...</td>\n",
       "      <td>...</td>\n",
       "    </tr>\n",
       "    <tr>\n",
       "      <th>16902</th>\n",
       "      <td>576359685843861505</td>\n",
       "      <td>NaN</td>\n",
       "      <td>;</td>\n",
       "    </tr>\n",
       "    <tr>\n",
       "      <th>16903</th>\n",
       "      <td>576612926838046720</td>\n",
       "      <td>NaN</td>\n",
       "      <td>;</td>\n",
       "    </tr>\n",
       "    <tr>\n",
       "      <th>16904</th>\n",
       "      <td>576771329975664640</td>\n",
       "      <td>NaN</td>\n",
       "      <td>;</td>\n",
       "    </tr>\n",
       "    <tr>\n",
       "      <th>16905</th>\n",
       "      <td>560595245814267905</td>\n",
       "      <td>@panelrific: Let's go 🐧🐧🐧🐧🐧🐧😃\"\"</td>\n",
       "      <td>2015-01-29 00:28:16\";</td>\n",
       "    </tr>\n",
       "    <tr>\n",
       "      <th>16906</th>\n",
       "      <td>569363477095174145</td>\n",
       "      <td>NaN</td>\n",
       "      <td>;</td>\n",
       "    </tr>\n",
       "  </tbody>\n",
       "</table>\n",
       "<p>16907 rows × 3 columns</p>\n",
       "</div>"
      ],
      "text/plain": [
       "                      tid                                               text  \\\n",
       "0      572342978255048705  So Drasko just said he was impressed the girls...   \n",
       "1      572341498827522049  Drasko they didn't cook half a bird you idiot ...   \n",
       "2      572340476503724032  Hopefully someone cooks Drasko in the next ep ...   \n",
       "3      572334712804384768  of course you were born in serbia...you're as ...   \n",
       "4      572332655397629952  These girls are the equivalent of the irritati...   \n",
       "...                   ...                                                ...   \n",
       "16902  576359685843861505                                                NaN   \n",
       "16903  576612926838046720                                                NaN   \n",
       "16904  576771329975664640                                                NaN   \n",
       "16905  560595245814267905                    @panelrific: Let's go 🐧🐧🐧🐧🐧🐧😃\"\"   \n",
       "16906  569363477095174145                                                NaN   \n",
       "\n",
       "                       date;  \n",
       "0       2015-03-02 10:29:34;  \n",
       "1       2015-03-02 10:23:41;  \n",
       "2       2015-03-02 10:19:37;  \n",
       "3       2015-03-02 09:56:43;  \n",
       "4       2015-03-02 09:48:33;  \n",
       "...                      ...  \n",
       "16902                      ;  \n",
       "16903                      ;  \n",
       "16904                      ;  \n",
       "16905  2015-01-29 00:28:16\";  \n",
       "16906                      ;  \n",
       "\n",
       "[16907 rows x 3 columns]"
      ]
     },
     "execution_count": 297,
     "metadata": {},
     "output_type": "execute_result"
    }
   ],
   "source": [
    "hate2"
   ]
  },
  {
   "cell_type": "code",
   "execution_count": null,
   "metadata": {},
   "outputs": [],
   "source": []
  },
  {
   "cell_type": "code",
   "execution_count": 298,
   "metadata": {},
   "outputs": [],
   "source": [
    "hate2['tid'] = hate2['tid'].astype(int)"
   ]
  },
  {
   "cell_type": "code",
   "execution_count": 299,
   "metadata": {},
   "outputs": [],
   "source": [
    "hate3 = hate3.drop_duplicates(subset='tid', keep=\"last\")"
   ]
  },
  {
   "cell_type": "code",
   "execution_count": 300,
   "metadata": {},
   "outputs": [
    {
     "data": {
      "text/html": [
       "<div>\n",
       "<style scoped>\n",
       "    .dataframe tbody tr th:only-of-type {\n",
       "        vertical-align: middle;\n",
       "    }\n",
       "\n",
       "    .dataframe tbody tr th {\n",
       "        vertical-align: top;\n",
       "    }\n",
       "\n",
       "    .dataframe thead th {\n",
       "        text-align: right;\n",
       "    }\n",
       "</style>\n",
       "<table border=\"1\" class=\"dataframe\">\n",
       "  <thead>\n",
       "    <tr style=\"text-align: right;\">\n",
       "      <th></th>\n",
       "      <th>tid</th>\n",
       "      <th>type</th>\n",
       "    </tr>\n",
       "  </thead>\n",
       "  <tbody>\n",
       "    <tr>\n",
       "      <th>3</th>\n",
       "      <td>572334712804384768</td>\n",
       "      <td>racism</td>\n",
       "    </tr>\n",
       "    <tr>\n",
       "      <th>4</th>\n",
       "      <td>572332655397629952</td>\n",
       "      <td>racism</td>\n",
       "    </tr>\n",
       "    <tr>\n",
       "      <th>6</th>\n",
       "      <td>551659627872415744</td>\n",
       "      <td>racism</td>\n",
       "    </tr>\n",
       "    <tr>\n",
       "      <th>7</th>\n",
       "      <td>551763146877452288</td>\n",
       "      <td>racism</td>\n",
       "    </tr>\n",
       "    <tr>\n",
       "      <th>8</th>\n",
       "      <td>551768543277355009</td>\n",
       "      <td>racism</td>\n",
       "    </tr>\n",
       "    <tr>\n",
       "      <th>...</th>\n",
       "      <td>...</td>\n",
       "      <td>...</td>\n",
       "    </tr>\n",
       "    <tr>\n",
       "      <th>16902</th>\n",
       "      <td>576359685843861505</td>\n",
       "      <td>none</td>\n",
       "    </tr>\n",
       "    <tr>\n",
       "      <th>16903</th>\n",
       "      <td>576612926838046720</td>\n",
       "      <td>none</td>\n",
       "    </tr>\n",
       "    <tr>\n",
       "      <th>16904</th>\n",
       "      <td>576771329975664640</td>\n",
       "      <td>none</td>\n",
       "    </tr>\n",
       "    <tr>\n",
       "      <th>16905</th>\n",
       "      <td>560595245814267905</td>\n",
       "      <td>none</td>\n",
       "    </tr>\n",
       "    <tr>\n",
       "      <th>16906</th>\n",
       "      <td>569363477095174145</td>\n",
       "      <td>none</td>\n",
       "    </tr>\n",
       "  </tbody>\n",
       "</table>\n",
       "<p>16849 rows × 2 columns</p>\n",
       "</div>"
      ],
      "text/plain": [
       "                      tid    type\n",
       "3      572334712804384768  racism\n",
       "4      572332655397629952  racism\n",
       "6      551659627872415744  racism\n",
       "7      551763146877452288  racism\n",
       "8      551768543277355009  racism\n",
       "...                   ...     ...\n",
       "16902  576359685843861505    none\n",
       "16903  576612926838046720    none\n",
       "16904  576771329975664640    none\n",
       "16905  560595245814267905    none\n",
       "16906  569363477095174145    none\n",
       "\n",
       "[16849 rows x 2 columns]"
      ]
     },
     "execution_count": 300,
     "metadata": {},
     "output_type": "execute_result"
    }
   ],
   "source": [
    "hate3"
   ]
  },
  {
   "cell_type": "code",
   "execution_count": 301,
   "metadata": {},
   "outputs": [],
   "source": [
    "hate2 = hate2.drop_duplicates(subset='tid', keep=\"last\")"
   ]
  },
  {
   "cell_type": "code",
   "execution_count": 302,
   "metadata": {},
   "outputs": [
    {
     "data": {
      "text/html": [
       "<div>\n",
       "<style scoped>\n",
       "    .dataframe tbody tr th:only-of-type {\n",
       "        vertical-align: middle;\n",
       "    }\n",
       "\n",
       "    .dataframe tbody tr th {\n",
       "        vertical-align: top;\n",
       "    }\n",
       "\n",
       "    .dataframe thead th {\n",
       "        text-align: right;\n",
       "    }\n",
       "</style>\n",
       "<table border=\"1\" class=\"dataframe\">\n",
       "  <thead>\n",
       "    <tr style=\"text-align: right;\">\n",
       "      <th></th>\n",
       "      <th>tid</th>\n",
       "      <th>text</th>\n",
       "      <th>date;</th>\n",
       "    </tr>\n",
       "  </thead>\n",
       "  <tbody>\n",
       "    <tr>\n",
       "      <th>3</th>\n",
       "      <td>572334712804384768</td>\n",
       "      <td>of course you were born in serbia...you're as ...</td>\n",
       "      <td>2015-03-02 09:56:43;</td>\n",
       "    </tr>\n",
       "    <tr>\n",
       "      <th>4</th>\n",
       "      <td>572332655397629952</td>\n",
       "      <td>These girls are the equivalent of the irritati...</td>\n",
       "      <td>2015-03-02 09:48:33;</td>\n",
       "    </tr>\n",
       "    <tr>\n",
       "      <th>6</th>\n",
       "      <td>551659627872415744</td>\n",
       "      <td>NaN</td>\n",
       "      <td>;</td>\n",
       "    </tr>\n",
       "    <tr>\n",
       "      <th>7</th>\n",
       "      <td>551763146877452288</td>\n",
       "      <td>NaN</td>\n",
       "      <td>;</td>\n",
       "    </tr>\n",
       "    <tr>\n",
       "      <th>8</th>\n",
       "      <td>551768543277355009</td>\n",
       "      <td>NaN</td>\n",
       "      <td>;</td>\n",
       "    </tr>\n",
       "    <tr>\n",
       "      <th>...</th>\n",
       "      <td>...</td>\n",
       "      <td>...</td>\n",
       "      <td>...</td>\n",
       "    </tr>\n",
       "    <tr>\n",
       "      <th>16902</th>\n",
       "      <td>576359685843861505</td>\n",
       "      <td>NaN</td>\n",
       "      <td>;</td>\n",
       "    </tr>\n",
       "    <tr>\n",
       "      <th>16903</th>\n",
       "      <td>576612926838046720</td>\n",
       "      <td>NaN</td>\n",
       "      <td>;</td>\n",
       "    </tr>\n",
       "    <tr>\n",
       "      <th>16904</th>\n",
       "      <td>576771329975664640</td>\n",
       "      <td>NaN</td>\n",
       "      <td>;</td>\n",
       "    </tr>\n",
       "    <tr>\n",
       "      <th>16905</th>\n",
       "      <td>560595245814267905</td>\n",
       "      <td>@panelrific: Let's go 🐧🐧🐧🐧🐧🐧😃\"\"</td>\n",
       "      <td>2015-01-29 00:28:16\";</td>\n",
       "    </tr>\n",
       "    <tr>\n",
       "      <th>16906</th>\n",
       "      <td>569363477095174145</td>\n",
       "      <td>NaN</td>\n",
       "      <td>;</td>\n",
       "    </tr>\n",
       "  </tbody>\n",
       "</table>\n",
       "<p>16849 rows × 3 columns</p>\n",
       "</div>"
      ],
      "text/plain": [
       "                      tid                                               text  \\\n",
       "3      572334712804384768  of course you were born in serbia...you're as ...   \n",
       "4      572332655397629952  These girls are the equivalent of the irritati...   \n",
       "6      551659627872415744                                                NaN   \n",
       "7      551763146877452288                                                NaN   \n",
       "8      551768543277355009                                                NaN   \n",
       "...                   ...                                                ...   \n",
       "16902  576359685843861505                                                NaN   \n",
       "16903  576612926838046720                                                NaN   \n",
       "16904  576771329975664640                                                NaN   \n",
       "16905  560595245814267905                    @panelrific: Let's go 🐧🐧🐧🐧🐧🐧😃\"\"   \n",
       "16906  569363477095174145                                                NaN   \n",
       "\n",
       "                       date;  \n",
       "3       2015-03-02 09:56:43;  \n",
       "4       2015-03-02 09:48:33;  \n",
       "6                          ;  \n",
       "7                          ;  \n",
       "8                          ;  \n",
       "...                      ...  \n",
       "16902                      ;  \n",
       "16903                      ;  \n",
       "16904                      ;  \n",
       "16905  2015-01-29 00:28:16\";  \n",
       "16906                      ;  \n",
       "\n",
       "[16849 rows x 3 columns]"
      ]
     },
     "execution_count": 302,
     "metadata": {},
     "output_type": "execute_result"
    }
   ],
   "source": [
    "hate2"
   ]
  },
  {
   "cell_type": "code",
   "execution_count": 303,
   "metadata": {},
   "outputs": [],
   "source": [
    "hate_df = pd.merge(hate2, hate3, how='inner', on=['tid'])"
   ]
  },
  {
   "cell_type": "code",
   "execution_count": 304,
   "metadata": {},
   "outputs": [
    {
     "data": {
      "text/html": [
       "<div>\n",
       "<style scoped>\n",
       "    .dataframe tbody tr th:only-of-type {\n",
       "        vertical-align: middle;\n",
       "    }\n",
       "\n",
       "    .dataframe tbody tr th {\n",
       "        vertical-align: top;\n",
       "    }\n",
       "\n",
       "    .dataframe thead th {\n",
       "        text-align: right;\n",
       "    }\n",
       "</style>\n",
       "<table border=\"1\" class=\"dataframe\">\n",
       "  <thead>\n",
       "    <tr style=\"text-align: right;\">\n",
       "      <th></th>\n",
       "      <th>tid</th>\n",
       "      <th>text</th>\n",
       "      <th>date;</th>\n",
       "      <th>type</th>\n",
       "    </tr>\n",
       "  </thead>\n",
       "  <tbody>\n",
       "    <tr>\n",
       "      <th>0</th>\n",
       "      <td>572334712804384768</td>\n",
       "      <td>of course you were born in serbia...you're as ...</td>\n",
       "      <td>2015-03-02 09:56:43;</td>\n",
       "      <td>racism</td>\n",
       "    </tr>\n",
       "    <tr>\n",
       "      <th>1</th>\n",
       "      <td>572332655397629952</td>\n",
       "      <td>These girls are the equivalent of the irritati...</td>\n",
       "      <td>2015-03-02 09:48:33;</td>\n",
       "      <td>racism</td>\n",
       "    </tr>\n",
       "    <tr>\n",
       "      <th>2</th>\n",
       "      <td>551659627872415744</td>\n",
       "      <td>NaN</td>\n",
       "      <td>;</td>\n",
       "      <td>racism</td>\n",
       "    </tr>\n",
       "    <tr>\n",
       "      <th>3</th>\n",
       "      <td>551763146877452288</td>\n",
       "      <td>NaN</td>\n",
       "      <td>;</td>\n",
       "      <td>racism</td>\n",
       "    </tr>\n",
       "    <tr>\n",
       "      <th>4</th>\n",
       "      <td>551768543277355009</td>\n",
       "      <td>NaN</td>\n",
       "      <td>;</td>\n",
       "      <td>racism</td>\n",
       "    </tr>\n",
       "    <tr>\n",
       "      <th>...</th>\n",
       "      <td>...</td>\n",
       "      <td>...</td>\n",
       "      <td>...</td>\n",
       "      <td>...</td>\n",
       "    </tr>\n",
       "    <tr>\n",
       "      <th>16844</th>\n",
       "      <td>576359685843861505</td>\n",
       "      <td>NaN</td>\n",
       "      <td>;</td>\n",
       "      <td>none</td>\n",
       "    </tr>\n",
       "    <tr>\n",
       "      <th>16845</th>\n",
       "      <td>576612926838046720</td>\n",
       "      <td>NaN</td>\n",
       "      <td>;</td>\n",
       "      <td>none</td>\n",
       "    </tr>\n",
       "    <tr>\n",
       "      <th>16846</th>\n",
       "      <td>576771329975664640</td>\n",
       "      <td>NaN</td>\n",
       "      <td>;</td>\n",
       "      <td>none</td>\n",
       "    </tr>\n",
       "    <tr>\n",
       "      <th>16847</th>\n",
       "      <td>560595245814267905</td>\n",
       "      <td>@panelrific: Let's go 🐧🐧🐧🐧🐧🐧😃\"\"</td>\n",
       "      <td>2015-01-29 00:28:16\";</td>\n",
       "      <td>none</td>\n",
       "    </tr>\n",
       "    <tr>\n",
       "      <th>16848</th>\n",
       "      <td>569363477095174145</td>\n",
       "      <td>NaN</td>\n",
       "      <td>;</td>\n",
       "      <td>none</td>\n",
       "    </tr>\n",
       "  </tbody>\n",
       "</table>\n",
       "<p>16849 rows × 4 columns</p>\n",
       "</div>"
      ],
      "text/plain": [
       "                      tid                                               text  \\\n",
       "0      572334712804384768  of course you were born in serbia...you're as ...   \n",
       "1      572332655397629952  These girls are the equivalent of the irritati...   \n",
       "2      551659627872415744                                                NaN   \n",
       "3      551763146877452288                                                NaN   \n",
       "4      551768543277355009                                                NaN   \n",
       "...                   ...                                                ...   \n",
       "16844  576359685843861505                                                NaN   \n",
       "16845  576612926838046720                                                NaN   \n",
       "16846  576771329975664640                                                NaN   \n",
       "16847  560595245814267905                    @panelrific: Let's go 🐧🐧🐧🐧🐧🐧😃\"\"   \n",
       "16848  569363477095174145                                                NaN   \n",
       "\n",
       "                       date;    type  \n",
       "0       2015-03-02 09:56:43;  racism  \n",
       "1       2015-03-02 09:48:33;  racism  \n",
       "2                          ;  racism  \n",
       "3                          ;  racism  \n",
       "4                          ;  racism  \n",
       "...                      ...     ...  \n",
       "16844                      ;    none  \n",
       "16845                      ;    none  \n",
       "16846                      ;    none  \n",
       "16847  2015-01-29 00:28:16\";    none  \n",
       "16848                      ;    none  \n",
       "\n",
       "[16849 rows x 4 columns]"
      ]
     },
     "execution_count": 304,
     "metadata": {},
     "output_type": "execute_result"
    }
   ],
   "source": [
    "hate_df"
   ]
  },
  {
   "cell_type": "code",
   "execution_count": 305,
   "metadata": {},
   "outputs": [],
   "source": [
    "hate_df = hate_df.dropna(axis='rows')"
   ]
  },
  {
   "cell_type": "code",
   "execution_count": 306,
   "metadata": {},
   "outputs": [],
   "source": [
    "hate_speech = {\n",
    "  0: \"neither\",\n",
    "  1: \"racism\",\n",
    "  2: \"sexism\"\n",
    "}"
   ]
  },
  {
   "cell_type": "code",
   "execution_count": 307,
   "metadata": {},
   "outputs": [],
   "source": [
    "type_encode = []\n",
    "for x in hate_df['type']:\n",
    "    if x == \"racism\":\n",
    "        type_encode.append(1)\n",
    "    if x == \"sexism\":\n",
    "        type_encode.append(2)\n",
    "    if x == \"none\":\n",
    "        type_encode.append(0)"
   ]
  },
  {
   "cell_type": "code",
   "execution_count": 308,
   "metadata": {},
   "outputs": [
    {
     "data": {
      "text/plain": [
       "9802"
      ]
     },
     "execution_count": 308,
     "metadata": {},
     "output_type": "execute_result"
    }
   ],
   "source": [
    "len(type_encode)"
   ]
  },
  {
   "cell_type": "code",
   "execution_count": 309,
   "metadata": {},
   "outputs": [
    {
     "name": "stderr",
     "output_type": "stream",
     "text": [
      "/Users/namnguyen/opt/anaconda3/lib/python3.7/site-packages/ipykernel_launcher.py:1: SettingWithCopyWarning: \n",
      "A value is trying to be set on a copy of a slice from a DataFrame.\n",
      "Try using .loc[row_indexer,col_indexer] = value instead\n",
      "\n",
      "See the caveats in the documentation: https://pandas.pydata.org/pandas-docs/stable/user_guide/indexing.html#returning-a-view-versus-a-copy\n",
      "  \"\"\"Entry point for launching an IPython kernel.\n"
     ]
    }
   ],
   "source": [
    "hate_df['type'] = type_encode"
   ]
  },
  {
   "cell_type": "code",
   "execution_count": 310,
   "metadata": {},
   "outputs": [
    {
     "data": {
      "text/html": [
       "<div>\n",
       "<style scoped>\n",
       "    .dataframe tbody tr th:only-of-type {\n",
       "        vertical-align: middle;\n",
       "    }\n",
       "\n",
       "    .dataframe tbody tr th {\n",
       "        vertical-align: top;\n",
       "    }\n",
       "\n",
       "    .dataframe thead th {\n",
       "        text-align: right;\n",
       "    }\n",
       "</style>\n",
       "<table border=\"1\" class=\"dataframe\">\n",
       "  <thead>\n",
       "    <tr style=\"text-align: right;\">\n",
       "      <th></th>\n",
       "      <th>tid</th>\n",
       "      <th>text</th>\n",
       "      <th>date;</th>\n",
       "      <th>type</th>\n",
       "    </tr>\n",
       "  </thead>\n",
       "  <tbody>\n",
       "    <tr>\n",
       "      <th>0</th>\n",
       "      <td>572334712804384768</td>\n",
       "      <td>of course you were born in serbia...you're as ...</td>\n",
       "      <td>2015-03-02 09:56:43;</td>\n",
       "      <td>1</td>\n",
       "    </tr>\n",
       "    <tr>\n",
       "      <th>1</th>\n",
       "      <td>572332655397629952</td>\n",
       "      <td>These girls are the equivalent of the irritati...</td>\n",
       "      <td>2015-03-02 09:48:33;</td>\n",
       "      <td>1</td>\n",
       "    </tr>\n",
       "    <tr>\n",
       "      <th>1932</th>\n",
       "      <td>446460991396917248</td>\n",
       "      <td>RT @YesYoureRacist: At least you're only a tin...</td>\n",
       "      <td>2014-03-20 01:39:29;</td>\n",
       "      <td>1</td>\n",
       "    </tr>\n",
       "    <tr>\n",
       "      <th>1933</th>\n",
       "      <td>489938636956135424</td>\n",
       "      <td>@MisfitInChains @oldgfatherclock @venereverita...</td>\n",
       "      <td>2014-07-18 01:04:08;</td>\n",
       "      <td>1</td>\n",
       "    </tr>\n",
       "    <tr>\n",
       "      <th>1934</th>\n",
       "      <td>502315096052596736</td>\n",
       "      <td>RT @Dreamdefenders: Eric Holder from #ferguson...</td>\n",
       "      <td>2014-08-21 04:43:46\";</td>\n",
       "      <td>1</td>\n",
       "    </tr>\n",
       "    <tr>\n",
       "      <th>...</th>\n",
       "      <td>...</td>\n",
       "      <td>...</td>\n",
       "      <td>...</td>\n",
       "      <td>...</td>\n",
       "    </tr>\n",
       "    <tr>\n",
       "      <th>16765</th>\n",
       "      <td>576180808504848384</td>\n",
       "      <td>@ProoN ❤️</td>\n",
       "      <td>2015-03-13 00:39:44;</td>\n",
       "      <td>0</td>\n",
       "    </tr>\n",
       "    <tr>\n",
       "      <th>16766</th>\n",
       "      <td>576255143101882368</td>\n",
       "      <td>RT @Transition: @freebsdgirl just so I’m clear...</td>\n",
       "      <td>2015-03-13 05:35:07;</td>\n",
       "      <td>0</td>\n",
       "    </tr>\n",
       "    <tr>\n",
       "      <th>16768</th>\n",
       "      <td>576481461424934912</td>\n",
       "      <td>RT @Leonard_Delaney: @freebsdgirl I know! Holy...</td>\n",
       "      <td>2015-03-13 20:34:25;</td>\n",
       "      <td>0</td>\n",
       "    </tr>\n",
       "    <tr>\n",
       "      <th>16769</th>\n",
       "      <td>576607445692256256</td>\n",
       "      <td>FLOSS Weekly open source projects and paying t...</td>\n",
       "      <td>2015-03-14 04:55:02;</td>\n",
       "      <td>0</td>\n",
       "    </tr>\n",
       "    <tr>\n",
       "      <th>16847</th>\n",
       "      <td>560595245814267905</td>\n",
       "      <td>@panelrific: Let's go 🐧🐧🐧🐧🐧🐧😃\"\"</td>\n",
       "      <td>2015-01-29 00:28:16\";</td>\n",
       "      <td>0</td>\n",
       "    </tr>\n",
       "  </tbody>\n",
       "</table>\n",
       "<p>9802 rows × 4 columns</p>\n",
       "</div>"
      ],
      "text/plain": [
       "                      tid                                               text  \\\n",
       "0      572334712804384768  of course you were born in serbia...you're as ...   \n",
       "1      572332655397629952  These girls are the equivalent of the irritati...   \n",
       "1932   446460991396917248  RT @YesYoureRacist: At least you're only a tin...   \n",
       "1933   489938636956135424  @MisfitInChains @oldgfatherclock @venereverita...   \n",
       "1934   502315096052596736  RT @Dreamdefenders: Eric Holder from #ferguson...   \n",
       "...                   ...                                                ...   \n",
       "16765  576180808504848384                                          @ProoN ❤️   \n",
       "16766  576255143101882368  RT @Transition: @freebsdgirl just so I’m clear...   \n",
       "16768  576481461424934912  RT @Leonard_Delaney: @freebsdgirl I know! Holy...   \n",
       "16769  576607445692256256  FLOSS Weekly open source projects and paying t...   \n",
       "16847  560595245814267905                    @panelrific: Let's go 🐧🐧🐧🐧🐧🐧😃\"\"   \n",
       "\n",
       "                       date;  type  \n",
       "0       2015-03-02 09:56:43;     1  \n",
       "1       2015-03-02 09:48:33;     1  \n",
       "1932    2014-03-20 01:39:29;     1  \n",
       "1933    2014-07-18 01:04:08;     1  \n",
       "1934   2014-08-21 04:43:46\";     1  \n",
       "...                      ...   ...  \n",
       "16765   2015-03-13 00:39:44;     0  \n",
       "16766   2015-03-13 05:35:07;     0  \n",
       "16768   2015-03-13 20:34:25;     0  \n",
       "16769   2015-03-14 04:55:02;     0  \n",
       "16847  2015-01-29 00:28:16\";     0  \n",
       "\n",
       "[9802 rows x 4 columns]"
      ]
     },
     "execution_count": 310,
     "metadata": {},
     "output_type": "execute_result"
    }
   ],
   "source": [
    "hate_df"
   ]
  },
  {
   "cell_type": "code",
   "execution_count": 311,
   "metadata": {},
   "outputs": [
    {
     "name": "stderr",
     "output_type": "stream",
     "text": [
      "/Users/namnguyen/opt/anaconda3/lib/python3.7/site-packages/ipykernel_launcher.py:1: SettingWithCopyWarning: \n",
      "A value is trying to be set on a copy of a slice from a DataFrame.\n",
      "Try using .loc[row_indexer,col_indexer] = value instead\n",
      "\n",
      "See the caveats in the documentation: https://pandas.pydata.org/pandas-docs/stable/user_guide/indexing.html#returning-a-view-versus-a-copy\n",
      "  \"\"\"Entry point for launching an IPython kernel.\n"
     ]
    }
   ],
   "source": [
    "hate_df['tweet'] = hate_df['text']"
   ]
  },
  {
   "cell_type": "code",
   "execution_count": 312,
   "metadata": {},
   "outputs": [
    {
     "data": {
      "text/html": [
       "<div>\n",
       "<style scoped>\n",
       "    .dataframe tbody tr th:only-of-type {\n",
       "        vertical-align: middle;\n",
       "    }\n",
       "\n",
       "    .dataframe tbody tr th {\n",
       "        vertical-align: top;\n",
       "    }\n",
       "\n",
       "    .dataframe thead th {\n",
       "        text-align: right;\n",
       "    }\n",
       "</style>\n",
       "<table border=\"1\" class=\"dataframe\">\n",
       "  <thead>\n",
       "    <tr style=\"text-align: right;\">\n",
       "      <th></th>\n",
       "      <th>tid</th>\n",
       "      <th>text</th>\n",
       "      <th>date;</th>\n",
       "      <th>type</th>\n",
       "      <th>tweet</th>\n",
       "    </tr>\n",
       "  </thead>\n",
       "  <tbody>\n",
       "    <tr>\n",
       "      <th>0</th>\n",
       "      <td>572334712804384768</td>\n",
       "      <td>of course you were born in serbia...you're as ...</td>\n",
       "      <td>2015-03-02 09:56:43;</td>\n",
       "      <td>1</td>\n",
       "      <td>of course you were born in serbia...you're as ...</td>\n",
       "    </tr>\n",
       "    <tr>\n",
       "      <th>1</th>\n",
       "      <td>572332655397629952</td>\n",
       "      <td>These girls are the equivalent of the irritati...</td>\n",
       "      <td>2015-03-02 09:48:33;</td>\n",
       "      <td>1</td>\n",
       "      <td>These girls are the equivalent of the irritati...</td>\n",
       "    </tr>\n",
       "    <tr>\n",
       "      <th>1932</th>\n",
       "      <td>446460991396917248</td>\n",
       "      <td>RT @YesYoureRacist: At least you're only a tin...</td>\n",
       "      <td>2014-03-20 01:39:29;</td>\n",
       "      <td>1</td>\n",
       "      <td>RT @YesYoureRacist: At least you're only a tin...</td>\n",
       "    </tr>\n",
       "    <tr>\n",
       "      <th>1933</th>\n",
       "      <td>489938636956135424</td>\n",
       "      <td>@MisfitInChains @oldgfatherclock @venereverita...</td>\n",
       "      <td>2014-07-18 01:04:08;</td>\n",
       "      <td>1</td>\n",
       "      <td>@MisfitInChains @oldgfatherclock @venereverita...</td>\n",
       "    </tr>\n",
       "    <tr>\n",
       "      <th>1934</th>\n",
       "      <td>502315096052596736</td>\n",
       "      <td>RT @Dreamdefenders: Eric Holder from #ferguson...</td>\n",
       "      <td>2014-08-21 04:43:46\";</td>\n",
       "      <td>1</td>\n",
       "      <td>RT @Dreamdefenders: Eric Holder from #ferguson...</td>\n",
       "    </tr>\n",
       "    <tr>\n",
       "      <th>...</th>\n",
       "      <td>...</td>\n",
       "      <td>...</td>\n",
       "      <td>...</td>\n",
       "      <td>...</td>\n",
       "      <td>...</td>\n",
       "    </tr>\n",
       "    <tr>\n",
       "      <th>16765</th>\n",
       "      <td>576180808504848384</td>\n",
       "      <td>@ProoN ❤️</td>\n",
       "      <td>2015-03-13 00:39:44;</td>\n",
       "      <td>0</td>\n",
       "      <td>@ProoN ❤️</td>\n",
       "    </tr>\n",
       "    <tr>\n",
       "      <th>16766</th>\n",
       "      <td>576255143101882368</td>\n",
       "      <td>RT @Transition: @freebsdgirl just so I’m clear...</td>\n",
       "      <td>2015-03-13 05:35:07;</td>\n",
       "      <td>0</td>\n",
       "      <td>RT @Transition: @freebsdgirl just so I’m clear...</td>\n",
       "    </tr>\n",
       "    <tr>\n",
       "      <th>16768</th>\n",
       "      <td>576481461424934912</td>\n",
       "      <td>RT @Leonard_Delaney: @freebsdgirl I know! Holy...</td>\n",
       "      <td>2015-03-13 20:34:25;</td>\n",
       "      <td>0</td>\n",
       "      <td>RT @Leonard_Delaney: @freebsdgirl I know! Holy...</td>\n",
       "    </tr>\n",
       "    <tr>\n",
       "      <th>16769</th>\n",
       "      <td>576607445692256256</td>\n",
       "      <td>FLOSS Weekly open source projects and paying t...</td>\n",
       "      <td>2015-03-14 04:55:02;</td>\n",
       "      <td>0</td>\n",
       "      <td>FLOSS Weekly open source projects and paying t...</td>\n",
       "    </tr>\n",
       "    <tr>\n",
       "      <th>16847</th>\n",
       "      <td>560595245814267905</td>\n",
       "      <td>@panelrific: Let's go 🐧🐧🐧🐧🐧🐧😃\"\"</td>\n",
       "      <td>2015-01-29 00:28:16\";</td>\n",
       "      <td>0</td>\n",
       "      <td>@panelrific: Let's go 🐧🐧🐧🐧🐧🐧😃\"\"</td>\n",
       "    </tr>\n",
       "  </tbody>\n",
       "</table>\n",
       "<p>9802 rows × 5 columns</p>\n",
       "</div>"
      ],
      "text/plain": [
       "                      tid                                               text  \\\n",
       "0      572334712804384768  of course you were born in serbia...you're as ...   \n",
       "1      572332655397629952  These girls are the equivalent of the irritati...   \n",
       "1932   446460991396917248  RT @YesYoureRacist: At least you're only a tin...   \n",
       "1933   489938636956135424  @MisfitInChains @oldgfatherclock @venereverita...   \n",
       "1934   502315096052596736  RT @Dreamdefenders: Eric Holder from #ferguson...   \n",
       "...                   ...                                                ...   \n",
       "16765  576180808504848384                                          @ProoN ❤️   \n",
       "16766  576255143101882368  RT @Transition: @freebsdgirl just so I’m clear...   \n",
       "16768  576481461424934912  RT @Leonard_Delaney: @freebsdgirl I know! Holy...   \n",
       "16769  576607445692256256  FLOSS Weekly open source projects and paying t...   \n",
       "16847  560595245814267905                    @panelrific: Let's go 🐧🐧🐧🐧🐧🐧😃\"\"   \n",
       "\n",
       "                       date;  type  \\\n",
       "0       2015-03-02 09:56:43;     1   \n",
       "1       2015-03-02 09:48:33;     1   \n",
       "1932    2014-03-20 01:39:29;     1   \n",
       "1933    2014-07-18 01:04:08;     1   \n",
       "1934   2014-08-21 04:43:46\";     1   \n",
       "...                      ...   ...   \n",
       "16765   2015-03-13 00:39:44;     0   \n",
       "16766   2015-03-13 05:35:07;     0   \n",
       "16768   2015-03-13 20:34:25;     0   \n",
       "16769   2015-03-14 04:55:02;     0   \n",
       "16847  2015-01-29 00:28:16\";     0   \n",
       "\n",
       "                                                   tweet  \n",
       "0      of course you were born in serbia...you're as ...  \n",
       "1      These girls are the equivalent of the irritati...  \n",
       "1932   RT @YesYoureRacist: At least you're only a tin...  \n",
       "1933   @MisfitInChains @oldgfatherclock @venereverita...  \n",
       "1934   RT @Dreamdefenders: Eric Holder from #ferguson...  \n",
       "...                                                  ...  \n",
       "16765                                          @ProoN ❤️  \n",
       "16766  RT @Transition: @freebsdgirl just so I’m clear...  \n",
       "16768  RT @Leonard_Delaney: @freebsdgirl I know! Holy...  \n",
       "16769  FLOSS Weekly open source projects and paying t...  \n",
       "16847                    @panelrific: Let's go 🐧🐧🐧🐧🐧🐧😃\"\"  \n",
       "\n",
       "[9802 rows x 5 columns]"
      ]
     },
     "execution_count": 312,
     "metadata": {},
     "output_type": "execute_result"
    }
   ],
   "source": [
    "hate_df"
   ]
  },
  {
   "cell_type": "code",
   "execution_count": 313,
   "metadata": {},
   "outputs": [],
   "source": [
    "hate_df = hate_df.drop(['tid', 'text', 'date;'], axis = 1)"
   ]
  },
  {
   "cell_type": "code",
   "execution_count": 314,
   "metadata": {},
   "outputs": [],
   "source": [
    "hate_df.columns = ['class', 'tweet']"
   ]
  },
  {
   "cell_type": "code",
   "execution_count": 315,
   "metadata": {},
   "outputs": [],
   "source": [
    "hate_df = hate_df.append(df)"
   ]
  },
  {
   "cell_type": "code",
   "execution_count": 316,
   "metadata": {},
   "outputs": [],
   "source": [
    "hate_df = hate_df.sample(frac=1)"
   ]
  },
  {
   "cell_type": "code",
   "execution_count": 317,
   "metadata": {},
   "outputs": [
    {
     "data": {
      "text/html": [
       "<div>\n",
       "<style scoped>\n",
       "    .dataframe tbody tr th:only-of-type {\n",
       "        vertical-align: middle;\n",
       "    }\n",
       "\n",
       "    .dataframe tbody tr th {\n",
       "        vertical-align: top;\n",
       "    }\n",
       "\n",
       "    .dataframe thead th {\n",
       "        text-align: right;\n",
       "    }\n",
       "</style>\n",
       "<table border=\"1\" class=\"dataframe\">\n",
       "  <thead>\n",
       "    <tr style=\"text-align: right;\">\n",
       "      <th></th>\n",
       "      <th>class</th>\n",
       "      <th>tweet</th>\n",
       "    </tr>\n",
       "  </thead>\n",
       "  <tbody>\n",
       "    <tr>\n",
       "      <th>9682</th>\n",
       "      <td>1</td>\n",
       "      <td>Hate on what bitch http://t.co/QzTnw6cdKi</td>\n",
       "    </tr>\n",
       "    <tr>\n",
       "      <th>13342</th>\n",
       "      <td>1</td>\n",
       "      <td>Niggas put on wigs and act like bitches for re...</td>\n",
       "    </tr>\n",
       "    <tr>\n",
       "      <th>19937</th>\n",
       "      <td>1</td>\n",
       "      <td>RT @rollieghost: &amp;#8220;@vivalajayxoxo: Women ...</td>\n",
       "    </tr>\n",
       "    <tr>\n",
       "      <th>12250</th>\n",
       "      <td>0</td>\n",
       "      <td>@Crusina_Luachra but regardless i don't need t...</td>\n",
       "    </tr>\n",
       "    <tr>\n",
       "      <th>19643</th>\n",
       "      <td>1</td>\n",
       "      <td>RT @maya_hampton: @whateverduuude ily ur a bad...</td>\n",
       "    </tr>\n",
       "    <tr>\n",
       "      <th>...</th>\n",
       "      <td>...</td>\n",
       "      <td>...</td>\n",
       "    </tr>\n",
       "    <tr>\n",
       "      <th>15917</th>\n",
       "      <td>0</td>\n",
       "      <td>@nkilgore67 I'm sure you know all the slots ro...</td>\n",
       "    </tr>\n",
       "    <tr>\n",
       "      <th>8950</th>\n",
       "      <td>2</td>\n",
       "      <td>Enjoying the eccentricity of @RayEvernham's Am...</td>\n",
       "    </tr>\n",
       "    <tr>\n",
       "      <th>11545</th>\n",
       "      <td>0</td>\n",
       "      <td>@Nayadrikj OKAY I'M BACK</td>\n",
       "    </tr>\n",
       "    <tr>\n",
       "      <th>12791</th>\n",
       "      <td>1</td>\n",
       "      <td>Maybe you should eat makeup so you can be pret...</td>\n",
       "    </tr>\n",
       "    <tr>\n",
       "      <th>9352</th>\n",
       "      <td>1</td>\n",
       "      <td>Fuuuuuck you you stupid fucking cunt</td>\n",
       "    </tr>\n",
       "  </tbody>\n",
       "</table>\n",
       "<p>34585 rows × 2 columns</p>\n",
       "</div>"
      ],
      "text/plain": [
       "       class                                              tweet\n",
       "9682       1          Hate on what bitch http://t.co/QzTnw6cdKi\n",
       "13342      1  Niggas put on wigs and act like bitches for re...\n",
       "19937      1  RT @rollieghost: &#8220;@vivalajayxoxo: Women ...\n",
       "12250      0  @Crusina_Luachra but regardless i don't need t...\n",
       "19643      1  RT @maya_hampton: @whateverduuude ily ur a bad...\n",
       "...      ...                                                ...\n",
       "15917      0  @nkilgore67 I'm sure you know all the slots ro...\n",
       "8950       2  Enjoying the eccentricity of @RayEvernham's Am...\n",
       "11545      0                           @Nayadrikj OKAY I'M BACK\n",
       "12791      1  Maybe you should eat makeup so you can be pret...\n",
       "9352       1               Fuuuuuck you you stupid fucking cunt\n",
       "\n",
       "[34585 rows x 2 columns]"
      ]
     },
     "execution_count": 317,
     "metadata": {},
     "output_type": "execute_result"
    }
   ],
   "source": [
    "hate_df"
   ]
  },
  {
   "cell_type": "code",
   "execution_count": 318,
   "metadata": {},
   "outputs": [],
   "source": [
    "from sklearn.model_selection import train_test_split\n",
    "X = hate_df['tweet']\n",
    "y = hate_df['class']\n",
    "X_train, X_test, y_train, y_test = train_test_split(X, y, test_size=0.20, random_state=42)"
   ]
  },
  {
   "cell_type": "code",
   "execution_count": 319,
   "metadata": {},
   "outputs": [
    {
     "data": {
      "image/png": "[encoded data removed]",
      "text/plain": [
       "<Figure size 432x288 with 1 Axes>"
      ]
     },
     "metadata": {
      "needs_background": "light"
     },
     "output_type": "display_data"
    }
   ],
   "source": [
    "#Plotting histogram of labels to see how they are distributed\n",
    "y.plot.hist(bins=5, rwidth=2,\n",
    "                   color='#607c8e')\n",
    "plt.title('Histogram label')\n",
    "plt.xlabel('Labels')\n",
    "plt.ylabel('Counts')\n",
    "plt.savefig('label_distributed.png', dpi=200, transparent=True)"
   ]
  },
  {
   "cell_type": "markdown",
   "metadata": {},
   "source": [
    "### Data cleaning"
   ]
  },
  {
   "cell_type": "code",
   "execution_count": null,
   "metadata": {},
   "outputs": [],
   "source": []
  },
  {
   "cell_type": "code",
   "execution_count": 320,
   "metadata": {},
   "outputs": [],
   "source": [
    "FLAGS = re.MULTILINE | re.DOTALL\n",
    "\n",
    "def hashtag(text):\n",
    "    text = text.group()\n",
    "    hashtag_body = text[1:]\n",
    "    if hashtag_body.isupper():\n",
    "        result = \" {} \".format(hashtag_body.lower())\n",
    "    else:\n",
    "        result = \" \".join([\"<hashtag>\"] + re.split(r\"(?=[A-Z])\", hashtag_body, flags=FLAGS))\n",
    "    return result\n",
    "\n",
    "def tokenize(text):\n",
    "    # Different regex parts for smiley faces\n",
    "    eyes = r\"[8:=;]\"\n",
    "    nose = r\"['`\\-]?\"\n",
    "\n",
    "    # function so code less repetitive\n",
    "    def re_sub(pattern, repl):\n",
    "        return re.sub(pattern, repl, text, flags=FLAGS)\n",
    "\n",
    "    text = re_sub(r\"https?:\\/\\/\\S+\\b|www\\.(\\w+\\.)+\\S*\", \"\") #url\n",
    "    #remove username\n",
    "    #text = re_sub(r\"@\\w+\", \"<user>\")\n",
    "    text = re_sub(r\"@\\w+\", \" \")\n",
    "    text = re_sub(r\"{}{}[)dD]+|[)dD]+{}{}\".format(eyes, nose, nose, eyes), \"\")\n",
    "    text = re_sub(r\"{}{}p+\".format(eyes, nose), \"\") #lolface\n",
    "    text = re_sub(r\"{}{}\\(+|\\)+{}{}\".format(eyes, nose, nose, eyes), \"\")\n",
    "    text = re_sub(r\"{}{}[\\/|l*]\".format(eyes, nose), \"\")\n",
    "    text = re_sub(r\"/\",\" / \")\n",
    "    text = re_sub(r\"<3\",\"\")\n",
    "    text = re_sub(r\"[-+]?[.\\d]*[\\d]+[:,.\\d]*\", \"\")\n",
    "    #text = re_sub(r\"#\\S+\", hashtag)\n",
    "    text = re_sub(r\"([!?.]){2,}\", r\"\\1 <repeat>\")\n",
    "    text = re_sub(r\"\\b(\\S*?)(.)\\2{2,}\\b\", r\"\")\n",
    "\n",
    "    # text = re_sub(r\"([^a-z0-9()<>'`\\-]){2,}\", allcaps)\n",
    "    text = re_sub(r\"([A-Z]){2,}\", \"\")\n",
    "    #eliminate punctuation\n",
    "    text = re.compile('[%s]' % re.escape(string.punctuation)).sub('', text)\n",
    "    \n",
    "    return text.lower().strip()\n",
    "\n",
    "def text_cleaning(text):\n",
    "    p.set_options(p.OPT.MENTION, p.OPT.URL, p.OPT.EMOJI, p.OPT.SMILEY)\n",
    "    text = p.clean(text)\n",
    "    text = text.replace(\"RT\", \"\")\n",
    "    preprocess_functions = [to_lower, expand_contraction, remove_number, remove_punctuation,\n",
    "                          remove_whitespace, normalize_unicode, remove_stopword]\n",
    "    preprocessed_text = preprocess_text(text, preprocess_functions)\n",
    "    return preprocessed_text.replace(\"rt \", \"\").strip()"
   ]
  },
  {
   "cell_type": "code",
   "execution_count": 321,
   "metadata": {},
   "outputs": [],
   "source": [
    "a = \"RT Sassy? Gurls you ain't sassy. More like bitchy. #MKR\""
   ]
  },
  {
   "cell_type": "code",
   "execution_count": 322,
   "metadata": {},
   "outputs": [
    {
     "data": {
      "text/plain": [
       "'sassy gurls sassy like bitchy mkr'"
      ]
     },
     "execution_count": 322,
     "metadata": {},
     "output_type": "execute_result"
    }
   ],
   "source": [
    "text_cleaning(a)"
   ]
  },
  {
   "cell_type": "code",
   "execution_count": null,
   "metadata": {},
   "outputs": [],
   "source": []
  },
  {
   "cell_type": "markdown",
   "metadata": {},
   "source": [
    "### Gradient Boosting Decision Tree"
   ]
  },
  {
   "cell_type": "code",
   "execution_count": 323,
   "metadata": {},
   "outputs": [],
   "source": [
    "class PreProcess():\n",
    "\n",
    "    def _init_(self):\n",
    "        return\n",
    "\n",
    "    def fit( self, X, y = None ):\n",
    "        return self\n",
    "\n",
    "    def clean (self, x):\n",
    "        cleaned_text = tokenize(x)\n",
    "        return cleaned_text\n",
    "\n",
    "    def transform(self, X, y = None):\n",
    "        return X.apply(self.clean)"
   ]
  },
  {
   "cell_type": "code",
   "execution_count": 324,
   "metadata": {},
   "outputs": [],
   "source": [
    "pipe_clean = Pipeline([('clean', PreProcess()), \n",
    "                       ('tfidf', TfidfVectorizer(ngram_range = (1,2)))])"
   ]
  },
  {
   "cell_type": "code",
   "execution_count": 325,
   "metadata": {},
   "outputs": [],
   "source": [
    "gbdt = Pipeline([('pre_process', pipe_clean),\n",
    "                    ('select', SelectKBest(score_func = chi2, k = 1000)),\n",
    "                     (\"std_scaler\", StandardScaler(with_mean = False)),\n",
    "                    ('classify', GradientBoostingClassifier(n_estimators = 100, learning_rate=0.02, random_state=0))])"
   ]
  },
  {
   "cell_type": "code",
   "execution_count": 334,
   "metadata": {},
   "outputs": [
    {
     "ename": "AttributeError",
     "evalue": "'GridSearchCV' object has no attribute 'fit_transform'",
     "output_type": "error",
     "traceback": [
      "\u001b[0;31m---------------------------------------------------------------------------\u001b[0m",
      "\u001b[0;31mAttributeError\u001b[0m                            Traceback (most recent call last)",
      "\u001b[0;32m<ipython-input-334-dd868a4141ef>\u001b[0m in \u001b[0;36m<module>\u001b[0;34m\u001b[0m\n\u001b[1;32m      1\u001b[0m \u001b[0mparam_gbdt\u001b[0m \u001b[0;34m=\u001b[0m \u001b[0;34m{\u001b[0m\u001b[0;34m\"classify__max_depth\"\u001b[0m\u001b[0;34m:\u001b[0m \u001b[0;34m[\u001b[0m\u001b[0;36m1\u001b[0m\u001b[0;34m,\u001b[0m \u001b[0;36m3\u001b[0m\u001b[0;34m,\u001b[0m \u001b[0;36m6\u001b[0m\u001b[0;34m]\u001b[0m\u001b[0;34m,\u001b[0m \u001b[0;34m\"classify__n_estimators\"\u001b[0m\u001b[0;34m:\u001b[0m \u001b[0;34m[\u001b[0m\u001b[0;36m100\u001b[0m\u001b[0;34m,\u001b[0m \u001b[0;36m200\u001b[0m\u001b[0;34m]\u001b[0m\u001b[0;34m}\u001b[0m\u001b[0;34m\u001b[0m\u001b[0;34m\u001b[0m\u001b[0m\n\u001b[1;32m      2\u001b[0m \u001b[0mcv_gbdt\u001b[0m \u001b[0;34m=\u001b[0m \u001b[0mGridSearchCV\u001b[0m\u001b[0;34m(\u001b[0m\u001b[0mgbdt\u001b[0m\u001b[0;34m,\u001b[0m \u001b[0mparam_gbdt\u001b[0m\u001b[0;34m,\u001b[0m \u001b[0mcv\u001b[0m\u001b[0;34m=\u001b[0m\u001b[0;36m10\u001b[0m\u001b[0;34m,\u001b[0m \u001b[0mscoring\u001b[0m\u001b[0;34m=\u001b[0m\u001b[0;34m\"f1_weighted\"\u001b[0m\u001b[0;34m)\u001b[0m\u001b[0;34m\u001b[0m\u001b[0;34m\u001b[0m\u001b[0m\n\u001b[0;32m----> 3\u001b[0;31m \u001b[0mcv_gbdt\u001b[0m\u001b[0;34m.\u001b[0m\u001b[0mfit_transform\u001b[0m\u001b[0;34m(\u001b[0m\u001b[0mX_train\u001b[0m\u001b[0;34m,\u001b[0m \u001b[0my_train\u001b[0m\u001b[0;34m)\u001b[0m\u001b[0;34m\u001b[0m\u001b[0;34m\u001b[0m\u001b[0m\n\u001b[0m",
      "\u001b[0;31mAttributeError\u001b[0m: 'GridSearchCV' object has no attribute 'fit_transform'"
     ]
    }
   ],
   "source": [
    "param_gbdt = {\"classify__max_depth\": [1, 3, 6], \"classify__n_estimators\": [100, 200]}\n",
    "cv_gbdt = GridSearchCV(gbdt, param_gbdt, cv=10, scoring=\"f1_weighted\")\n",
    "cv_gbdt.fit(X_train, y_train)"
   ]
  },
  {
   "cell_type": "code",
   "execution_count": 338,
   "metadata": {},
   "outputs": [],
   "source": [
    "gbdt_model = gbdt.fit(X_train, y_train)"
   ]
  },
  {
   "cell_type": "code",
   "execution_count": 327,
   "metadata": {},
   "outputs": [
    {
     "data": {
      "text/plain": [
       "{'classify__max_depth': 6, 'classify__n_estimators': 200}"
      ]
     },
     "execution_count": 327,
     "metadata": {},
     "output_type": "execute_result"
    }
   ],
   "source": [
    "cv_gbdt.best_params_"
   ]
  },
  {
   "cell_type": "code",
   "execution_count": 328,
   "metadata": {},
   "outputs": [
    {
     "data": {
      "text/plain": [
       "0.8238812455261723"
      ]
     },
     "execution_count": 328,
     "metadata": {},
     "output_type": "execute_result"
    }
   ],
   "source": [
    "cv_gbdt.best_score_"
   ]
  },
  {
   "cell_type": "code",
   "execution_count": 329,
   "metadata": {},
   "outputs": [],
   "source": [
    "y_pred_gbdt = cv_gbdt.predict(X_test)"
   ]
  },
  {
   "cell_type": "code",
   "execution_count": 339,
   "metadata": {},
   "outputs": [
    {
     "data": {
      "text/plain": [
       "['gbdt.pkl']"
      ]
     },
     "execution_count": 339,
     "metadata": {},
     "output_type": "execute_result"
    }
   ],
   "source": [
    "dump(gbdt_model, 'gbdt.pkl')"
   ]
  },
  {
   "cell_type": "code",
   "execution_count": 45,
   "metadata": {},
   "outputs": [
    {
     "data": {
      "text/plain": [
       "0.8296307924385421"
      ]
     },
     "execution_count": 45,
     "metadata": {},
     "output_type": "execute_result"
    }
   ],
   "source": [
    "from sklearn.metrics import f1_score\n",
    "f1_score(y_test, y_pred, average = 'weighted')"
   ]
  },
  {
   "cell_type": "code",
   "execution_count": 46,
   "metadata": {},
   "outputs": [
    {
     "data": {
      "text/plain": [
       "array([1])"
      ]
     },
     "execution_count": 46,
     "metadata": {},
     "output_type": "execute_result"
    }
   ],
   "source": [
    "cv_gbdt.predict(pd.Series('the bitch'))"
   ]
  },
  {
   "cell_type": "code",
   "execution_count": 47,
   "metadata": {},
   "outputs": [
    {
     "data": {
      "image/png": "[encoded data removed]",
      "text/plain": [
       "<Figure size 432x288 with 2 Axes>"
      ]
     },
     "metadata": {
      "needs_background": "light"
     },
     "output_type": "display_data"
    }
   ],
   "source": [
    "plot_confusion_matrix(cv_gbdt, X_test, y_test, normalize='true', cmap=plt.cm.Blues,\n",
    "                      display_labels=['neither','racism','sexism'])\n",
    "plt.title('Confusion Matrix')\n",
    "#plt.savefig('figure_3.png', dpi=200, transparent=True)\n",
    "plt.show()"
   ]
  },
  {
   "cell_type": "code",
   "execution_count": 142,
   "metadata": {},
   "outputs": [
    {
     "name": "stdout",
     "output_type": "stream",
     "text": [
      "              precision    recall  f1-score   support\n",
      "\n",
      "           0       0.63      0.93      0.75      1689\n",
      "           1       0.97      0.89      0.93      3869\n",
      "           2       0.85      0.56      0.68      1359\n",
      "\n",
      "    accuracy                           0.83      6917\n",
      "   macro avg       0.82      0.79      0.79      6917\n",
      "weighted avg       0.86      0.83      0.83      6917\n",
      "\n"
     ]
    }
   ],
   "source": [
    "print(classification_report(y_test,y_pred_gbdt))"
   ]
  },
  {
   "cell_type": "markdown",
   "metadata": {},
   "source": [
    "## Neural Network method"
   ]
  },
  {
   "cell_type": "code",
   "execution_count": null,
   "metadata": {},
   "outputs": [],
   "source": []
  },
  {
   "cell_type": "markdown",
   "metadata": {},
   "source": [
    "#### Use pre-trained GloVe"
   ]
  },
  {
   "cell_type": "code",
   "execution_count": 182,
   "metadata": {},
   "outputs": [
    {
     "name": "stdout",
     "output_type": "stream",
     "text": [
      "Loaded 1193514 word vectors.\n"
     ]
    }
   ],
   "source": [
    "embeddings_index = dict()\n",
    "\n",
    "# load the whole embedding into memory\n",
    "f = open('/Volumes/DATA/UNIMI/Text Mining and Sentiment Analysis/Sentiment Analysis/glove.twitter.27B/glove.twitter.27B.200d.txt', encoding=\"utf8\")\n",
    "for line in f:\n",
    "    values = line.split()\n",
    "    word = values[0]\n",
    "    coefs = np.asarray(values[1:], dtype='float32')\n",
    "    embeddings_index[word] = coefs\n",
    "f.close()\n",
    "print('Loaded %s word vectors.' % len(embeddings_index))"
   ]
  },
  {
   "cell_type": "code",
   "execution_count": 183,
   "metadata": {},
   "outputs": [
    {
     "data": {
      "text/plain": [
       "(34585,)"
      ]
     },
     "execution_count": 183,
     "metadata": {},
     "output_type": "execute_result"
    }
   ],
   "source": [
    "X.shape"
   ]
  },
  {
   "cell_type": "code",
   "execution_count": 271,
   "metadata": {},
   "outputs": [],
   "source": [
    "X = pd.Series(X).map(lambda x: text_cleaning(x))\n",
    "X_data = X\n",
    "y_data = y"
   ]
  },
  {
   "cell_type": "code",
   "execution_count": 272,
   "metadata": {},
   "outputs": [
    {
     "data": {
      "text/plain": [
       "34585"
      ]
     },
     "execution_count": 272,
     "metadata": {},
     "output_type": "execute_result"
    }
   ],
   "source": [
    "len(X)"
   ]
  },
  {
   "cell_type": "code",
   "execution_count": 186,
   "metadata": {},
   "outputs": [],
   "source": [
    "tokenizer = Tokenizer()\n",
    "tokenizer.fit_on_texts(X)\n",
    "sequences = tokenizer.texts_to_sequences(X)\n",
    "word_index = tokenizer.word_index\n",
    "X = pad_sequences(sequences, maxlen=120)\n",
    "y = (np.asarray(y))\n",
    "X_train, X_test, y_train, y_test = train_test_split(X, y, test_size=0.20, random_state=42)"
   ]
  },
  {
   "cell_type": "code",
   "execution_count": 187,
   "metadata": {},
   "outputs": [
    {
     "data": {
      "text/plain": [
       "[[77, 2, 19, 69, 967, 1124, 286],\n",
       " [2, 180, 5, 8488, 12239, 12240, 438, 129, 161, 16, 8489],\n",
       " [12241],\n",
       " [84, 1812, 89, 9, 1813, 67, 67, 3116, 1514, 3413],\n",
       " [35, 520, 41, 116, 28, 520, 6699, 1125, 364, 3],\n",
       " [39, 1, 3117, 50],\n",
       " [12242, 9, 7, 354, 12243, 152],\n",
       " [2660, 4811, 6],\n",
       " [1095,\n",
       "  20,\n",
       "  3753,\n",
       "  143,\n",
       "  531,\n",
       "  2881,\n",
       "  1014,\n",
       "  355,\n",
       "  66,\n",
       "  1460,\n",
       "  289,\n",
       "  1348,\n",
       "  12244,\n",
       "  347,\n",
       "  8490],\n",
       " [8491, 8],\n",
       " [2348, 4200, 766, 1397, 4201],\n",
       " [2, 5, 87, 12245],\n",
       " [],\n",
       " [3754, 17, 634, 550, 165, 613, 387],\n",
       " [787, 6],\n",
       " [27, 540, 9, 127, 221, 540, 9, 127, 418, 1254, 280, 348],\n",
       " [31, 914, 5550, 388, 140, 2500, 5, 581, 439],\n",
       " [6, 268],\n",
       " [257, 1304, 152],\n",
       " [191, 569, 12, 5, 8492, 49],\n",
       " [2, 12246, 18, 35, 12247, 4, 254, 12248, 1515],\n",
       " [3414, 3414, 3, 12249],\n",
       " [47, 30, 124, 5551, 1126, 3118],\n",
       " [10, 5552, 2, 152, 242, 476, 15],\n",
       " [2, 304, 1, 89, 13],\n",
       " [39, 73, 108, 570, 60, 48, 724, 163, 60, 1349, 158, 33],\n",
       " [238, 94, 20, 3415, 2501, 1127, 3, 477],\n",
       " [3119,\n",
       "  6700,\n",
       "  1658,\n",
       "  489,\n",
       "  2349,\n",
       "  24,\n",
       "  521,\n",
       "  7,\n",
       "  101,\n",
       "  857,\n",
       "  2,\n",
       "  1658,\n",
       "  101,\n",
       "  857,\n",
       "  11,\n",
       "  602,\n",
       "  6701],\n",
       " [9, 4202, 3755],\n",
       " [72, 28, 490, 1398, 1, 15],\n",
       " [39, 12, 8493, 3416, 2882, 336, 40, 686, 78],\n",
       " [140, 1056, 2883, 21, 635, 12250],\n",
       " [2005, 12251, 12252, 12253, 676],\n",
       " [4, 326, 1, 1057],\n",
       " [12254, 2092, 12255, 1056, 6702, 181, 5553],\n",
       " [331, 8, 2, 788, 1904, 826, 788, 1904, 826, 2, 788, 58, 376],\n",
       " [2884, 12256, 20, 127, 412, 35, 1],\n",
       " [110, 11, 108],\n",
       " [243, 1583, 46, 1, 27],\n",
       " [423, 269, 5, 1163],\n",
       " [532, 1659, 309, 6, 22, 117, 562, 60, 50],\n",
       " [1255, 1],\n",
       " [968, 170],\n",
       " [140],\n",
       " [687, 401, 471, 5554, 3],\n",
       " [876, 55, 7, 1164, 1096, 327, 229],\n",
       " [3, 25, 401, 12257, 4, 54, 78, 4203, 446, 1723],\n",
       " [6, 695, 85],\n",
       " [75, 14, 50, 59, 23, 332, 402, 813, 677, 179, 191, 1905, 12258],\n",
       " [130, 206],\n",
       " [51, 1],\n",
       " [478, 126, 1058, 1516, 7, 2, 203],\n",
       " [2, 1814, 1015, 5, 1815, 219, 48, 2093, 8494, 61, 13],\n",
       " [590, 1399],\n",
       " [37, 1],\n",
       " [77, 118, 258, 11],\n",
       " [858, 2502, 2094, 2202, 2661, 252, 4812, 17],\n",
       " [1724, 1],\n",
       " [31, 103, 12, 305, 16, 4813, 940, 86, 2662, 173],\n",
       " [30, 239, 6703, 8, 2095, 12259, 707],\n",
       " [1, 126, 859, 163, 4, 1, 1216, 2, 4814, 290, 117],\n",
       " [540, 1350, 5, 540, 4, 991, 307, 1725, 2006, 1726, 66, 827, 591, 12260],\n",
       " [463, 76, 3417, 1584],\n",
       " [247, 1, 32, 3756, 4, 22, 83, 6704],\n",
       " [3120, 1059, 2503, 395, 2504, 1400, 389, 257, 158],\n",
       " [969, 8],\n",
       " [88, 491, 1660, 4815, 45, 86, 310, 1906, 992, 214, 4, 4204, 3418],\n",
       " [4205, 5],\n",
       " [1585, 203, 76, 9, 724, 1816, 4816, 1165, 42, 127, 174],\n",
       " [159, 4, 2203, 89, 1661, 2203, 6, 2660, 4811],\n",
       " [1, 464, 377, 78],\n",
       " [1, 2204, 333, 12261, 465, 331, 248, 104, 1],\n",
       " [12262, 12263, 54, 678, 12264, 348],\n",
       " [27, 418, 121, 32, 1583, 5, 2350, 255, 4, 283],\n",
       " [140, 9, 1586, 41, 3],\n",
       " [1, 396],\n",
       " [152],\n",
       " [860],\n",
       " [8495, 12265, 229, 234, 1, 993],\n",
       " [2, 175, 2205, 8496, 2663, 1907, 1908, 220, 298, 3, 3],\n",
       " [10, 232, 8, 2351],\n",
       " [2, 21, 31, 338, 3419, 80, 47, 4, 320],\n",
       " [15, 12266, 5, 12267],\n",
       " [6705, 83, 12268, 1, 9, 12269, 12270, 121],\n",
       " [5555, 603, 2096, 80, 26, 541, 789],\n",
       " [2, 194, 12271, 12272, 58, 17, 679, 216, 4817, 44, 877, 4818, 413],\n",
       " [429, 43, 12273, 403, 43, 356, 1, 3757, 140, 191, 9, 767],\n",
       " [83, 332, 12, 8497, 4206, 6706, 502],\n",
       " [3420, 1],\n",
       " [5, 696],\n",
       " [1217, 563, 725, 58, 6707, 389, 8498, 533, 6708, 12274, 6709, 12275, 592],\n",
       " [23, 170, 447, 91, 265, 170, 3121, 1, 11],\n",
       " [970, 12276, 614, 878, 1217, 3421, 3422, 12277, 12278, 878],\n",
       " [11, 12279, 3423, 12280, 879],\n",
       " [8499, 6710, 5556, 8500],\n",
       " [216, 449, 10, 6, 121],\n",
       " [39, 1, 6711, 463, 380],\n",
       " [1517, 54, 1],\n",
       " [84, 3122, 180, 1401, 4207, 22, 156, 67, 542, 2885, 88],\n",
       " [357, 1816, 94, 12281, 323, 814, 1, 310, 343],\n",
       " [543, 9, 662, 4208, 20, 36, 1060, 131, 790],\n",
       " [132, 1, 12282, 147, 9, 2206, 326],\n",
       " [708, 132, 159, 5557, 214, 12283],\n",
       " [1, 3424, 1817],\n",
       " [737, 1, 276],\n",
       " [296,\n",
       "  4819,\n",
       "  5,\n",
       "  726,\n",
       "  12,\n",
       "  8501,\n",
       "  12284,\n",
       "  270,\n",
       "  5558,\n",
       "  3425,\n",
       "  4209,\n",
       "  8502,\n",
       "  12285,\n",
       "  12286,\n",
       "  270],\n",
       " [17, 126],\n",
       " [140, 2352, 1, 39, 97, 11, 10, 789],\n",
       " [239, 941, 8503, 306, 325, 440, 12287, 54],\n",
       " [2, 21, 6712, 19, 9, 12288, 48, 207, 1061, 2353, 1351],\n",
       " [128, 1, 12, 2, 915, 1352, 15],\n",
       " [4210, 4211, 261, 2097, 2886, 17],\n",
       " [636, 1727, 107, 4212, 582, 383],\n",
       " [12289, 5559, 414, 16, 12, 164, 709, 4820, 4213, 62],\n",
       " [1662, 35, 1, 1402, 6713, 271],\n",
       " [204, 3, 43, 41, 653, 4, 1818, 183, 1],\n",
       " [209, 899, 127, 3123, 640, 24, 415, 1403, 12290, 12291, 1663],\n",
       " [63, 12292, 22, 3, 12293],\n",
       " [4821, 544, 63, 2354, 4821, 544, 6],\n",
       " [102, 94, 1062, 2098, 47, 4, 815, 466, 8504, 4822],\n",
       " [39, 791, 11, 16, 34, 121, 331, 91, 18, 7, 167],\n",
       " [880, 35, 1, 3124, 404, 1909, 12294, 12295, 12296, 3124],\n",
       " [300, 9, 1518, 8505, 3125, 195, 13, 39, 300, 430, 283, 6],\n",
       " [8506, 1],\n",
       " [1659, 146, 1, 72, 36, 8507, 1061],\n",
       " [41, 390, 727, 593, 2099, 3],\n",
       " [1, 4214, 697, 3758],\n",
       " [75, 39, 12297, 142, 167],\n",
       " [32, 881, 4, 1016, 12298, 457, 6714, 8508],\n",
       " [29, 12299, 146, 58, 17, 146, 397, 58, 17, 551, 1819],\n",
       " [6, 12300, 30, 2, 83, 5560, 6, 17],\n",
       " [3, 1587, 6715, 349, 328, 728, 36, 174, 492, 3126, 3127, 543, 367, 10],\n",
       " [653, 1353, 32, 1910, 278, 60, 12301, 165, 8509],\n",
       " [3, 298, 3759, 204, 34, 768, 117, 144, 16, 571, 12302],\n",
       " [12303, 1728, 4823, 9],\n",
       " [56, 70, 1, 12304],\n",
       " [26, 2, 90, 813, 513],\n",
       " [131, 117],\n",
       " [769,\n",
       "  6716,\n",
       "  6717,\n",
       "  12305,\n",
       "  3760,\n",
       "  5561,\n",
       "  12306,\n",
       "  12307,\n",
       "  6717,\n",
       "  6716,\n",
       "  6718,\n",
       "  12308,\n",
       "  12309,\n",
       "  12310,\n",
       "  769,\n",
       "  6716,\n",
       "  769],\n",
       " [604, 83, 12311, 583, 190, 1354, 3426, 32, 1063, 344, 1911, 291, 233, 1256],\n",
       " [419,\n",
       "  695,\n",
       "  942,\n",
       "  230,\n",
       "  3128,\n",
       "  770,\n",
       "  564,\n",
       "  9,\n",
       "  1588,\n",
       "  208,\n",
       "  317,\n",
       "  161,\n",
       "  1257,\n",
       "  92,\n",
       "  4215,\n",
       "  317,\n",
       "  161,\n",
       "  10,\n",
       "  8510,\n",
       "  82,\n",
       "  6719,\n",
       "  311],\n",
       " [222, 1, 61, 25, 792, 244, 12312],\n",
       " [222, 301, 192, 793, 2355, 62, 440, 304, 24, 12313, 16, 1],\n",
       " [441, 6, 472, 1305, 4824, 91, 85, 1664, 8],\n",
       " [54, 1, 16, 1355, 14],\n",
       " [98, 37, 321, 109, 405, 41, 593, 23, 3, 1],\n",
       " [5, 16, 562, 16, 1820],\n",
       " [84, 1, 571, 2505, 34, 2007, 514, 3129, 179, 3761, 1306, 215],\n",
       " [4216, 6720, 122],\n",
       " [552, 4217, 8511, 8512, 4825, 3],\n",
       " [83, 174, 916, 14, 4218, 1],\n",
       " [431, 12314],\n",
       " [1, 11, 4, 4826, 2100, 1665, 12315],\n",
       " [418, 6721, 83, 816, 5562, 8513, 12316, 2101, 12317, 752, 6722],\n",
       " [12318, 3427, 2008, 2356, 28, 6723, 312, 2887, 8514, 794, 2006],\n",
       " [1166, 40, 1031, 1],\n",
       " [227, 6724, 1],\n",
       " [48, 8515, 12319, 2506, 5563, 2009, 2, 130],\n",
       " [38, 1258, 55, 109, 7],\n",
       " [250, 12320, 71, 1097, 7, 1097, 7, 15],\n",
       " [16, 3, 349],\n",
       " [18, 18, 18, 1729, 12, 654, 5, 242, 12, 89],\n",
       " [88, 130, 12321, 1589, 389, 5564, 6725],\n",
       " [1404, 729, 3],\n",
       " [917, 154, 125, 4, 168, 4, 278, 5565, 2888, 15],\n",
       " [27, 61, 5, 259],\n",
       " [8516, 24, 2, 147, 95, 12322, 753],\n",
       " [88, 2889, 5566, 30, 2664, 578, 114, 1, 14],\n",
       " [210, 202, 291, 84, 1, 38, 291, 84, 154],\n",
       " [3762, 217, 155, 155, 155, 2, 10, 109, 33, 8517, 1666, 12323, 5567, 255],\n",
       " [861, 3428, 49, 450, 3428, 292, 67, 522],\n",
       " [455, 2, 22, 12324, 70, 1, 49],\n",
       " [1519, 8518, 4827],\n",
       " [15, 250, 51, 21, 424, 182, 52, 43, 308, 338, 15],\n",
       " [738, 12325, 200, 136, 739, 12326],\n",
       " [58, 17, 19, 51, 8519, 12327, 12328, 5568],\n",
       " [1405,\n",
       "  73,\n",
       "  325,\n",
       "  1,\n",
       "  102,\n",
       "  1128,\n",
       "  244,\n",
       "  147,\n",
       "  321,\n",
       "  1520,\n",
       "  12329,\n",
       "  1098,\n",
       "  71,\n",
       "  82,\n",
       "  104,\n",
       "  13],\n",
       " [5569, 235, 971, 242, 235, 108],\n",
       " [54, 8, 42, 50, 232, 229, 403, 50, 18, 12330, 8520],\n",
       " [5570, 2665, 183, 1],\n",
       " [8521, 206, 3763, 1032, 4828, 3764],\n",
       " [27, 17, 416],\n",
       " [176, 125, 12],\n",
       " [373, 3429],\n",
       " [1, 224, 286, 620],\n",
       " [918, 1, 4, 358, 2666, 12, 13, 553, 9, 8522, 8, 329],\n",
       " [423, 35, 8],\n",
       " [12331, 503, 82, 1, 1912, 50, 138, 413, 330, 232, 2507, 900, 13],\n",
       " [90, 1307, 1590, 305, 8523, 3765, 131, 123, 3130, 249, 390],\n",
       " [68, 83, 479, 969, 12332, 584, 472, 663, 4],\n",
       " [288, 442, 281, 572, 1, 69, 654, 2102, 1218, 4, 1],\n",
       " [21, 12333, 12334, 5571, 842, 12335, 5572, 1099],\n",
       " [],\n",
       " [3766, 1521, 3766, 3766, 1521, 3766, 140, 1, 8524, 8524, 1167, 641, 8525, 6],\n",
       " [10, 201, 876, 515, 1, 54, 2890],\n",
       " [1517, 12336, 300],\n",
       " [6726, 11, 6, 26, 359, 61, 504, 562, 4, 162, 276, 7, 1100, 339],\n",
       " [4829, 2508, 2357, 77, 4219, 3],\n",
       " [5, 4],\n",
       " [41, 3, 245, 72, 20, 311, 398, 12337],\n",
       " [7],\n",
       " [1259, 771, 262, 10, 7, 150, 5573],\n",
       " [2, 51, 391, 450, 171, 1219, 38, 688, 8, 13],\n",
       " [2, 21, 710, 8526, 12338, 31, 12339, 680],\n",
       " [50, 59, 34, 47, 4, 297, 4830, 206, 1591, 12340, 584, 919, 18],\n",
       " [4220, 10, 6, 918, 430, 6],\n",
       " [17],\n",
       " [2891, 373, 10, 1913, 1821, 102, 12341, 20, 340, 112, 4221],\n",
       " [8, 19, 404],\n",
       " [48, 2, 190, 3430, 3431, 1, 12, 16],\n",
       " [480, 108],\n",
       " [63, 12342, 12343, 12344, 8527, 4222, 1168],\n",
       " [1101, 309, 233, 39, 293, 6727, 534],\n",
       " [97, 12, 30, 280, 1406, 1407, 254, 2667, 12, 19, 18, 334],\n",
       " [84, 1822, 6728, 88, 2358],\n",
       " [12345, 12346, 12347, 12348, 1823, 861, 271, 169, 1169, 740],\n",
       " [87, 664, 57],\n",
       " [1, 182, 943, 1308],\n",
       " [464, 36],\n",
       " [23, 3],\n",
       " [8, 147, 2668, 172, 972, 11, 1, 12, 365],\n",
       " [16, 127, 2207, 138, 111, 2, 190, 6729, 4223, 1914, 16, 5574, 1667, 365],\n",
       " [225, 481, 73, 2892, 5, 12349],\n",
       " [12350, 12351, 259, 3432, 6730, 1, 12352, 1033, 2509],\n",
       " [698, 20, 3767, 155, 1915, 2, 4224, 1034],\n",
       " [1102, 4831, 4832, 6731, 8528, 12353, 699, 464, 3131],\n",
       " [1916, 8529, 12354, 12355, 2010, 2359, 8530, 2009, 2669],\n",
       " [1, 9, 6732, 1917, 250],\n",
       " [79, 10, 5, 1405, 497],\n",
       " [16, 83, 201, 47, 12356, 187, 68, 112, 15],\n",
       " [16, 14, 2, 6733, 12357, 542, 250, 564, 162, 11, 1, 40, 54, 13],\n",
       " [1, 516, 4, 541, 1592, 12358, 1917, 12359, 4225, 1356, 772, 1164],\n",
       " [503, 28, 402, 35, 1, 83, 28, 52, 35, 4833],\n",
       " [2670, 33, 4226, 208, 159, 2671],\n",
       " [698, 96, 12360, 26, 9, 1586, 134, 5575, 420, 12361, 12362, 8531],\n",
       " [73, 14, 2510, 12363, 25, 57, 11, 2360, 1911, 3433, 1220, 472, 16, 184],\n",
       " [306, 52, 345, 170, 69, 20, 69, 44, 32, 18, 345, 173, 12364],\n",
       " [1522, 20, 62, 257, 8532, 350, 8, 741],\n",
       " [7, 200, 993, 4227],\n",
       " [738, 3434, 1, 3434, 87, 655, 118, 8533],\n",
       " [465, 157, 19, 9, 944, 2893, 323, 1309, 1593, 700, 3768, 2103, 3435, 1],\n",
       " [70, 118, 366, 210],\n",
       " [10, 2361, 7, 20, 36, 1, 79, 973, 85, 4834, 2672],\n",
       " [12365, 19, 115, 1408, 50, 842, 61, 1824, 6734, 148],\n",
       " [5576, 12366, 508, 1357, 1594, 137, 11, 6],\n",
       " [28, 20, 152, 167],\n",
       " [2, 1064, 28, 106, 1, 3769],\n",
       " [216, 68, 23, 104, 1, 974],\n",
       " [27, 195, 12, 128, 14, 1, 967, 1, 128, 14, 1],\n",
       " [73, 882, 55, 4228, 12367, 206, 6, 6735, 12368],\n",
       " [2, 615, 8534, 5577, 250, 83, 83, 3],\n",
       " [395, 492, 3126, 1918, 3, 5578, 6736, 6737],\n",
       " [1523, 12369, 994, 5579, 3],\n",
       " [149, 166, 8, 2, 522, 257, 233],\n",
       " [5, 817, 86, 75, 240, 368, 12370, 15],\n",
       " [1730, 4229, 4835, 1358, 37, 2208, 1017, 1017, 330, 12371, 6738, 637, 28],\n",
       " [5580, 168, 711, 3],\n",
       " [3, 1170],\n",
       " [738, 2511, 6739, 2511, 8535, 1],\n",
       " [39, 1, 47, 4, 12372],\n",
       " [482, 712, 5, 26, 10, 11, 1260],\n",
       " [4826, 1164, 218, 1065],\n",
       " [1129, 110, 995, 2209, 94, 425, 2210, 3],\n",
       " [975, 6740, 3436, 31, 4836, 77, 6741, 5581, 31],\n",
       " [45, 1, 4, 828, 106, 3132],\n",
       " [12, 1, 99, 996, 1587],\n",
       " [1018, 46, 3],\n",
       " [5582, 1588, 2512, 573, 317, 8],\n",
       " [26, 36, 9, 1586, 364, 994, 364, 920, 3],\n",
       " [8536, 193, 129, 124, 4837, 4838, 4230, 730, 8537, 12373, 1409, 3770, 2673],\n",
       " [154, 20, 93, 663, 38, 21, 203],\n",
       " [3437, 42, 4231, 33, 540, 2, 1, 2362],\n",
       " [32, 272, 29, 5583, 13, 17],\n",
       " [59, 5584, 1350, 4839, 8538, 4840, 24, 8539, 6742, 3771, 6743, 8540, 829],\n",
       " [25, 2211, 997, 3],\n",
       " [1407, 2513, 883, 4, 97, 1],\n",
       " [142, 219, 1583, 1, 6744, 46, 698, 12374, 535],\n",
       " [1, 2, 4841, 8],\n",
       " [1, 8541, 20, 36],\n",
       " [139, 426, 373, 4842, 1, 18, 2, 139, 2, 1595],\n",
       " [75, 66, 2, 12375, 5, 481],\n",
       " [133, 93, 68, 31, 642, 305, 191, 505, 8542, 945],\n",
       " [973, 12376],\n",
       " [1, 53, 731, 117, 517],\n",
       " [12377, 6745, 10, 145, 180, 2674, 4, 1],\n",
       " [712, 44, 10, 23, 446, 1221, 7],\n",
       " [643, 946, 171, 137, 5, 93, 4],\n",
       " [1, 14, 5585, 2663],\n",
       " [2, 21, 45, 1035, 44, 164, 308, 330, 26, 12378, 5586],\n",
       " [232, 616, 12379, 54, 78, 13, 17],\n",
       " [6],\n",
       " [1359, 1668],\n",
       " [20, 143, 19, 1103, 12380, 443, 4232, 6746, 214],\n",
       " [1409, 3438, 211, 75],\n",
       " [166, 152],\n",
       " [72, 36, 228, 109, 6747, 12381, 4843, 617, 2, 177, 754, 132, 195, 83, 14, 7],\n",
       " [5, 451, 2212, 741, 369, 18, 3133, 1731, 259, 3439, 1130],\n",
       " [227, 5, 175, 297],\n",
       " [8543, 4233, 356, 1],\n",
       " [175, 901, 6748, 6749, 771, 49, 34, 439, 755, 12382],\n",
       " [52, 1825, 187, 125, 273, 220, 471, 1131, 187, 103, 312],\n",
       " [998, 8544, 1036, 2363, 225, 12383],\n",
       " [2, 139, 8545, 2894, 6750, 2213, 155, 5587, 28, 1360],\n",
       " [40, 12, 1],\n",
       " [552, 565, 12384, 4844, 6751, 3],\n",
       " [],\n",
       " [8546, 8547, 1596, 73, 6752, 219, 61, 131, 1261, 545, 6753, 1669, 1905],\n",
       " [35, 1, 412, 4234, 23],\n",
       " [223, 148, 15],\n",
       " [2011, 36, 1524, 444, 444, 256, 209, 591, 5588, 1171, 1525],\n",
       " [2012, 42, 4845, 2104],\n",
       " [5589, 1],\n",
       " [12385, 818, 3],\n",
       " [1825, 6754, 251, 284, 12386, 8548, 7, 585, 86, 2675],\n",
       " [1, 25],\n",
       " [2, 1166, 90, 39, 506, 1, 12387],\n",
       " [337, 34, 1310, 139, 34, 8, 999, 1670, 621, 27, 819, 6, 60, 20, 730],\n",
       " [29, 523],\n",
       " [602, 1, 1410],\n",
       " [1311, 2013, 974],\n",
       " [815, 28, 69, 2514, 318, 605, 489, 26, 3],\n",
       " [208, 222, 34, 4235, 15],\n",
       " [377, 8549, 1919, 24, 160, 478, 4236, 820, 6755, 1132, 17],\n",
       " [26, 35, 1, 6756],\n",
       " [110, 130],\n",
       " [1133, 11, 1, 195, 232, 1017, 254, 34, 13],\n",
       " [61, 274, 2013, 4237, 38, 299, 50, 78, 2895],\n",
       " [266, 102, 67, 542, 5590, 857, 261, 3],\n",
       " [1461, 12388],\n",
       " [754, 274, 1060, 921, 1172, 432],\n",
       " [1411, 1261, 33, 299, 208, 23, 179, 321, 2515, 231, 9, 307, 3134],\n",
       " [1104, 1732, 12, 51, 21, 86, 9, 2676, 46, 2214],\n",
       " [166, 12, 97, 1],\n",
       " [8550, 1, 1037],\n",
       " [1312, 6, 919, 493],\n",
       " [1038, 1],\n",
       " [260, 947, 76, 51, 9, 13],\n",
       " [3135, 8551, 12389, 12390, 2364, 86, 795, 18, 281, 2215],\n",
       " [7, 622, 8552, 2365, 5591],\n",
       " [10, 32, 618, 1, 50, 458, 224, 4846, 713, 42, 594, 233],\n",
       " [],\n",
       " [12391, 1, 606, 796, 830],\n",
       " [18, 562, 1403, 150, 15, 30, 5],\n",
       " [732, 4238, 8553, 6757],\n",
       " [4, 4239, 55, 25, 6],\n",
       " [90, 7],\n",
       " [2014, 25, 701, 2516, 2516],\n",
       " [15, 166, 3772, 1173, 22, 8554, 2, 28],\n",
       " [3440,\n",
       "  12392,\n",
       "  12393,\n",
       "  769,\n",
       "  12394,\n",
       "  3440,\n",
       "  8555,\n",
       "  4240,\n",
       "  12395,\n",
       "  3136,\n",
       "  2517,\n",
       "  2216,\n",
       "  2517,\n",
       "  8555,\n",
       "  5592,\n",
       "  3441,\n",
       "  2,\n",
       "  153,\n",
       "  2517,\n",
       "  2216,\n",
       "  5592,\n",
       "  3441,\n",
       "  2],\n",
       " [31, 623, 12396, 1733, 7],\n",
       " [12, 73, 1, 26, 467],\n",
       " [1517, 8556, 2015, 100, 1],\n",
       " [12397, 1222, 19, 8557, 6758, 1313, 173],\n",
       " [2, 21, 202, 155, 1412, 862, 31, 1412, 259, 862, 914],\n",
       " [2, 524, 6, 843],\n",
       " [3442, 8558, 2366, 1826, 481, 214, 5, 566, 28],\n",
       " [327, 4, 302, 5, 64, 22, 9, 5],\n",
       " [517, 178, 8],\n",
       " [12, 1, 51, 1019],\n",
       " [41, 546, 401, 665, 417, 149, 3],\n",
       " [103, 8, 1066],\n",
       " [282, 1134, 1597, 161, 47, 12398, 5, 177, 59],\n",
       " [2, 21, 31, 1000, 1223],\n",
       " [992, 1224, 29, 58, 136, 289, 131, 624, 8559, 12399, 77, 2677, 374],\n",
       " [3, 522, 2518, 253, 77, 297, 341, 332, 1462, 8560],\n",
       " [12400, 188, 41, 116, 8561, 976, 2896, 12401, 3],\n",
       " [216, 3416, 4, 1463, 1],\n",
       " [5, 32, 12402, 10, 6],\n",
       " [1169, 92, 4241, 4, 34, 536, 5593],\n",
       " [51, 137, 3443, 12403, 5, 4, 51, 537, 46],\n",
       " [6759, 8562, 345, 3759, 473, 8563, 23, 4242],\n",
       " [2217,\n",
       "  6760,\n",
       "  8,\n",
       "  8564,\n",
       "  81,\n",
       "  2217,\n",
       "  6760,\n",
       "  22,\n",
       "  5594,\n",
       "  742,\n",
       "  2217,\n",
       "  6760,\n",
       "  479,\n",
       "  2016,\n",
       "  977],\n",
       " [525,\n",
       "  82,\n",
       "  6761,\n",
       "  433,\n",
       "  1,\n",
       "  3756,\n",
       "  526,\n",
       "  309,\n",
       "  3756,\n",
       "  92,\n",
       "  303,\n",
       "  636,\n",
       "  8565,\n",
       "  30,\n",
       "  118,\n",
       "  6761,\n",
       "  123,\n",
       "  11,\n",
       "  4847],\n",
       " [554, 644, 12404, 2897, 12405],\n",
       " [12406, 13, 1],\n",
       " [941, 30, 82, 17, 1],\n",
       " [282, 38, 666, 125, 538, 12407],\n",
       " [1361, 33, 714, 5595, 4, 2218, 1],\n",
       " [2, 420, 256, 89, 305, 1464, 1],\n",
       " [590, 2017, 1067, 6762],\n",
       " [1, 127, 1016, 14, 1016, 46],\n",
       " [2519, 6, 71, 82, 89],\n",
       " [563, 318, 18, 3],\n",
       " [113, 61, 4, 12408, 62, 787, 301, 574, 726, 107, 12409, 12410, 62],\n",
       " [86, 156, 294, 474, 1671, 21, 474, 110, 35, 555],\n",
       " [34, 1413],\n",
       " [110, 1734, 26, 5596, 978, 278, 5597, 533, 28, 263],\n",
       " [8, 2898, 303, 275, 509, 75, 4211],\n",
       " [10, 12411, 4, 1068, 1, 3444, 15],\n",
       " [193, 5, 48, 26, 3773, 4243],\n",
       " [204, 12412, 3],\n",
       " [79, 230, 17, 40, 96, 192, 3137, 522],\n",
       " [236, 62, 288, 979, 5, 3774, 1917, 95],\n",
       " [1, 18, 360],\n",
       " [483, 5598, 370, 5],\n",
       " [2899, 1, 260, 7, 11, 27, 547, 13],\n",
       " [4, 5599, 4244, 49],\n",
       " [51, 84, 57, 43, 248, 1414, 727, 30, 3130],\n",
       " [14, 10, 1526, 57, 12413, 292, 20, 172, 53, 12414, 4, 6763],\n",
       " [58, 1, 26, 1920, 2678],\n",
       " [45, 123, 3775, 45, 325, 392, 74],\n",
       " [19, 1174, 89, 17, 4],\n",
       " [526, 23, 80, 831, 451, 143, 2679],\n",
       " [39, 52, 4848, 274, 1, 370],\n",
       " [715, 181, 46, 12415, 23, 3, 3],\n",
       " [125, 6, 25, 575, 14, 4849, 53, 381],\n",
       " [348, 1134, 8566, 3138, 1598],\n",
       " [12416, 262, 2367, 12417, 2368, 5600, 653, 4, 230, 3776, 101, 1, 6764],\n",
       " [28, 7, 367, 53, 78],\n",
       " [193, 1],\n",
       " [64, 481, 6765, 8],\n",
       " [126, 22, 12418, 832, 444, 364, 1262, 61, 12419, 8567, 3, 5601],\n",
       " [5602, 33, 8568, 1],\n",
       " [5603, 2520, 8569, 977, 773, 7, 2219, 12420],\n",
       " [573, 314, 425, 5, 42, 292, 2900],\n",
       " [249, 37, 118, 255, 4, 109, 816, 12421],\n",
       " [130, 6766],\n",
       " [12422, 226, 2901, 2902, 8570, 1, 942],\n",
       " [18, 240, 5, 4, 40, 6767],\n",
       " [14, 4850, 645, 388, 1, 184],\n",
       " [45, 29, 26, 2, 145, 477, 2, 91, 252, 2, 1672, 1],\n",
       " [484, 404, 57, 184],\n",
       " [42, 23, 280, 334],\n",
       " [225, 25, 33, 109, 5, 26, 159],\n",
       " [2105, 902, 863, 434, 26, 2, 83, 3],\n",
       " [12423, 12, 433, 296],\n",
       " [30, 216, 5604],\n",
       " [4851, 12424, 12425, 6, 268],\n",
       " [12426, 3139, 1175, 33, 948, 5605, 107, 1039, 24, 48, 4852, 1105],\n",
       " [183, 2106, 774, 25, 1176, 24, 10, 133, 7],\n",
       " [2, 5606, 349, 111, 2369, 1415, 304, 864, 212, 4245, 12427, 607, 608],\n",
       " [4,\n",
       "  32,\n",
       "  1416,\n",
       "  48,\n",
       "  1527,\n",
       "  190,\n",
       "  10,\n",
       "  185,\n",
       "  95,\n",
       "  40,\n",
       "  6768,\n",
       "  3140,\n",
       "  3777,\n",
       "  76,\n",
       "  8571,\n",
       "  24,\n",
       "  12428],\n",
       " [153, 2370, 2, 10, 2220, 664, 1827, 3445, 1528],\n",
       " [45, 41, 116, 3],\n",
       " [2521, 206, 922, 92, 126, 12429, 1417, 376, 13, 12430],\n",
       " [595, 1],\n",
       " [1059, 4853, 3446, 4, 1, 11, 10, 13],\n",
       " [2903,\n",
       "  2107,\n",
       "  302,\n",
       "  1418,\n",
       "  6769,\n",
       "  59,\n",
       "  2522,\n",
       "  12431,\n",
       "  224,\n",
       "  67,\n",
       "  2904,\n",
       "  1529,\n",
       "  2905,\n",
       "  12432,\n",
       "  554,\n",
       "  3778],\n",
       " [105, 6770, 1599, 1403, 10, 2680, 396, 173, 12433],\n",
       " [63, 149, 7],\n",
       " [29, 202, 3442, 3, 5607, 364, 832, 328, 12434, 733],\n",
       " [12435, 1, 327, 4, 8572, 423, 196, 743, 9, 518, 4, 2681],\n",
       " [88, 86, 42, 61, 13, 18, 159, 4, 1828, 827, 680, 1360],\n",
       " [1, 19, 337, 12, 4246, 79, 567],\n",
       " [4247, 8573, 12436, 1911, 4248],\n",
       " [2, 10, 397, 238, 2, 2108, 973, 1069, 2679, 1735, 2371, 3141],\n",
       " [1, 2018, 221, 24, 1419, 980],\n",
       " [606, 15, 11, 15, 1],\n",
       " [22, 348],\n",
       " [5608, 860, 12437, 459, 92, 12, 22, 471, 2682, 2, 163, 1],\n",
       " [30, 45, 1, 74, 16, 949, 117, 1420, 916],\n",
       " [317, 2906, 3447, 319, 57, 11, 14, 9, 5609, 274, 2, 1530, 3779],\n",
       " [8574, 3780, 111, 92, 148],\n",
       " [138, 205, 3142, 13],\n",
       " [10, 2109, 247, 5610, 8575, 433, 10, 371, 3143, 7, 361],\n",
       " [106, 3448, 167, 9, 299, 4854, 1],\n",
       " [3781, 82, 12438, 5],\n",
       " [787, 3782, 48, 26, 51, 429, 3144],\n",
       " [775, 5611],\n",
       " [12439, 5, 254, 923, 9, 1531, 12440],\n",
       " [75, 1, 10, 12441],\n",
       " [158, 968, 776, 31, 383],\n",
       " [884, 544, 55, 6, 268, 184],\n",
       " [57],\n",
       " [1421, 3145, 17, 814, 40],\n",
       " [135, 164, 271, 1177, 1178, 8576],\n",
       " [16, 66, 36, 160, 4249, 510, 6],\n",
       " [586, 221, 176, 429, 4, 281, 5, 97, 27, 8577],\n",
       " [369, 294, 950, 3],\n",
       " [3146, 251, 6771, 186, 1526, 29, 2683, 286, 218],\n",
       " [6772, 2, 970, 4855, 2, 12442, 261],\n",
       " [88, 744, 29, 1001, 253, 8578, 32, 981, 1040, 1829, 3],\n",
       " [73, 271, 3783, 5, 4, 8579, 12443, 2907],\n",
       " [60, 138, 12444, 12445, 171, 187, 367, 2908],\n",
       " [333, 74, 1, 456, 371, 333],\n",
       " [745, 576, 3147, 556, 224, 72, 993, 2219, 2909],\n",
       " [9, 485, 5612, 12446, 12447, 12448, 625, 141, 3148, 1, 1263],\n",
       " [94, 1070, 46, 13, 1],\n",
       " [6, 268],\n",
       " [63, 8580, 43, 2523, 331, 9, 67, 1135, 998, 11, 7, 167],\n",
       " [1825, 4250, 17, 210, 968, 6773, 12449, 1179],\n",
       " [42, 64, 141, 266, 12450, 1180, 865, 389, 2903],\n",
       " [23, 1002, 365, 34, 5],\n",
       " [689, 6, 222, 16],\n",
       " [1830, 3784, 96, 1178, 8581, 19, 508, 3149, 2910, 1921],\n",
       " [309, 12451, 2911, 19, 797, 5613, 3150],\n",
       " [2019, 543, 55, 12452, 12453, 321, 131, 256],\n",
       " [165, 25, 402, 7, 78],\n",
       " [240, 41, 116, 1823, 74, 36, 8582, 372, 337, 3449, 19, 192, 77, 3],\n",
       " [815, 320, 12454, 8583, 951, 4, 2524, 5614, 8584],\n",
       " [38, 129, 153, 11, 14, 198, 153, 11, 1, 2352, 12455],\n",
       " [123, 122, 10, 99, 104, 12456, 99, 2372, 414, 256],\n",
       " [2110, 2020, 131, 1106],\n",
       " [1, 1107, 543, 287, 2684],\n",
       " [63, 10, 73, 1, 26, 10, 73, 1],\n",
       " [6774, 24, 2912, 1600, 219, 327, 445, 12457, 12458, 68, 43, 12459],\n",
       " [2021, 8, 2221, 29],\n",
       " [6775, 54, 1422, 1673, 2913, 6776, 1831],\n",
       " [220, 833, 41, 116, 844, 115, 2685, 3449, 643, 3785],\n",
       " [798, 2222, 42, 5582, 182, 197, 1736, 230, 4, 67],\n",
       " [9, 5615, 138, 2, 6777, 1],\n",
       " [523, 43, 952, 1532, 145, 124],\n",
       " [65, 1, 23, 9, 154, 4856, 5616, 98, 28, 2, 2525, 537],\n",
       " [3786, 31, 4, 6778, 12460, 60, 799, 21],\n",
       " [596, 76, 111],\n",
       " [8585, 5, 4857, 80, 6779, 27, 102, 485, 100, 119, 14, 94, 296],\n",
       " [26, 73, 2111, 4251, 12461, 8586, 12462, 3, 3787],\n",
       " [27, 644, 511, 714, 5, 1533, 1016, 4],\n",
       " [107, 451, 5617, 2223, 6780, 72, 399, 126, 4252, 451],\n",
       " [16, 493, 261, 67, 91, 87, 12463, 81, 655, 160, 1420, 2224, 6, 885],\n",
       " [2112, 8, 458, 777, 20],\n",
       " [54, 27, 35, 5, 165, 1670, 1071, 12, 24, 2022, 18, 5618, 4253],\n",
       " [4858,\n",
       "  18,\n",
       "  85,\n",
       "  3151,\n",
       "  125,\n",
       "  322,\n",
       "  12464,\n",
       "  834,\n",
       "  382,\n",
       "  62,\n",
       "  114,\n",
       "  4254,\n",
       "  114,\n",
       "  12465,\n",
       "  114,\n",
       "  114,\n",
       "  12466],\n",
       " [2225, 16, 12467, 607, 12468, 6781, 3152, 29, 111, 982],\n",
       " [4859, 4, 33, 4860, 4, 1],\n",
       " [6782, 12469, 8587, 163, 73, 4255, 20, 5619, 1423, 3450, 8588],\n",
       " [243, 12470, 543, 1922, 3788, 199, 49, 486, 1072, 11, 1],\n",
       " [1734, 6, 184],\n",
       " [12471, 12472, 578, 126, 2373, 5620, 6783],\n",
       " [4256, 1, 12473, 743, 12474, 8589, 12475, 8590],\n",
       " [45, 2914, 65, 8591, 8, 5621, 8591, 602, 7, 8592, 2915],\n",
       " [595, 468, 1, 288],\n",
       " [114, 6, 1073, 924, 92, 69, 129, 1003, 4, 79, 8, 3451, 479, 1074, 166, 191],\n",
       " [4, 1594, 12476, 29, 1075, 12477, 4861, 860, 3452, 33, 62],\n",
       " [41, 116, 6784, 15, 3],\n",
       " [250, 12478, 15, 168, 604, 3],\n",
       " [2, 20, 233],\n",
       " [102, 345, 69, 2667, 16, 1],\n",
       " [41, 710, 8531, 1108, 3, 12479],\n",
       " [232, 1, 54, 638],\n",
       " [3153, 43, 120, 2374, 646, 644, 590, 8593],\n",
       " [7, 3154, 193],\n",
       " [2916, 831, 29, 534, 1104],\n",
       " [12480, 12481, 5622, 3789, 24, 1465, 6785, 5623, 54, 2686, 5624, 8594, 8595],\n",
       " [63, 23, 9, 1424, 1136],\n",
       " [4862, 6, 915],\n",
       " [1181, 119, 1],\n",
       " [291, 8596, 2113, 22, 33, 185, 44, 2687, 32, 8596],\n",
       " [75, 8597, 2688, 2689],\n",
       " [4863, 5, 8598, 351, 5, 25, 8598],\n",
       " [335, 2917, 16, 61, 335],\n",
       " [1601, 1602],\n",
       " [58, 176, 1737, 46, 3790, 574, 83, 7, 2, 545, 27],\n",
       " [29, 43, 2114],\n",
       " [147, 327, 866, 667, 8599, 3453, 2526, 20, 12482, 38, 12483],\n",
       " [12484, 180, 2226, 4257, 1134, 131, 136, 12485],\n",
       " [9, 778, 3791, 690, 118, 771, 16, 550, 118, 613, 469, 290, 191],\n",
       " [70, 2375, 3454, 154, 697, 11, 697, 771, 1466, 6],\n",
       " [1738, 5625, 49, 6786, 1004, 945],\n",
       " [423, 1832, 12486, 6753, 6787],\n",
       " [352, 1264, 231, 1, 42, 886],\n",
       " [408, 2, 21, 42, 28, 52, 1467, 2527, 309],\n",
       " [],\n",
       " [72, 355],\n",
       " [52, 61, 267, 457, 583, 8],\n",
       " [406],\n",
       " [8600, 18, 800, 435, 58, 17],\n",
       " [1137, 12487, 359, 8601, 2115],\n",
       " [18, 5, 25],\n",
       " [180, 108, 8602, 12488, 886, 108, 242, 228, 289, 4258, 3155, 227],\n",
       " [4864, 1182, 161, 83, 79, 85, 405, 126, 4, 6, 106, 2116, 1100],\n",
       " [47, 276, 113, 32, 12489, 3792, 8],\n",
       " [1674, 450, 134, 285, 301, 713, 1, 4259, 465],\n",
       " [230, 477, 2105, 902, 307, 3],\n",
       " [1833,\n",
       "  746,\n",
       "  745,\n",
       "  1401,\n",
       "  2358,\n",
       "  1265,\n",
       "  132,\n",
       "  2690,\n",
       "  2117,\n",
       "  5626,\n",
       "  2227,\n",
       "  3455,\n",
       "  6788,\n",
       "  8603],\n",
       " [8604, 591, 195, 2118, 1165, 69, 1076, 15],\n",
       " [26, 2023, 2, 130, 2, 1020, 162],\n",
       " [196, 699, 1],\n",
       " [801, 925, 1362, 3156, 1834, 452, 4260, 2114, 12490, 3],\n",
       " [12491, 80, 9, 953, 2914, 2119, 192, 821, 20, 27, 9, 579, 287, 5],\n",
       " [126, 2918, 154, 492, 983, 3],\n",
       " [30, 926, 942, 1257, 8],\n",
       " [8563, 19, 28, 1667, 365, 4261, 6709, 3793, 2228],\n",
       " [2919, 1, 4865, 593, 1068, 497],\n",
       " [1, 756, 47, 4, 991, 212, 1739],\n",
       " [2920, 11, 346, 11, 6],\n",
       " [464, 251, 3794, 287, 409, 2020, 1, 287, 4262, 199],\n",
       " [],\n",
       " [88, 359, 50, 59, 94, 613, 597, 3456, 1363, 34, 802],\n",
       " [12492, 153, 284, 716, 135, 34, 635],\n",
       " [72, 52, 375, 755, 8, 3457, 1740, 161, 1002],\n",
       " [1, 75, 1077, 12493, 915, 2096],\n",
       " [687, 19, 2916, 12494, 245, 294, 12495, 4263, 8605, 12496, 2376],\n",
       " [84, 947, 733, 535, 1],\n",
       " [1534, 276, 270, 1603, 2120, 70, 118],\n",
       " [175,\n",
       "  14,\n",
       "  1835,\n",
       "  2024,\n",
       "  1100,\n",
       "  92,\n",
       "  879,\n",
       "  106,\n",
       "  1,\n",
       "  82,\n",
       "  12497,\n",
       "  9,\n",
       "  56,\n",
       "  43,\n",
       "  12498,\n",
       "  6789,\n",
       "  92,\n",
       "  8606],\n",
       " [51, 1836, 6790, 96, 5, 265],\n",
       " [29, 4, 83, 498, 35, 154, 335, 170, 133, 2005, 12499],\n",
       " [8607, 375, 109, 4, 503, 4264, 27, 12500, 5, 900, 12501, 820, 568],\n",
       " [217, 41, 116, 1604, 3795, 1138, 12502, 3762, 3],\n",
       " [100,\n",
       "  1183,\n",
       "  328,\n",
       "  499,\n",
       "  343,\n",
       "  298,\n",
       "  2121,\n",
       "  2122,\n",
       "  1314,\n",
       "  134,\n",
       "  8608,\n",
       "  5627,\n",
       "  2122,\n",
       "  717,\n",
       "  3],\n",
       " [602, 1837, 573, 121],\n",
       " [84, 819, 12503, 2, 235, 1],\n",
       " [126, 22, 1041, 1078, 3],\n",
       " [5628, 19, 18, 4866, 1583, 53, 1139, 47, 2377, 3],\n",
       " [12504, 12505, 12506, 1605, 377, 133, 5593, 149, 968, 1535],\n",
       " [289,\n",
       "  511,\n",
       "  12507,\n",
       "  24,\n",
       "  2505,\n",
       "  12508,\n",
       "  24,\n",
       "  1,\n",
       "  574,\n",
       "  139,\n",
       "  34,\n",
       "  12509,\n",
       "  1,\n",
       "  553,\n",
       "  9,\n",
       "  5629,\n",
       "  1225],\n",
       " [3433, 1468, 17],\n",
       " [2378, 108, 65, 8609, 3796, 222, 10, 6, 4, 2, 4265],\n",
       " [460, 6791, 432, 3458, 1922, 32, 1536, 9, 254, 1469, 271, 992, 5630],\n",
       " [1139, 144, 8610, 59, 3797, 845, 3798, 8611, 110, 294, 8612, 12510, 50, 59],\n",
       " [485, 636, 287, 5631, 141, 470, 8, 50, 36, 23, 12511],\n",
       " [8613, 3459, 12512, 133, 246],\n",
       " [8614, 1, 5632, 4867, 2379],\n",
       " [],\n",
       " [32, 179, 6792, 350, 1266, 3157, 22, 367, 237],\n",
       " [4266, 14, 14, 954, 2528, 12513, 8, 22, 12514, 12515, 471, 2921, 899],\n",
       " [1838, 312, 1355, 11, 70, 1],\n",
       " [4, 1537, 74, 128, 199, 19, 90, 2922, 3],\n",
       " [1364, 1538, 353, 1470, 69, 4, 3799, 3158, 1839, 1923],\n",
       " [119, 12516, 118, 262, 12517, 1836, 57],\n",
       " [],\n",
       " [927, 1365, 7],\n",
       " [2369, 188, 2207, 6793, 2123, 1366, 3460, 76, 29, 515],\n",
       " [10,\n",
       "  656,\n",
       "  12518,\n",
       "  66,\n",
       "  1741,\n",
       "  12519,\n",
       "  306,\n",
       "  557,\n",
       "  35,\n",
       "  11,\n",
       "  148,\n",
       "  6794,\n",
       "  1367,\n",
       "  30,\n",
       "  12520,\n",
       "  113,\n",
       "  227],\n",
       " [887, 289, 3159, 1923, 252],\n",
       " [4868, 2124, 12521, 4869, 1, 359, 829],\n",
       " [1351, 12522, 403, 8615, 757, 690, 118, 36, 135, 38, 8616, 598, 955],\n",
       " [397, 1021, 12523, 18, 254, 19, 262, 141, 4870],\n",
       " [3, 44, 1471, 12524, 1005],\n",
       " [51, 223, 76],\n",
       " [133, 676, 1184, 779, 845, 296, 1539, 1742],\n",
       " [16, 1, 12525, 1],\n",
       " [569, 1315, 12526, 50, 59, 43, 10, 4, 12527, 1461, 8, 15, 4267],\n",
       " [45, 1743, 523, 151, 9, 6795, 867, 2529],\n",
       " [6796, 29, 472, 12528, 12529, 3800, 373, 2380, 62],\n",
       " [101, 40, 58, 5633, 231, 171, 152],\n",
       " [387, 16, 3461, 277, 1, 18, 816, 3462],\n",
       " [22, 194, 95, 1415, 3801, 888, 533, 113],\n",
       " [976, 1, 2005, 477, 12, 603],\n",
       " [455, 802, 50, 1924, 710, 95, 2530, 2381, 129, 388, 465, 5, 2, 2691, 376],\n",
       " [477, 405, 1267, 4871, 38, 1140, 12530, 40],\n",
       " [19, 6797, 574, 5634, 1925],\n",
       " [412, 729, 80, 35, 2229, 260, 179, 90, 35, 220, 36, 3],\n",
       " [2, 7, 123, 38, 81],\n",
       " [84, 1840, 8617, 365, 177],\n",
       " [466, 2125, 2692, 8618, 2382, 1841, 7, 60, 4268, 1606, 33, 56],\n",
       " [609, 10, 3802, 421, 2693, 4269, 206],\n",
       " [6798, 12531, 124, 8619, 356],\n",
       " [51, 737, 254, 212, 153, 1006, 643, 2126, 10, 101, 1],\n",
       " [1534, 40, 1, 23, 179, 94, 2, 4, 63, 1167, 1540, 201, 2115],\n",
       " [114, 712, 1, 321, 577, 4, 8620, 12532],\n",
       " [240,\n",
       "  1744,\n",
       "  3803,\n",
       "  1745,\n",
       "  457,\n",
       "  3463,\n",
       "  410,\n",
       "  12533,\n",
       "  1141,\n",
       "  2360,\n",
       "  178,\n",
       "  1079,\n",
       "  12534,\n",
       "  5],\n",
       " [1425, 23, 2923, 20, 6, 24, 192],\n",
       " [31, 5635, 4872, 12535, 4270, 12536, 914, 8621, 1316, 803, 1423],\n",
       " [26, 31, 727, 708, 12537],\n",
       " [482, 10, 26, 5, 804, 13],\n",
       " [427, 5, 47, 4, 868, 1263, 5636, 1366, 452, 8622, 12538],\n",
       " [48, 54, 233, 2, 21, 86, 3160, 31],\n",
       " [1142, 4215, 5],\n",
       " [8623, 8624, 1541, 1675],\n",
       " [5637, 88, 1542, 1],\n",
       " [3161, 3122, 3804, 5, 309, 1038],\n",
       " [1538, 742, 1676, 12539, 20, 155, 2531, 8],\n",
       " [3, 1814, 41, 116, 6799, 2694, 8625],\n",
       " [40, 168, 6800, 626, 241, 819, 4, 1368, 1],\n",
       " [27, 61, 7, 9, 341, 2695, 1135, 12540, 7],\n",
       " [5608, 1022, 167, 5608, 928, 5638, 18, 54, 1, 12, 4, 54, 108],\n",
       " [609, 467, 4873, 717, 4864, 36, 33, 4271, 2, 20, 4272, 3805, 3464, 12541],\n",
       " [5639, 1813, 542, 2924, 12542, 23, 2, 34, 3806, 12543],\n",
       " [5, 12544, 365, 1, 282, 365],\n",
       " [23, 46, 12545, 481, 57],\n",
       " [63, 668, 328, 728, 3],\n",
       " [79, 26, 691, 377],\n",
       " [46, 5],\n",
       " [975, 8626, 4273, 2383, 1, 186],\n",
       " [487, 4, 3465, 70, 57, 362],\n",
       " [406, 307, 2690, 5640, 1143, 26, 30, 12546, 66, 1525, 179, 550, 2696],\n",
       " [27, 4274, 7, 82],\n",
       " [50, 443, 11, 1, 884, 60, 4275],\n",
       " [474, 186, 94, 134, 580, 7, 447, 6734, 805],\n",
       " [12547, 12548, 500, 4, 1472, 1185, 12, 170, 6801, 77, 1, 595, 12549, 82],\n",
       " [10, 758, 6802, 119, 5, 778, 4, 8627],\n",
       " [17],\n",
       " [245, 2, 21, 120, 6803, 3162, 42, 5641, 102, 587],\n",
       " [140, 12550, 46, 230, 353, 26, 31, 6804, 173, 2925],\n",
       " [6805, 5642],\n",
       " [1186, 2384, 7],\n",
       " [63, 8628],\n",
       " [422, 49, 37, 4874, 12551, 1042, 2, 501, 1, 12552],\n",
       " [190, 3466, 210],\n",
       " [137, 5, 10, 718],\n",
       " [5643, 81, 57],\n",
       " [1, 167],\n",
       " [1842, 1, 87, 1543, 470, 54, 406],\n",
       " [463, 79, 148, 38, 6806, 184],\n",
       " [72, 431, 476],\n",
       " [1268, 2532, 4875, 647, 1, 314],\n",
       " [54, 835, 635, 1350, 4815, 342, 391, 983, 12553, 680],\n",
       " [42, 844, 6807, 5644, 3],\n",
       " [1256, 325, 4276, 1409, 8629],\n",
       " [16, 9, 2372, 579, 24, 257, 95, 229, 280, 35, 5, 68, 12, 2127, 16],\n",
       " [88, 1004, 527, 8630, 2025, 12554, 2926, 2, 524, 34, 1843],\n",
       " [759, 13, 12555, 301, 26, 2352, 448, 374, 12556, 2533, 1226, 239, 208, 1844],\n",
       " [233, 521, 2026, 2128, 184, 4837],\n",
       " [6808, 2385],\n",
       " [29,\n",
       "  760,\n",
       "  160,\n",
       "  317,\n",
       "  8631,\n",
       "  179,\n",
       "  206,\n",
       "  40,\n",
       "  34,\n",
       "  317,\n",
       "  2697,\n",
       "  4,\n",
       "  1746,\n",
       "  3807,\n",
       "  229,\n",
       "  4277],\n",
       " [75, 3808, 12557, 6, 15],\n",
       " [1842, 1, 702],\n",
       " [4829, 1],\n",
       " [2230, 490, 1829, 879, 12558, 12559],\n",
       " [1227, 157, 12560, 697],\n",
       " [2027, 360, 2386, 3],\n",
       " [12561, 2698, 12562, 236, 1227, 4876, 3809, 143, 12563, 1228],\n",
       " [484, 19, 16, 12, 1, 36, 444, 1473],\n",
       " [2231, 1416, 31, 2232, 1269],\n",
       " [134, 6, 18],\n",
       " [63, 132, 4, 447, 118, 8632, 109, 159],\n",
       " [12564, 637, 1474, 3810, 546, 3810, 128, 36, 34, 53, 1, 11],\n",
       " [4278, 129, 122, 12565, 334, 12566, 10, 2699, 668, 128, 281, 11, 12567],\n",
       " [1109, 780, 391, 197, 2233, 663, 3],\n",
       " [2234, 8633, 6809, 491, 186, 3467, 36, 1544, 8634],\n",
       " [1036, 101, 1, 128, 1],\n",
       " [81, 477, 78, 219, 869, 536, 1144, 3468, 831, 133, 215, 7],\n",
       " [3811, 80, 404, 2700, 588, 2231, 251, 1426, 149, 4877],\n",
       " [88, 1145, 109, 12568, 2028, 3163, 9, 1658, 456, 4878, 387],\n",
       " [191, 423, 494, 4279, 12569, 15, 12570, 12571, 8],\n",
       " [1, 400, 22, 9, 123, 234, 30, 55, 3812, 286],\n",
       " [2, 3765, 1035, 22, 112, 2, 38, 575],\n",
       " [126, 627, 146, 12572, 3164, 19, 540, 376, 4, 114, 5, 6810],\n",
       " [250, 155, 12573, 294, 8635, 3165, 260, 2235, 3116, 294, 62, 8636, 261],\n",
       " [3795, 1138, 822, 1317, 3],\n",
       " [26, 623, 4280, 12574, 3431, 9, 4879, 747, 12575, 826, 6, 19, 33],\n",
       " [75, 3813, 2927, 1, 180, 511, 12576, 303, 2236, 211, 511, 113, 1263, 12],\n",
       " [189, 1, 434, 5645, 265, 1270, 4, 12577, 6811, 12578],\n",
       " [373, 124, 1146, 174],\n",
       " [12579, 1747],\n",
       " [12, 53, 648, 12580, 1],\n",
       " [393, 563, 48, 65, 2534, 2209, 3166, 2129, 4281],\n",
       " [602, 1926, 6, 12581, 1828, 827],\n",
       " [252, 6812, 1409, 3438, 653, 295, 2, 19, 337, 287, 980, 89],\n",
       " [112,\n",
       "  339,\n",
       "  726,\n",
       "  3814,\n",
       "  889,\n",
       "  30,\n",
       "  49,\n",
       "  2,\n",
       "  19,\n",
       "  83,\n",
       "  8637,\n",
       "  4251,\n",
       "  433,\n",
       "  349,\n",
       "  8638,\n",
       "  166,\n",
       "  12,\n",
       "  1],\n",
       " [734],\n",
       " [12, 27, 2237, 12, 5, 16, 201],\n",
       " [1530, 146, 57, 57],\n",
       " [578, 12582, 107, 4880],\n",
       " [12583, 12584, 142],\n",
       " [257, 158, 49, 588, 456, 30, 3469, 171, 2, 80, 22, 202, 10, 43],\n",
       " [1528, 49, 3470, 3470, 3470, 2701, 164, 3470, 3470, 3470, 24, 1, 547],\n",
       " [1, 979, 979],\n",
       " [12585, 2, 644, 12586, 273, 46, 432, 922],\n",
       " [285, 27, 5],\n",
       " [20, 93, 78, 1023, 228, 835, 3167, 1427, 921, 4282, 20, 703],\n",
       " [1043, 2, 1147],\n",
       " [12587, 131, 471],\n",
       " [41, 116, 1748, 2535, 468, 93, 719, 126, 64, 3],\n",
       " [198, 28, 8639, 83, 28, 12588, 403, 104, 8, 69, 90, 12589],\n",
       " [26, 197, 302, 18, 96, 31, 2702, 12590, 799, 359],\n",
       " [238, 84, 4283, 582, 2130, 445, 5],\n",
       " [423, 103, 57, 2, 1607, 617, 4, 1229, 16, 628],\n",
       " [12591, 444, 2236, 972, 1, 3168, 12592, 260, 20, 168, 1044],\n",
       " [30, 17],\n",
       " [98, 153, 266, 823, 12593, 12594, 17, 413],\n",
       " [15, 80, 8640, 186, 6813, 302, 99, 8, 12595, 132, 771, 15],\n",
       " [2, 21, 12, 105, 253, 9, 13, 425],\n",
       " [738, 1677, 110, 299, 1677, 52, 200, 118, 189, 24, 883],\n",
       " [2, 753, 2, 753, 4, 12596],\n",
       " [8641, 2, 94, 720, 1148, 629, 2238],\n",
       " [23],\n",
       " [218, 14, 6814, 637, 28, 8, 193, 553, 371, 12597, 6, 71, 637, 14],\n",
       " [678, 5, 1927, 537, 5646],\n",
       " [551, 4284, 25, 148],\n",
       " [96, 28, 304, 44, 96, 6, 725],\n",
       " [1061, 22, 1305, 12598, 5556, 2666, 4, 381, 573, 2928, 4285],\n",
       " [44, 8642, 5647, 3],\n",
       " [28, 520, 34, 20, 1165, 1428, 903, 3, 1428, 681, 12599],\n",
       " [12600, 12601, 12602, 4881, 12603, 2536, 2703],\n",
       " [2, 369, 441, 57, 12604, 169, 34, 212, 6815, 2537, 3815, 6816, 4882, 781],\n",
       " [6817, 492, 983, 2, 377, 2239, 8643, 728, 696, 182, 382, 50, 505, 12605, 3],\n",
       " [194, 1527, 679, 1, 532, 80, 806, 46, 261],\n",
       " [272, 6818, 11, 1],\n",
       " [721, 178, 83, 7],\n",
       " [1187, 776, 4, 6819, 816, 3816, 48, 313, 38, 124],\n",
       " [10, 943, 3817, 3471, 434, 2240, 248, 1833, 246, 766, 1429],\n",
       " [2929, 643, 5],\n",
       " [1475, 1, 11, 14, 691, 241, 59, 1475, 30, 890],\n",
       " [175, 421, 4286, 4883, 12606, 1163, 8644, 3169, 56, 669, 1845, 12607, 8645],\n",
       " [1, 1107, 543, 287, 2684, 5648],\n",
       " [6820, 450, 467, 8],\n",
       " [370, 1, 6821, 1749],\n",
       " [75, 523],\n",
       " [1678, 1080, 263, 51, 21, 403, 263],\n",
       " [593, 870, 2538, 4884, 2, 12608, 101, 178, 6],\n",
       " [5649, 12609, 2704, 168, 101, 12, 4, 591, 8646, 101, 185, 5, 246, 3472, 185],\n",
       " [50, 52, 9, 5650, 159, 1271, 1, 171, 1, 27, 5592],\n",
       " [384, 4, 8647, 1019, 19, 51, 118, 149, 56, 6822, 224],\n",
       " [1928, 40, 46, 3, 12610],\n",
       " [27, 12611, 1, 135, 339],\n",
       " [75, 8648, 47, 4, 79, 1679, 1, 99, 547],\n",
       " [382, 2, 554, 2023, 26, 158, 6823],\n",
       " [427, 871, 198, 621, 8649, 2209, 830, 94, 425, 33, 95, 1929, 13, 3],\n",
       " [2539, 259, 5651, 1272, 14, 1750, 836, 8650, 1, 1272],\n",
       " [6824, 2705, 19, 434, 28, 3],\n",
       " [13, 1081, 12, 118, 5652, 3818, 1070],\n",
       " [103, 1, 595, 133, 312],\n",
       " [73, 562, 72, 343, 326, 1257, 8],\n",
       " [3471, 1608, 5653, 748, 230, 4885, 65, 1930, 70, 1, 51, 12612, 12613],\n",
       " [42, 132, 235, 99, 194, 630, 4, 11, 42, 265, 365, 12, 5],\n",
       " [10, 39, 1, 81, 1545],\n",
       " [63, 17, 43, 17, 22, 99, 555, 755, 12614, 17, 10, 1045],\n",
       " [250, 105, 711, 3],\n",
       " [52, 656, 81, 4, 12615, 5654, 1, 14, 827],\n",
       " [112, 1],\n",
       " [2, 101, 176, 2, 949, 1],\n",
       " [2105, 19, 2241, 3],\n",
       " [209, 846, 51, 21, 4, 283, 31, 325, 392, 440, 5655, 12616],\n",
       " [826,\n",
       "  1273,\n",
       "  778,\n",
       "  178,\n",
       "  3819,\n",
       "  12617,\n",
       "  4287,\n",
       "  5656,\n",
       "  1931,\n",
       "  60,\n",
       "  12618,\n",
       "  4886,\n",
       "  17,\n",
       "  267,\n",
       "  781],\n",
       " [12619, 100, 328, 499, 234, 3],\n",
       " [43, 16, 1, 8651],\n",
       " [925, 459, 4, 647, 1932, 5657, 5658],\n",
       " [1, 2930, 118, 64],\n",
       " [2, 21, 2242, 238, 12620, 1082, 992, 31, 32, 345],\n",
       " [63, 32, 294, 16, 34, 85, 16, 293, 22, 16, 34, 1],\n",
       " [6825, 8, 2540, 12621],\n",
       " [2, 882, 11, 1],\n",
       " [528, 180, 528, 329, 20, 215, 43, 978, 7, 1109, 2, 177],\n",
       " [904, 569, 40, 39, 16, 501, 247, 15, 463, 76, 816],\n",
       " [119, 1, 836, 12622, 566, 81, 704, 724, 36, 3170, 36],\n",
       " [148, 1751],\n",
       " [942],\n",
       " [695, 25, 2931, 2687, 12623],\n",
       " [57, 6826, 2541, 5659, 14, 1532, 619, 4, 12624, 3820, 2705, 8652],\n",
       " [12625, 4887, 12626, 162, 92, 52],\n",
       " [2, 21, 31, 113, 66, 133, 1225, 12627, 2680, 22],\n",
       " [1846, 6, 1583, 4, 2, 553, 641, 12628, 1, 60, 9, 9],\n",
       " [88, 31, 642, 2202, 8653, 86, 1188, 1933, 2706],\n",
       " [2, 21, 291, 118, 1318, 146, 32, 760],\n",
       " [3821, 12, 8654, 288, 90, 709, 288, 709, 495, 1189, 249, 23, 90, 13, 7, 174],\n",
       " [4, 2366, 12629],\n",
       " [320, 4888, 3171, 141],\n",
       " [5, 33, 139, 2666, 6827, 33, 5, 139, 1083],\n",
       " [2707, 2029, 6828, 97, 30, 118],\n",
       " [1934, 1319, 57],\n",
       " [4, 878, 347, 12630, 1752, 132, 1046, 533, 100, 8655],\n",
       " [12631, 2931, 82, 8656, 433, 257, 2931, 1320, 322, 12632],\n",
       " [326, 1, 15],\n",
       " [3473, 1321, 321, 17, 12633, 5660, 292],\n",
       " [2, 21, 1061, 2708, 6829, 165, 67],\n",
       " [12634, 1017, 756, 4, 590],\n",
       " [331, 58, 17],\n",
       " [92, 2542, 1, 2709],\n",
       " [69, 5661, 27, 2, 573, 17, 9, 2710],\n",
       " [6, 18, 891, 82],\n",
       " [1430, 2932, 12635, 17, 2, 12636, 12637, 303, 1274, 4889, 351, 1430, 2243],\n",
       " [92, 12638, 593, 3474, 1],\n",
       " [286,\n",
       "  2,\n",
       "  10,\n",
       "  33,\n",
       "  1412,\n",
       "  78,\n",
       "  2933,\n",
       "  649,\n",
       "  136,\n",
       "  12639,\n",
       "  797,\n",
       "  2543,\n",
       "  136,\n",
       "  797,\n",
       "  6830,\n",
       "  12640,\n",
       "  4288,\n",
       "  1728,\n",
       "  12641],\n",
       " [68, 876, 12642, 2934, 5662, 11, 1],\n",
       " [124],\n",
       " [3172, 2544, 1680, 6831, 98, 230, 6832, 31, 12643, 94, 607],\n",
       " [4890, 202, 16, 5663, 5664, 6833, 378, 342, 54, 826, 4289],\n",
       " [449, 394, 182, 311, 80, 157, 125, 294, 1227],\n",
       " [14, 129, 57],\n",
       " [347, 1681, 4891, 4892, 2, 631, 529, 185, 25, 424, 713, 3761],\n",
       " [44, 32, 94, 11, 1476, 3],\n",
       " [1753, 187, 9, 10, 32, 45, 2387, 11, 1, 422, 3822, 91, 331, 1],\n",
       " [892, 289, 8657, 813],\n",
       " [547, 85, 16, 727, 2, 4, 1, 12644],\n",
       " [12645, 9, 174, 6, 82, 8658],\n",
       " [12646, 17, 1914, 60, 53, 1365, 17],\n",
       " [32, 162, 85, 421, 2, 130, 238, 6, 35],\n",
       " [5665, 591, 8659, 8660, 1847, 12647, 12648, 905, 12649, 1910],\n",
       " [524, 18, 8, 163, 493, 12650],\n",
       " [7, 8, 83, 7, 8],\n",
       " [113, 219, 1275, 80, 2030, 33, 47, 4, 205],\n",
       " [12, 35, 1, 726, 337, 28, 52, 1466, 382],\n",
       " [15, 1, 14, 2, 9, 239, 2244],\n",
       " [12651, 5666, 2245, 61, 17, 418, 6834, 308, 275],\n",
       " [1, 7, 10, 689, 4244],\n",
       " [1271,\n",
       "  136,\n",
       "  19,\n",
       "  4893,\n",
       "  274,\n",
       "  42,\n",
       "  112,\n",
       "  9,\n",
       "  1149,\n",
       "  223,\n",
       "  409,\n",
       "  24,\n",
       "  1,\n",
       "  333,\n",
       "  144,\n",
       "  12652,\n",
       "  2711,\n",
       "  2,\n",
       "  19,\n",
       "  226],\n",
       " [71, 2026, 59, 152],\n",
       " [44, 570, 8661, 236, 6, 161, 212],\n",
       " [187, 36, 33, 666, 1514, 1666],\n",
       " [8662, 442, 90, 76],\n",
       " [12653, 24, 834, 12654, 5, 24, 2545, 834],\n",
       " [10, 239, 6],\n",
       " [14, 221, 176, 10, 4290, 12655, 3823, 17, 1935],\n",
       " [252, 14, 442, 550, 2930, 1, 36, 481, 1936, 215, 847, 227],\n",
       " [28, 407, 524, 10, 4291, 11, 50, 59, 12, 13, 161],\n",
       " [664, 396, 11, 3475, 142, 2131, 4292, 261, 20, 43, 182, 6835],\n",
       " [780, 1077, 169, 2024, 4894, 35, 3],\n",
       " [7, 6836, 354, 232],\n",
       " [8663, 10, 357, 35, 5, 93, 4],\n",
       " [48, 130, 247, 2, 3173, 12656, 12657],\n",
       " [201, 844, 449, 807, 1, 918],\n",
       " [1311, 542, 6837],\n",
       " [213, 17, 12658, 175, 5667, 507, 2712, 5668, 4895, 1276, 6838, 1369],\n",
       " [889, 14, 195, 8664, 17, 207, 15],\n",
       " [1016, 1747, 48, 9, 315, 46],\n",
       " [653, 32, 340, 767, 3824, 19, 3824, 303, 490, 653, 6839],\n",
       " [89, 33, 139, 20, 431, 89, 198, 98, 2546, 182, 9, 7, 388, 11, 235, 121, 1024],\n",
       " [231, 12659, 4, 8, 333, 144, 12660, 200, 1352, 15],\n",
       " [5],\n",
       " [430, 10, 554, 2, 278, 29, 2713, 808, 1170],\n",
       " [1],\n",
       " [26, 467, 1477, 4293, 3476, 668, 1478, 496, 9, 6840, 1190, 323],\n",
       " [434, 104, 1, 92, 2388, 2714],\n",
       " [111, 1841, 12661, 769, 280, 325, 383, 1, 1431],\n",
       " [243, 1848, 26, 1004, 55, 358, 120, 1267, 12662, 5669],\n",
       " [2935, 8665, 1],\n",
       " [288, 199, 1593, 1110, 31, 1609, 767, 5670, 793, 5670],\n",
       " [12663, 619, 8666, 2936, 49, 252, 167, 5, 22, 97],\n",
       " [12, 318, 5671, 5672, 3],\n",
       " [35, 1, 1608, 71],\n",
       " [385, 10, 276, 73, 1025, 101, 206, 2389],\n",
       " [41, 3825, 3825, 12664, 3, 1370],\n",
       " [1, 112, 872, 62, 1682, 2373, 12, 12665, 12666],\n",
       " [1024, 48, 132, 453, 12667],\n",
       " [244, 1, 506, 1084, 6841],\n",
       " [12668, 45, 86, 31, 389, 12669, 37, 5617, 8667, 94, 3477, 4896],\n",
       " [5673, 12670, 257, 112, 5],\n",
       " [887, 1, 442, 486, 2103],\n",
       " [2703, 6842, 12671],\n",
       " [38, 232, 8, 229, 403],\n",
       " [2, 4897, 3826, 312, 3827, 8668, 4897, 8669, 4294, 353, 409],\n",
       " [1322, 4295, 374, 12672, 3478, 1916, 69, 545, 2715, 12],\n",
       " [64, 327, 6, 32, 35, 349, 214, 532],\n",
       " [86, 1738, 5625, 31, 6843, 173],\n",
       " [12, 30, 4886, 705, 17],\n",
       " [191, 302, 4898, 182, 12673, 125, 772],\n",
       " [323, 1102, 3174, 299, 12674],\n",
       " [53, 2521, 1476, 3],\n",
       " [956, 1754, 29, 23, 69, 158, 4248, 78],\n",
       " [547, 12675, 347, 39, 1, 235, 2390],\n",
       " [1740, 125, 75],\n",
       " [5674, 1, 12676, 121],\n",
       " [12677, 1610, 12678, 189, 627, 1540],\n",
       " [51, 824],\n",
       " [216, 20, 44, 155, 1256, 526, 12679, 68, 350, 6844, 219, 19, 12680],\n",
       " [296, 848, 2031, 2547, 16, 132, 44, 2120, 496, 340, 33, 6845, 788, 3],\n",
       " [12, 5],\n",
       " [1, 669],\n",
       " [2131, 102, 109, 84, 49, 310, 19],\n",
       " [738, 1047, 1047, 7],\n",
       " [1230, 38, 130, 33, 2246, 26, 9, 1543, 77, 2548, 4845, 1323, 138],\n",
       " [449, 394, 266, 311, 2, 398, 125, 294, 12681],\n",
       " [63, 144, 1723, 2716, 4899],\n",
       " [37, 1418],\n",
       " [6846,\n",
       "  131,\n",
       "  4296,\n",
       "  5675,\n",
       "  1479,\n",
       "  12682,\n",
       "  3828,\n",
       "  2717,\n",
       "  1829,\n",
       "  6846,\n",
       "  20,\n",
       "  816,\n",
       "  8670,\n",
       "  2693],\n",
       " [73, 1849, 27, 638, 66, 1, 517, 167, 15],\n",
       " [6, 32, 33, 587, 15],\n",
       " [8671, 1850, 726, 573, 4900, 6],\n",
       " [3175, 187, 158, 432, 53],\n",
       " [1937, 47, 12683, 17, 106, 688, 12684],\n",
       " [71, 40, 590, 302, 509, 18, 28, 252],\n",
       " [54, 1845, 6847, 17, 466, 1938, 10, 8672],\n",
       " [6, 2247, 20, 39, 27, 788],\n",
       " [734, 713, 236, 12685, 345, 188, 380],\n",
       " [12686,\n",
       "  12687,\n",
       "  5676,\n",
       "  8673,\n",
       "  12688,\n",
       "  12689,\n",
       "  8674,\n",
       "  12690,\n",
       "  12691,\n",
       "  181,\n",
       "  10,\n",
       "  761,\n",
       "  558,\n",
       "  15],\n",
       " [10, 127, 1371, 101, 12692, 398, 48, 1659, 1180, 12693, 19, 74, 68],\n",
       " [27, 61, 5, 259],\n",
       " [12694, 12695, 3, 60, 28, 893],\n",
       " [3829, 641, 6, 226, 12696, 85, 1068],\n",
       " [18, 510, 1, 26, 10, 128, 4901, 1546, 27, 1085, 7, 8675],\n",
       " [157, 1537, 22, 313, 1611, 846, 8676, 871, 2937, 132, 197, 311, 3],\n",
       " [5, 18, 14],\n",
       " [5, 4, 6848, 236, 25, 1227, 1, 113],\n",
       " [3813, 11, 1],\n",
       " [2936, 324, 1939, 411, 626, 1048, 102, 5677, 231],\n",
       " [8677, 12, 8678, 924, 647, 41, 115, 620, 364, 3, 3],\n",
       " [489, 1402, 5621, 6849, 1731, 8679, 2549, 3],\n",
       " [591, 10, 133, 7],\n",
       " [2, 21, 31, 345, 12697],\n",
       " [26, 10, 92, 76, 2529],\n",
       " [57],\n",
       " [2938, 8, 75],\n",
       " [73,\n",
       "  879,\n",
       "  56,\n",
       "  199,\n",
       "  924,\n",
       "  747,\n",
       "  1755,\n",
       "  3420,\n",
       "  2550,\n",
       "  12698,\n",
       "  3479,\n",
       "  12699,\n",
       "  2939,\n",
       "  650,\n",
       "  3830],\n",
       " [],\n",
       " [43, 12700, 1820, 245, 4862, 181],\n",
       " [2, 22, 33, 565, 12701, 640, 3],\n",
       " [491, 5678, 146, 1191, 11, 1, 55, 26, 975, 43, 882, 11, 1, 2, 50, 23, 1683],\n",
       " [27, 16, 603, 12702, 52, 1, 180, 45, 3176, 12703, 12, 2],\n",
       " [33, 479, 12704, 33, 25, 479, 37, 18, 68, 749],\n",
       " [3831, 4, 1, 1019, 61, 1940, 3831, 1, 72, 304, 36, 42, 186, 497],\n",
       " [3832, 1, 1, 3151, 6850],\n",
       " [1517, 186, 442, 8680, 3833, 1941, 849, 1666, 66, 1838],\n",
       " [79, 8, 445, 47, 96, 6, 55, 13, 6851, 13],\n",
       " [12705, 5679, 66, 2032, 161, 2718],\n",
       " [12706, 12707],\n",
       " [4220, 2227, 1],\n",
       " [28, 929, 2391, 143, 12708, 383],\n",
       " [4902, 2504, 865, 319, 66, 1372, 165, 2392],\n",
       " [2379, 1816, 512, 12709, 2015, 20, 142, 461, 19, 1480, 748, 12710],\n",
       " [6852, 16, 1367, 205],\n",
       " [110, 1, 80, 1583, 755],\n",
       " [1741, 506, 585, 1, 80, 47, 4, 11],\n",
       " [400, 1904, 123, 12711, 1],\n",
       " [227, 531, 957, 1324, 2551, 3],\n",
       " [12712, 108, 12713, 971, 71, 837, 12714, 101, 1684],\n",
       " [8],\n",
       " [361, 3834, 8],\n",
       " [288, 1756, 11, 466, 1111, 2097, 2033],\n",
       " [77, 2, 732, 147, 280, 334, 50, 59, 9, 12715],\n",
       " [51, 21, 16, 12716, 230, 409, 23, 31, 303, 37, 367, 2719],\n",
       " [33, 12717, 93],\n",
       " [250, 4903, 2552, 1],\n",
       " [6, 1072],\n",
       " [2, 471, 2, 7],\n",
       " [412, 504, 51, 27, 24, 3480, 651, 4297, 6, 1178, 2092, 86, 4, 8681, 570],\n",
       " [1, 4298, 866, 256],\n",
       " [12718, 1049, 972, 879],\n",
       " ...]"
      ]
     },
     "execution_count": 187,
     "metadata": {},
     "output_type": "execute_result"
    }
   ],
   "source": [
    "sequences"
   ]
  },
  {
   "cell_type": "code",
   "execution_count": 188,
   "metadata": {},
   "outputs": [
    {
     "data": {
      "text/plain": [
       "28218"
      ]
     },
     "execution_count": 188,
     "metadata": {},
     "output_type": "execute_result"
    }
   ],
   "source": [
    "vocab_size = len(tokenizer.word_index) + 1\n",
    "vocab_size"
   ]
  },
  {
   "cell_type": "code",
   "execution_count": null,
   "metadata": {},
   "outputs": [],
   "source": []
  },
  {
   "cell_type": "code",
   "execution_count": 189,
   "metadata": {},
   "outputs": [],
   "source": [
    "# create a weight matrix for words in training docs\n",
    "embedding_matrix = np.zeros((vocab_size, 200))\n",
    "for word, i in tokenizer.word_index.items():\n",
    "    embedding_vector = embeddings_index.get(word)\n",
    "    if embedding_vector is not None:\n",
    "        # words not found in embedding index will be all-zeros.\n",
    "        embedding_matrix[i] = embedding_vector"
   ]
  },
  {
   "cell_type": "code",
   "execution_count": 190,
   "metadata": {},
   "outputs": [
    {
     "data": {
      "text/plain": [
       "(28218, 200)"
      ]
     },
     "execution_count": 190,
     "metadata": {},
     "output_type": "execute_result"
    }
   ],
   "source": [
    "embedding_matrix.shape"
   ]
  },
  {
   "cell_type": "code",
   "execution_count": 192,
   "metadata": {},
   "outputs": [
    {
     "name": "stdout",
     "output_type": "stream",
     "text": [
      "Model: \"sequential_2\"\n",
      "_________________________________________________________________\n",
      "Layer (type)                 Output Shape              Param #   \n",
      "=================================================================\n",
      "embedding_2 (Embedding)      (None, 120, 200)          5643600   \n",
      "_________________________________________________________________\n",
      "dropout_4 (Dropout)          (None, 120, 200)          0         \n",
      "_________________________________________________________________\n",
      "conv1d_1 (Conv1D)            (None, 119, 512)          205312    \n",
      "_________________________________________________________________\n",
      "dropout_5 (Dropout)          (None, 119, 512)          0         \n",
      "_________________________________________________________________\n",
      "flatten_1 (Flatten)          (None, 60928)             0         \n",
      "_________________________________________________________________\n",
      "dense_2 (Dense)              (None, 3)                 182787    \n",
      "_________________________________________________________________\n",
      "activation_2 (Activation)    (None, 3)                 0         \n",
      "=================================================================\n",
      "Total params: 6,031,699\n",
      "Trainable params: 388,099\n",
      "Non-trainable params: 5,643,600\n",
      "_________________________________________________________________\n",
      "None\n"
     ]
    },
    {
     "name": "stderr",
     "output_type": "stream",
     "text": [
      "/Users/namnguyen/opt/anaconda3/lib/python3.7/site-packages/tensorflow/python/keras/optimizer_v2/optimizer_v2.py:375: UserWarning: The `lr` argument is deprecated, use `learning_rate` instead.\n",
      "  \"The `lr` argument is deprecated, use `learning_rate` instead.\")\n"
     ]
    }
   ],
   "source": [
    "model_glove = Sequential()\n",
    "    #if not model_variation=='CNN-rand':\n",
    "model_glove.add(Embedding(vocab_size, 200, input_length = 120, weights=[embedding_matrix], trainable=False))\n",
    "model_glove.add(Dropout(0.25))#, input_shape=(sequence_length, embedding_dim)))\n",
    "model_glove.add(Conv1D(512, activation = 'relu', kernel_size = 2))\n",
    "model_glove.add(Dropout(0.5))\n",
    "\n",
    "model_glove.add(Flatten())\n",
    "model_glove.add(Dense(3))\n",
    "model_glove.add(Activation('softmax'))\n",
    "print(model_glove.summary())\n",
    "model_glove.compile(loss = 'categorical_crossentropy', optimizer = Adam(lr=1e-3), metrics = ['accuracy'])"
   ]
  },
  {
   "cell_type": "code",
   "execution_count": null,
   "metadata": {},
   "outputs": [],
   "source": []
  },
  {
   "cell_type": "code",
   "execution_count": 194,
   "metadata": {},
   "outputs": [
    {
     "name": "stdout",
     "output_type": "stream",
     "text": [
      "Train on 22134 samples, validate on 5534 samples\n",
      "Epoch 1/20\n",
      "22134/22134 [==============================] - ETA: 0s - loss: 0.5787 - acc: 0.7751"
     ]
    },
    {
     "name": "stderr",
     "output_type": "stream",
     "text": [
      "/Users/namnguyen/opt/anaconda3/lib/python3.7/site-packages/tensorflow/python/keras/engine/training.py:2426: UserWarning: `Model.state_updates` will be removed in a future version. This property should not be used in TensorFlow 2.0, as `updates` are applied automatically.\n",
      "  warnings.warn('`Model.state_updates` will be removed in a future version. '\n"
     ]
    },
    {
     "name": "stdout",
     "output_type": "stream",
     "text": [
      "22134/22134 [==============================] - 38s 2ms/sample - loss: 0.5787 - acc: 0.7751 - val_loss: 0.4872 - val_acc: 0.8216\n",
      "Epoch 2/20\n",
      "22134/22134 [==============================] - 42s 2ms/sample - loss: 0.4552 - acc: 0.8294 - val_loss: 0.4569 - val_acc: 0.8327\n",
      "Epoch 3/20\n",
      "22134/22134 [==============================] - 34s 2ms/sample - loss: 0.4038 - acc: 0.8496 - val_loss: 0.4358 - val_acc: 0.8415\n",
      "Epoch 4/20\n",
      "22134/22134 [==============================] - 34s 2ms/sample - loss: 0.3742 - acc: 0.8625 - val_loss: 0.4354 - val_acc: 0.8412\n",
      "Epoch 5/20\n",
      "22134/22134 [==============================] - 34s 2ms/sample - loss: 0.3440 - acc: 0.8748 - val_loss: 0.4292 - val_acc: 0.8433\n",
      "Epoch 6/20\n",
      "22134/22134 [==============================] - 31s 1ms/sample - loss: 0.3255 - acc: 0.8819 - val_loss: 0.4295 - val_acc: 0.8486\n",
      "Epoch 7/20\n",
      "22134/22134 [==============================] - 31s 1ms/sample - loss: 0.3033 - acc: 0.8896 - val_loss: 0.4358 - val_acc: 0.8468\n",
      "Epoch 8/20\n",
      "22134/22134 [==============================] - 28s 1ms/sample - loss: 0.2974 - acc: 0.8955 - val_loss: 0.4380 - val_acc: 0.8513\n",
      "Epoch 9/20\n",
      "22134/22134 [==============================] - 32s 1ms/sample - loss: 0.2813 - acc: 0.9006 - val_loss: 0.4610 - val_acc: 0.8432\n",
      "Epoch 10/20\n",
      "22134/22134 [==============================] - 30s 1ms/sample - loss: 0.2691 - acc: 0.9018 - val_loss: 0.4578 - val_acc: 0.8451\n",
      "Epoch 11/20\n",
      "22134/22134 [==============================] - 29s 1ms/sample - loss: 0.2544 - acc: 0.9078 - val_loss: 0.4669 - val_acc: 0.8442\n",
      "Epoch 12/20\n",
      "22134/22134 [==============================] - 29s 1ms/sample - loss: 0.2456 - acc: 0.9118 - val_loss: 0.4664 - val_acc: 0.8430\n",
      "Epoch 13/20\n",
      "22134/22134 [==============================] - 29s 1ms/sample - loss: 0.2362 - acc: 0.9145 - val_loss: 0.4740 - val_acc: 0.8424\n",
      "Epoch 14/20\n",
      "22134/22134 [==============================] - 40s 2ms/sample - loss: 0.2302 - acc: 0.9190 - val_loss: 0.4720 - val_acc: 0.8450\n",
      "Epoch 15/20\n",
      "22134/22134 [==============================] - 31s 1ms/sample - loss: 0.2199 - acc: 0.9197 - val_loss: 0.4854 - val_acc: 0.8442\n",
      "Epoch 16/20\n",
      "22134/22134 [==============================] - 29s 1ms/sample - loss: 0.2158 - acc: 0.9231 - val_loss: 0.4950 - val_acc: 0.8455\n",
      "Epoch 17/20\n",
      "22134/22134 [==============================] - 29s 1ms/sample - loss: 0.2071 - acc: 0.9260 - val_loss: 0.4870 - val_acc: 0.8435\n",
      "Epoch 18/20\n",
      "22134/22134 [==============================] - 34s 2ms/sample - loss: 0.2055 - acc: 0.9272 - val_loss: 0.4938 - val_acc: 0.8466\n",
      "Epoch 19/20\n",
      "22134/22134 [==============================] - 31s 1ms/sample - loss: 0.1949 - acc: 0.9306 - val_loss: 0.5090 - val_acc: 0.8424\n",
      "Epoch 20/20\n",
      "22134/22134 [==============================] - 33s 2ms/sample - loss: 0.1927 - acc: 0.9316 - val_loss: 0.5296 - val_acc: 0.8419\n"
     ]
    },
    {
     "data": {
      "text/plain": [
       "<tensorflow.python.keras.callbacks.History at 0x7f9e90a3b490>"
      ]
     },
     "execution_count": 194,
     "metadata": {},
     "output_type": "execute_result"
    }
   ],
   "source": [
    "model_glove.fit(X_train, to_categorical(np.asarray(y_train)), validation_split=0.2, epochs = 20, batch_size = 128)"
   ]
  },
  {
   "cell_type": "code",
   "execution_count": 195,
   "metadata": {},
   "outputs": [
    {
     "name": "stderr",
     "output_type": "stream",
     "text": [
      "/Users/namnguyen/opt/anaconda3/lib/python3.7/site-packages/tensorflow/python/keras/engine/sequential.py:455: UserWarning: `model.predict_classes()` is deprecated and will be removed after 2021-01-01. Please use instead:* `np.argmax(model.predict(x), axis=-1)`,   if your model does multi-class classification   (e.g. if it uses a `softmax` last-layer activation).* `(model.predict(x) > 0.5).astype(\"int32\")`,   if your model does binary classification   (e.g. if it uses a `sigmoid` last-layer activation).\n",
      "  warnings.warn('`model.predict_classes()` is deprecated and '\n"
     ]
    }
   ],
   "source": [
    "y_pred_glove = model_glove.predict_classes(X_test)"
   ]
  },
  {
   "cell_type": "code",
   "execution_count": 196,
   "metadata": {},
   "outputs": [
    {
     "data": {
      "text/plain": [
       "0.8477910066061454"
      ]
     },
     "execution_count": 196,
     "metadata": {},
     "output_type": "execute_result"
    }
   ],
   "source": [
    "f1_score(y_test, (y_pred_glove), average = 'weighted')"
   ]
  },
  {
   "cell_type": "code",
   "execution_count": 197,
   "metadata": {},
   "outputs": [
    {
     "name": "stdout",
     "output_type": "stream",
     "text": [
      "              precision    recall  f1-score   support\n",
      "\n",
      "           0       0.74      0.80      0.77      1677\n",
      "           1       0.91      0.94      0.93      3872\n",
      "           2       0.80      0.66      0.73      1368\n",
      "\n",
      "    accuracy                           0.85      6917\n",
      "   macro avg       0.82      0.80      0.81      6917\n",
      "weighted avg       0.85      0.85      0.85      6917\n",
      "\n"
     ]
    }
   ],
   "source": [
    "print(classification_report(y_test,y_pred_glove))"
   ]
  },
  {
   "cell_type": "code",
   "execution_count": null,
   "metadata": {},
   "outputs": [],
   "source": []
  },
  {
   "cell_type": "code",
   "execution_count": 212,
   "metadata": {},
   "outputs": [
    {
     "name": "stderr",
     "output_type": "stream",
     "text": [
      "/Users/namnguyen/opt/anaconda3/lib/python3.7/site-packages/tensorflow/python/keras/optimizer_v2/optimizer_v2.py:375: UserWarning: The `lr` argument is deprecated, use `learning_rate` instead.\n",
      "  \"The `lr` argument is deprecated, use `learning_rate` instead.\")\n"
     ]
    }
   ],
   "source": [
    "\n",
    "model_lstm = Sequential()\n",
    "model_lstm.add(Embedding(vocab_size, 200, weights=[embedding_matrix], input_length = 120, trainable = False))\n",
    "model_lstm.add(Dropout(0.25))\n",
    "model_lstm.add(LSTM(80, input_shape=(27668, 120)))\n",
    "model_lstm.add(Dropout(0.5))\n",
    "model_lstm.add(Dense(3))\n",
    "model_lstm.add(Activation('softmax'))\n",
    "model_lstm.compile(loss='categorical_crossentropy', optimizer = Adam(lr=1e-3), metrics=['accuracy'])"
   ]
  },
  {
   "cell_type": "code",
   "execution_count": 213,
   "metadata": {},
   "outputs": [
    {
     "name": "stdout",
     "output_type": "stream",
     "text": [
      "Train on 22134 samples, validate on 5534 samples\n",
      "Epoch 1/20\n",
      "22134/22134 [==============================] - ETA: 0s - loss: 0.5793 - acc: 0.7649"
     ]
    },
    {
     "name": "stderr",
     "output_type": "stream",
     "text": [
      "/Users/namnguyen/opt/anaconda3/lib/python3.7/site-packages/tensorflow/python/keras/engine/training.py:2426: UserWarning: `Model.state_updates` will be removed in a future version. This property should not be used in TensorFlow 2.0, as `updates` are applied automatically.\n",
      "  warnings.warn('`Model.state_updates` will be removed in a future version. '\n"
     ]
    },
    {
     "name": "stdout",
     "output_type": "stream",
     "text": [
      "22134/22134 [==============================] - 32s 1ms/sample - loss: 0.5793 - acc: 0.7649 - val_loss: 0.4647 - val_acc: 0.8222\n",
      "Epoch 2/20\n",
      "22134/22134 [==============================] - 33s 2ms/sample - loss: 0.4421 - acc: 0.8335 - val_loss: 0.4208 - val_acc: 0.8345\n",
      "Epoch 3/20\n",
      "22134/22134 [==============================] - 31s 1ms/sample - loss: 0.4079 - acc: 0.8431 - val_loss: 0.4131 - val_acc: 0.8394\n",
      "Epoch 4/20\n",
      "22134/22134 [==============================] - 32s 1ms/sample - loss: 0.3811 - acc: 0.8528 - val_loss: 0.3890 - val_acc: 0.8497\n",
      "Epoch 5/20\n",
      "22134/22134 [==============================] - 34s 2ms/sample - loss: 0.3637 - acc: 0.8601 - val_loss: 0.3774 - val_acc: 0.8549\n",
      "Epoch 6/20\n",
      "22134/22134 [==============================] - 34s 2ms/sample - loss: 0.3481 - acc: 0.8674 - val_loss: 0.3721 - val_acc: 0.8576\n",
      "Epoch 7/20\n",
      "22134/22134 [==============================] - 32s 1ms/sample - loss: 0.3328 - acc: 0.8725 - val_loss: 0.3648 - val_acc: 0.8607\n",
      "Epoch 8/20\n",
      "22134/22134 [==============================] - 31s 1ms/sample - loss: 0.3223 - acc: 0.8795 - val_loss: 0.3678 - val_acc: 0.8614\n",
      "Epoch 9/20\n",
      "22134/22134 [==============================] - 34s 2ms/sample - loss: 0.3119 - acc: 0.8840 - val_loss: 0.3748 - val_acc: 0.8598\n",
      "Epoch 10/20\n",
      "22134/22134 [==============================] - 32s 1ms/sample - loss: 0.3015 - acc: 0.8871 - val_loss: 0.3680 - val_acc: 0.8677\n",
      "Epoch 11/20\n",
      "22134/22134 [==============================] - 31s 1ms/sample - loss: 0.2909 - acc: 0.8927 - val_loss: 0.3691 - val_acc: 0.8656\n",
      "Epoch 12/20\n",
      "22134/22134 [==============================] - 36s 2ms/sample - loss: 0.2918 - acc: 0.8909 - val_loss: 0.3650 - val_acc: 0.8618\n",
      "Epoch 13/20\n",
      "22134/22134 [==============================] - 32s 1ms/sample - loss: 0.2779 - acc: 0.8970 - val_loss: 0.3665 - val_acc: 0.8659\n",
      "Epoch 14/20\n",
      "22134/22134 [==============================] - 31s 1ms/sample - loss: 0.2644 - acc: 0.9018 - val_loss: 0.3793 - val_acc: 0.8674\n",
      "Epoch 15/20\n",
      "22134/22134 [==============================] - 32s 1ms/sample - loss: 0.2618 - acc: 0.9031 - val_loss: 0.3866 - val_acc: 0.8645\n",
      "Epoch 16/20\n",
      "22134/22134 [==============================] - 30s 1ms/sample - loss: 0.2498 - acc: 0.9068 - val_loss: 0.3930 - val_acc: 0.8683\n",
      "Epoch 17/20\n",
      "22134/22134 [==============================] - 31s 1ms/sample - loss: 0.2477 - acc: 0.9070 - val_loss: 0.3962 - val_acc: 0.8654\n",
      "Epoch 18/20\n",
      "22134/22134 [==============================] - 31s 1ms/sample - loss: 0.2413 - acc: 0.9096 - val_loss: 0.3986 - val_acc: 0.8654\n",
      "Epoch 19/20\n",
      "22134/22134 [==============================] - 31s 1ms/sample - loss: 0.2346 - acc: 0.9130 - val_loss: 0.4061 - val_acc: 0.8657\n",
      "Epoch 20/20\n",
      "22134/22134 [==============================] - 32s 1ms/sample - loss: 0.2300 - acc: 0.9142 - val_loss: 0.3999 - val_acc: 0.8648\n"
     ]
    },
    {
     "data": {
      "text/plain": [
       "<tensorflow.python.keras.callbacks.History at 0x7f9d80b61e50>"
      ]
     },
     "execution_count": 213,
     "metadata": {},
     "output_type": "execute_result"
    }
   ],
   "source": [
    "model_lstm.fit(X_train, to_categorical(np.asarray(y_train)), validation_split=0.2, epochs = 20, batch_size = 128)"
   ]
  },
  {
   "cell_type": "code",
   "execution_count": 214,
   "metadata": {},
   "outputs": [
    {
     "name": "stderr",
     "output_type": "stream",
     "text": [
      "/Users/namnguyen/opt/anaconda3/lib/python3.7/site-packages/tensorflow/python/keras/engine/sequential.py:455: UserWarning: `model.predict_classes()` is deprecated and will be removed after 2021-01-01. Please use instead:* `np.argmax(model.predict(x), axis=-1)`,   if your model does multi-class classification   (e.g. if it uses a `softmax` last-layer activation).* `(model.predict(x) > 0.5).astype(\"int32\")`,   if your model does binary classification   (e.g. if it uses a `sigmoid` last-layer activation).\n",
      "  warnings.warn('`model.predict_classes()` is deprecated and '\n"
     ]
    }
   ],
   "source": [
    "y_pred_lstm = model_lstm.predict_classes(X_test)"
   ]
  },
  {
   "cell_type": "code",
   "execution_count": 215,
   "metadata": {},
   "outputs": [
    {
     "data": {
      "text/plain": [
       "array([2, 1, 2, ..., 1, 1, 2])"
      ]
     },
     "execution_count": 215,
     "metadata": {},
     "output_type": "execute_result"
    }
   ],
   "source": [
    "y_pred_lstm"
   ]
  },
  {
   "cell_type": "code",
   "execution_count": 216,
   "metadata": {},
   "outputs": [
    {
     "data": {
      "text/plain": [
       "0.8660820198483651"
      ]
     },
     "execution_count": 216,
     "metadata": {},
     "output_type": "execute_result"
    }
   ],
   "source": [
    "f1_score(y_test, (y_pred_lstm), average = 'weighted')"
   ]
  },
  {
   "cell_type": "code",
   "execution_count": 217,
   "metadata": {},
   "outputs": [
    {
     "name": "stdout",
     "output_type": "stream",
     "text": [
      "              precision    recall  f1-score   support\n",
      "\n",
      "           0       0.76      0.81      0.79      1677\n",
      "           1       0.93      0.94      0.94      3872\n",
      "           2       0.81      0.73      0.77      1368\n",
      "\n",
      "    accuracy                           0.87      6917\n",
      "   macro avg       0.83      0.83      0.83      6917\n",
      "weighted avg       0.87      0.87      0.87      6917\n",
      "\n"
     ]
    }
   ],
   "source": [
    "print(classification_report(y_test,y_pred_lstm))"
   ]
  },
  {
   "cell_type": "code",
   "execution_count": 229,
   "metadata": {},
   "outputs": [
    {
     "data": {
      "text/plain": [
       "Text(0, 0.5, 'Counts')"
      ]
     },
     "execution_count": 229,
     "metadata": {},
     "output_type": "execute_result"
    },
    {
     "data": {
      "image/png": "[encoded data removed]",
      "text/plain": [
       "<Figure size 432x288 with 1 Axes>"
      ]
     },
     "metadata": {
      "needs_background": "light"
     },
     "output_type": "display_data"
    }
   ],
   "source": [
    "#Plotting histogram of labels to see how they are distributed\n",
    "pd.Series(y_pred_lstm).plot.hist(bins=5, rwidth=2, color='#607c8e')\n",
    "plt.title('Histogram label for y prediction')\n",
    "plt.xlabel('Labels')\n",
    "plt.ylabel('Counts')"
   ]
  },
  {
   "cell_type": "code",
   "execution_count": 285,
   "metadata": {},
   "outputs": [
    {
     "ename": "TypeError",
     "evalue": "can't pickle _thread.RLock objects",
     "output_type": "error",
     "traceback": [
      "\u001b[0;31m---------------------------------------------------------------------------\u001b[0m",
      "\u001b[0;31mTypeError\u001b[0m                                 Traceback (most recent call last)",
      "\u001b[0;32m<ipython-input-285-818ae31690f4>\u001b[0m in \u001b[0;36m<module>\u001b[0;34m\u001b[0m\n\u001b[0;32m----> 1\u001b[0;31m \u001b[0mdump\u001b[0m\u001b[0;34m(\u001b[0m\u001b[0mmodel_lstm\u001b[0m\u001b[0;34m,\u001b[0m \u001b[0;34m'lstm_gbdt.pkl'\u001b[0m\u001b[0;34m)\u001b[0m\u001b[0;34m\u001b[0m\u001b[0;34m\u001b[0m\u001b[0m\n\u001b[0m",
      "\u001b[0;32m~/opt/anaconda3/lib/python3.7/site-packages/joblib/numpy_pickle.py\u001b[0m in \u001b[0;36mdump\u001b[0;34m(value, filename, compress, protocol, cache_size)\u001b[0m\n\u001b[1;32m    478\u001b[0m     \u001b[0;32melif\u001b[0m \u001b[0mis_filename\u001b[0m\u001b[0;34m:\u001b[0m\u001b[0;34m\u001b[0m\u001b[0;34m\u001b[0m\u001b[0m\n\u001b[1;32m    479\u001b[0m         \u001b[0;32mwith\u001b[0m \u001b[0mopen\u001b[0m\u001b[0;34m(\u001b[0m\u001b[0mfilename\u001b[0m\u001b[0;34m,\u001b[0m \u001b[0;34m'wb'\u001b[0m\u001b[0;34m)\u001b[0m \u001b[0;32mas\u001b[0m \u001b[0mf\u001b[0m\u001b[0;34m:\u001b[0m\u001b[0;34m\u001b[0m\u001b[0;34m\u001b[0m\u001b[0m\n\u001b[0;32m--> 480\u001b[0;31m             \u001b[0mNumpyPickler\u001b[0m\u001b[0;34m(\u001b[0m\u001b[0mf\u001b[0m\u001b[0;34m,\u001b[0m \u001b[0mprotocol\u001b[0m\u001b[0;34m=\u001b[0m\u001b[0mprotocol\u001b[0m\u001b[0;34m)\u001b[0m\u001b[0;34m.\u001b[0m\u001b[0mdump\u001b[0m\u001b[0;34m(\u001b[0m\u001b[0mvalue\u001b[0m\u001b[0;34m)\u001b[0m\u001b[0;34m\u001b[0m\u001b[0;34m\u001b[0m\u001b[0m\n\u001b[0m\u001b[1;32m    481\u001b[0m     \u001b[0;32melse\u001b[0m\u001b[0;34m:\u001b[0m\u001b[0;34m\u001b[0m\u001b[0;34m\u001b[0m\u001b[0m\n\u001b[1;32m    482\u001b[0m         \u001b[0mNumpyPickler\u001b[0m\u001b[0;34m(\u001b[0m\u001b[0mfilename\u001b[0m\u001b[0;34m,\u001b[0m \u001b[0mprotocol\u001b[0m\u001b[0;34m=\u001b[0m\u001b[0mprotocol\u001b[0m\u001b[0;34m)\u001b[0m\u001b[0;34m.\u001b[0m\u001b[0mdump\u001b[0m\u001b[0;34m(\u001b[0m\u001b[0mvalue\u001b[0m\u001b[0;34m)\u001b[0m\u001b[0;34m\u001b[0m\u001b[0;34m\u001b[0m\u001b[0m\n",
      "\u001b[0;32m~/opt/anaconda3/lib/python3.7/pickle.py\u001b[0m in \u001b[0;36mdump\u001b[0;34m(self, obj)\u001b[0m\n\u001b[1;32m    435\u001b[0m         \u001b[0;32mif\u001b[0m \u001b[0mself\u001b[0m\u001b[0;34m.\u001b[0m\u001b[0mproto\u001b[0m \u001b[0;34m>=\u001b[0m \u001b[0;36m4\u001b[0m\u001b[0;34m:\u001b[0m\u001b[0;34m\u001b[0m\u001b[0;34m\u001b[0m\u001b[0m\n\u001b[1;32m    436\u001b[0m             \u001b[0mself\u001b[0m\u001b[0;34m.\u001b[0m\u001b[0mframer\u001b[0m\u001b[0;34m.\u001b[0m\u001b[0mstart_framing\u001b[0m\u001b[0;34m(\u001b[0m\u001b[0;34m)\u001b[0m\u001b[0;34m\u001b[0m\u001b[0;34m\u001b[0m\u001b[0m\n\u001b[0;32m--> 437\u001b[0;31m         \u001b[0mself\u001b[0m\u001b[0;34m.\u001b[0m\u001b[0msave\u001b[0m\u001b[0;34m(\u001b[0m\u001b[0mobj\u001b[0m\u001b[0;34m)\u001b[0m\u001b[0;34m\u001b[0m\u001b[0;34m\u001b[0m\u001b[0m\n\u001b[0m\u001b[1;32m    438\u001b[0m         \u001b[0mself\u001b[0m\u001b[0;34m.\u001b[0m\u001b[0mwrite\u001b[0m\u001b[0;34m(\u001b[0m\u001b[0mSTOP\u001b[0m\u001b[0;34m)\u001b[0m\u001b[0;34m\u001b[0m\u001b[0;34m\u001b[0m\u001b[0m\n\u001b[1;32m    439\u001b[0m         \u001b[0mself\u001b[0m\u001b[0;34m.\u001b[0m\u001b[0mframer\u001b[0m\u001b[0;34m.\u001b[0m\u001b[0mend_framing\u001b[0m\u001b[0;34m(\u001b[0m\u001b[0;34m)\u001b[0m\u001b[0;34m\u001b[0m\u001b[0;34m\u001b[0m\u001b[0m\n",
      "\u001b[0;32m~/opt/anaconda3/lib/python3.7/site-packages/joblib/numpy_pickle.py\u001b[0m in \u001b[0;36msave\u001b[0;34m(self, obj)\u001b[0m\n\u001b[1;32m    280\u001b[0m             \u001b[0;32mreturn\u001b[0m\u001b[0;34m\u001b[0m\u001b[0;34m\u001b[0m\u001b[0m\n\u001b[1;32m    281\u001b[0m \u001b[0;34m\u001b[0m\u001b[0m\n\u001b[0;32m--> 282\u001b[0;31m         \u001b[0;32mreturn\u001b[0m \u001b[0mPickler\u001b[0m\u001b[0;34m.\u001b[0m\u001b[0msave\u001b[0m\u001b[0;34m(\u001b[0m\u001b[0mself\u001b[0m\u001b[0;34m,\u001b[0m \u001b[0mobj\u001b[0m\u001b[0;34m)\u001b[0m\u001b[0;34m\u001b[0m\u001b[0;34m\u001b[0m\u001b[0m\n\u001b[0m\u001b[1;32m    283\u001b[0m \u001b[0;34m\u001b[0m\u001b[0m\n\u001b[1;32m    284\u001b[0m \u001b[0;34m\u001b[0m\u001b[0m\n",
      "\u001b[0;32m~/opt/anaconda3/lib/python3.7/pickle.py\u001b[0m in \u001b[0;36msave\u001b[0;34m(self, obj, save_persistent_id)\u001b[0m\n\u001b[1;32m    547\u001b[0m \u001b[0;34m\u001b[0m\u001b[0m\n\u001b[1;32m    548\u001b[0m         \u001b[0;31m# Save the reduce() output and finally memoize the object\u001b[0m\u001b[0;34m\u001b[0m\u001b[0;34m\u001b[0m\u001b[0;34m\u001b[0m\u001b[0m\n\u001b[0;32m--> 549\u001b[0;31m         \u001b[0mself\u001b[0m\u001b[0;34m.\u001b[0m\u001b[0msave_reduce\u001b[0m\u001b[0;34m(\u001b[0m\u001b[0mobj\u001b[0m\u001b[0;34m=\u001b[0m\u001b[0mobj\u001b[0m\u001b[0;34m,\u001b[0m \u001b[0;34m*\u001b[0m\u001b[0mrv\u001b[0m\u001b[0;34m)\u001b[0m\u001b[0;34m\u001b[0m\u001b[0;34m\u001b[0m\u001b[0m\n\u001b[0m\u001b[1;32m    550\u001b[0m \u001b[0;34m\u001b[0m\u001b[0m\n\u001b[1;32m    551\u001b[0m     \u001b[0;32mdef\u001b[0m \u001b[0mpersistent_id\u001b[0m\u001b[0;34m(\u001b[0m\u001b[0mself\u001b[0m\u001b[0;34m,\u001b[0m \u001b[0mobj\u001b[0m\u001b[0;34m)\u001b[0m\u001b[0;34m:\u001b[0m\u001b[0;34m\u001b[0m\u001b[0;34m\u001b[0m\u001b[0m\n",
      "\u001b[0;32m~/opt/anaconda3/lib/python3.7/pickle.py\u001b[0m in \u001b[0;36msave_reduce\u001b[0;34m(self, func, args, state, listitems, dictitems, obj)\u001b[0m\n\u001b[1;32m    660\u001b[0m \u001b[0;34m\u001b[0m\u001b[0m\n\u001b[1;32m    661\u001b[0m         \u001b[0;32mif\u001b[0m \u001b[0mstate\u001b[0m \u001b[0;32mis\u001b[0m \u001b[0;32mnot\u001b[0m \u001b[0;32mNone\u001b[0m\u001b[0;34m:\u001b[0m\u001b[0;34m\u001b[0m\u001b[0;34m\u001b[0m\u001b[0m\n\u001b[0;32m--> 662\u001b[0;31m             \u001b[0msave\u001b[0m\u001b[0;34m(\u001b[0m\u001b[0mstate\u001b[0m\u001b[0;34m)\u001b[0m\u001b[0;34m\u001b[0m\u001b[0;34m\u001b[0m\u001b[0m\n\u001b[0m\u001b[1;32m    663\u001b[0m             \u001b[0mwrite\u001b[0m\u001b[0;34m(\u001b[0m\u001b[0mBUILD\u001b[0m\u001b[0;34m)\u001b[0m\u001b[0;34m\u001b[0m\u001b[0;34m\u001b[0m\u001b[0m\n\u001b[1;32m    664\u001b[0m \u001b[0;34m\u001b[0m\u001b[0m\n",
      "\u001b[0;32m~/opt/anaconda3/lib/python3.7/site-packages/joblib/numpy_pickle.py\u001b[0m in \u001b[0;36msave\u001b[0;34m(self, obj)\u001b[0m\n\u001b[1;32m    280\u001b[0m             \u001b[0;32mreturn\u001b[0m\u001b[0;34m\u001b[0m\u001b[0;34m\u001b[0m\u001b[0m\n\u001b[1;32m    281\u001b[0m \u001b[0;34m\u001b[0m\u001b[0m\n\u001b[0;32m--> 282\u001b[0;31m         \u001b[0;32mreturn\u001b[0m \u001b[0mPickler\u001b[0m\u001b[0;34m.\u001b[0m\u001b[0msave\u001b[0m\u001b[0;34m(\u001b[0m\u001b[0mself\u001b[0m\u001b[0;34m,\u001b[0m \u001b[0mobj\u001b[0m\u001b[0;34m)\u001b[0m\u001b[0;34m\u001b[0m\u001b[0;34m\u001b[0m\u001b[0m\n\u001b[0m\u001b[1;32m    283\u001b[0m \u001b[0;34m\u001b[0m\u001b[0m\n\u001b[1;32m    284\u001b[0m \u001b[0;34m\u001b[0m\u001b[0m\n",
      "\u001b[0;32m~/opt/anaconda3/lib/python3.7/pickle.py\u001b[0m in \u001b[0;36msave\u001b[0;34m(self, obj, save_persistent_id)\u001b[0m\n\u001b[1;32m    502\u001b[0m         \u001b[0mf\u001b[0m \u001b[0;34m=\u001b[0m \u001b[0mself\u001b[0m\u001b[0;34m.\u001b[0m\u001b[0mdispatch\u001b[0m\u001b[0;34m.\u001b[0m\u001b[0mget\u001b[0m\u001b[0;34m(\u001b[0m\u001b[0mt\u001b[0m\u001b[0;34m)\u001b[0m\u001b[0;34m\u001b[0m\u001b[0;34m\u001b[0m\u001b[0m\n\u001b[1;32m    503\u001b[0m         \u001b[0;32mif\u001b[0m \u001b[0mf\u001b[0m \u001b[0;32mis\u001b[0m \u001b[0;32mnot\u001b[0m \u001b[0;32mNone\u001b[0m\u001b[0;34m:\u001b[0m\u001b[0;34m\u001b[0m\u001b[0;34m\u001b[0m\u001b[0m\n\u001b[0;32m--> 504\u001b[0;31m             \u001b[0mf\u001b[0m\u001b[0;34m(\u001b[0m\u001b[0mself\u001b[0m\u001b[0;34m,\u001b[0m \u001b[0mobj\u001b[0m\u001b[0;34m)\u001b[0m \u001b[0;31m# Call unbound method with explicit self\u001b[0m\u001b[0;34m\u001b[0m\u001b[0;34m\u001b[0m\u001b[0m\n\u001b[0m\u001b[1;32m    505\u001b[0m             \u001b[0;32mreturn\u001b[0m\u001b[0;34m\u001b[0m\u001b[0;34m\u001b[0m\u001b[0m\n\u001b[1;32m    506\u001b[0m \u001b[0;34m\u001b[0m\u001b[0m\n",
      "\u001b[0;32m~/opt/anaconda3/lib/python3.7/pickle.py\u001b[0m in \u001b[0;36msave_dict\u001b[0;34m(self, obj)\u001b[0m\n\u001b[1;32m    857\u001b[0m \u001b[0;34m\u001b[0m\u001b[0m\n\u001b[1;32m    858\u001b[0m         \u001b[0mself\u001b[0m\u001b[0;34m.\u001b[0m\u001b[0mmemoize\u001b[0m\u001b[0;34m(\u001b[0m\u001b[0mobj\u001b[0m\u001b[0;34m)\u001b[0m\u001b[0;34m\u001b[0m\u001b[0;34m\u001b[0m\u001b[0m\n\u001b[0;32m--> 859\u001b[0;31m         \u001b[0mself\u001b[0m\u001b[0;34m.\u001b[0m\u001b[0m_batch_setitems\u001b[0m\u001b[0;34m(\u001b[0m\u001b[0mobj\u001b[0m\u001b[0;34m.\u001b[0m\u001b[0mitems\u001b[0m\u001b[0;34m(\u001b[0m\u001b[0;34m)\u001b[0m\u001b[0;34m)\u001b[0m\u001b[0;34m\u001b[0m\u001b[0;34m\u001b[0m\u001b[0m\n\u001b[0m\u001b[1;32m    860\u001b[0m \u001b[0;34m\u001b[0m\u001b[0m\n\u001b[1;32m    861\u001b[0m     \u001b[0mdispatch\u001b[0m\u001b[0;34m[\u001b[0m\u001b[0mdict\u001b[0m\u001b[0;34m]\u001b[0m \u001b[0;34m=\u001b[0m \u001b[0msave_dict\u001b[0m\u001b[0;34m\u001b[0m\u001b[0;34m\u001b[0m\u001b[0m\n",
      "\u001b[0;32m~/opt/anaconda3/lib/python3.7/pickle.py\u001b[0m in \u001b[0;36m_batch_setitems\u001b[0;34m(self, items)\u001b[0m\n\u001b[1;32m    883\u001b[0m                 \u001b[0;32mfor\u001b[0m \u001b[0mk\u001b[0m\u001b[0;34m,\u001b[0m \u001b[0mv\u001b[0m \u001b[0;32min\u001b[0m \u001b[0mtmp\u001b[0m\u001b[0;34m:\u001b[0m\u001b[0;34m\u001b[0m\u001b[0;34m\u001b[0m\u001b[0m\n\u001b[1;32m    884\u001b[0m                     \u001b[0msave\u001b[0m\u001b[0;34m(\u001b[0m\u001b[0mk\u001b[0m\u001b[0;34m)\u001b[0m\u001b[0;34m\u001b[0m\u001b[0;34m\u001b[0m\u001b[0m\n\u001b[0;32m--> 885\u001b[0;31m                     \u001b[0msave\u001b[0m\u001b[0;34m(\u001b[0m\u001b[0mv\u001b[0m\u001b[0;34m)\u001b[0m\u001b[0;34m\u001b[0m\u001b[0;34m\u001b[0m\u001b[0m\n\u001b[0m\u001b[1;32m    886\u001b[0m                 \u001b[0mwrite\u001b[0m\u001b[0;34m(\u001b[0m\u001b[0mSETITEMS\u001b[0m\u001b[0;34m)\u001b[0m\u001b[0;34m\u001b[0m\u001b[0;34m\u001b[0m\u001b[0m\n\u001b[1;32m    887\u001b[0m             \u001b[0;32melif\u001b[0m \u001b[0mn\u001b[0m\u001b[0;34m:\u001b[0m\u001b[0;34m\u001b[0m\u001b[0;34m\u001b[0m\u001b[0m\n",
      "\u001b[0;32m~/opt/anaconda3/lib/python3.7/site-packages/joblib/numpy_pickle.py\u001b[0m in \u001b[0;36msave\u001b[0;34m(self, obj)\u001b[0m\n\u001b[1;32m    280\u001b[0m             \u001b[0;32mreturn\u001b[0m\u001b[0;34m\u001b[0m\u001b[0;34m\u001b[0m\u001b[0m\n\u001b[1;32m    281\u001b[0m \u001b[0;34m\u001b[0m\u001b[0m\n\u001b[0;32m--> 282\u001b[0;31m         \u001b[0;32mreturn\u001b[0m \u001b[0mPickler\u001b[0m\u001b[0;34m.\u001b[0m\u001b[0msave\u001b[0m\u001b[0;34m(\u001b[0m\u001b[0mself\u001b[0m\u001b[0;34m,\u001b[0m \u001b[0mobj\u001b[0m\u001b[0;34m)\u001b[0m\u001b[0;34m\u001b[0m\u001b[0;34m\u001b[0m\u001b[0m\n\u001b[0m\u001b[1;32m    283\u001b[0m \u001b[0;34m\u001b[0m\u001b[0m\n\u001b[1;32m    284\u001b[0m \u001b[0;34m\u001b[0m\u001b[0m\n",
      "\u001b[0;32m~/opt/anaconda3/lib/python3.7/pickle.py\u001b[0m in \u001b[0;36msave\u001b[0;34m(self, obj, save_persistent_id)\u001b[0m\n\u001b[1;32m    502\u001b[0m         \u001b[0mf\u001b[0m \u001b[0;34m=\u001b[0m \u001b[0mself\u001b[0m\u001b[0;34m.\u001b[0m\u001b[0mdispatch\u001b[0m\u001b[0;34m.\u001b[0m\u001b[0mget\u001b[0m\u001b[0;34m(\u001b[0m\u001b[0mt\u001b[0m\u001b[0;34m)\u001b[0m\u001b[0;34m\u001b[0m\u001b[0;34m\u001b[0m\u001b[0m\n\u001b[1;32m    503\u001b[0m         \u001b[0;32mif\u001b[0m \u001b[0mf\u001b[0m \u001b[0;32mis\u001b[0m \u001b[0;32mnot\u001b[0m \u001b[0;32mNone\u001b[0m\u001b[0;34m:\u001b[0m\u001b[0;34m\u001b[0m\u001b[0;34m\u001b[0m\u001b[0m\n\u001b[0;32m--> 504\u001b[0;31m             \u001b[0mf\u001b[0m\u001b[0;34m(\u001b[0m\u001b[0mself\u001b[0m\u001b[0;34m,\u001b[0m \u001b[0mobj\u001b[0m\u001b[0;34m)\u001b[0m \u001b[0;31m# Call unbound method with explicit self\u001b[0m\u001b[0;34m\u001b[0m\u001b[0;34m\u001b[0m\u001b[0m\n\u001b[0m\u001b[1;32m    505\u001b[0m             \u001b[0;32mreturn\u001b[0m\u001b[0;34m\u001b[0m\u001b[0;34m\u001b[0m\u001b[0m\n\u001b[1;32m    506\u001b[0m \u001b[0;34m\u001b[0m\u001b[0m\n",
      "\u001b[0;32m~/opt/anaconda3/lib/python3.7/pickle.py\u001b[0m in \u001b[0;36msave_list\u001b[0;34m(self, obj)\u001b[0m\n\u001b[1;32m    817\u001b[0m \u001b[0;34m\u001b[0m\u001b[0m\n\u001b[1;32m    818\u001b[0m         \u001b[0mself\u001b[0m\u001b[0;34m.\u001b[0m\u001b[0mmemoize\u001b[0m\u001b[0;34m(\u001b[0m\u001b[0mobj\u001b[0m\u001b[0;34m)\u001b[0m\u001b[0;34m\u001b[0m\u001b[0;34m\u001b[0m\u001b[0m\n\u001b[0;32m--> 819\u001b[0;31m         \u001b[0mself\u001b[0m\u001b[0;34m.\u001b[0m\u001b[0m_batch_appends\u001b[0m\u001b[0;34m(\u001b[0m\u001b[0mobj\u001b[0m\u001b[0;34m)\u001b[0m\u001b[0;34m\u001b[0m\u001b[0;34m\u001b[0m\u001b[0m\n\u001b[0m\u001b[1;32m    820\u001b[0m \u001b[0;34m\u001b[0m\u001b[0m\n\u001b[1;32m    821\u001b[0m     \u001b[0mdispatch\u001b[0m\u001b[0;34m[\u001b[0m\u001b[0mlist\u001b[0m\u001b[0;34m]\u001b[0m \u001b[0;34m=\u001b[0m \u001b[0msave_list\u001b[0m\u001b[0;34m\u001b[0m\u001b[0;34m\u001b[0m\u001b[0m\n",
      "\u001b[0;32m~/opt/anaconda3/lib/python3.7/pickle.py\u001b[0m in \u001b[0;36m_batch_appends\u001b[0;34m(self, items)\u001b[0m\n\u001b[1;32m    841\u001b[0m                 \u001b[0mwrite\u001b[0m\u001b[0;34m(\u001b[0m\u001b[0mMARK\u001b[0m\u001b[0;34m)\u001b[0m\u001b[0;34m\u001b[0m\u001b[0;34m\u001b[0m\u001b[0m\n\u001b[1;32m    842\u001b[0m                 \u001b[0;32mfor\u001b[0m \u001b[0mx\u001b[0m \u001b[0;32min\u001b[0m \u001b[0mtmp\u001b[0m\u001b[0;34m:\u001b[0m\u001b[0;34m\u001b[0m\u001b[0;34m\u001b[0m\u001b[0m\n\u001b[0;32m--> 843\u001b[0;31m                     \u001b[0msave\u001b[0m\u001b[0;34m(\u001b[0m\u001b[0mx\u001b[0m\u001b[0;34m)\u001b[0m\u001b[0;34m\u001b[0m\u001b[0;34m\u001b[0m\u001b[0m\n\u001b[0m\u001b[1;32m    844\u001b[0m                 \u001b[0mwrite\u001b[0m\u001b[0;34m(\u001b[0m\u001b[0mAPPENDS\u001b[0m\u001b[0;34m)\u001b[0m\u001b[0;34m\u001b[0m\u001b[0;34m\u001b[0m\u001b[0m\n\u001b[1;32m    845\u001b[0m             \u001b[0;32melif\u001b[0m \u001b[0mn\u001b[0m\u001b[0;34m:\u001b[0m\u001b[0;34m\u001b[0m\u001b[0;34m\u001b[0m\u001b[0m\n",
      "\u001b[0;32m~/opt/anaconda3/lib/python3.7/site-packages/joblib/numpy_pickle.py\u001b[0m in \u001b[0;36msave\u001b[0;34m(self, obj)\u001b[0m\n\u001b[1;32m    280\u001b[0m             \u001b[0;32mreturn\u001b[0m\u001b[0;34m\u001b[0m\u001b[0;34m\u001b[0m\u001b[0m\n\u001b[1;32m    281\u001b[0m \u001b[0;34m\u001b[0m\u001b[0m\n\u001b[0;32m--> 282\u001b[0;31m         \u001b[0;32mreturn\u001b[0m \u001b[0mPickler\u001b[0m\u001b[0;34m.\u001b[0m\u001b[0msave\u001b[0m\u001b[0;34m(\u001b[0m\u001b[0mself\u001b[0m\u001b[0;34m,\u001b[0m \u001b[0mobj\u001b[0m\u001b[0;34m)\u001b[0m\u001b[0;34m\u001b[0m\u001b[0;34m\u001b[0m\u001b[0m\n\u001b[0m\u001b[1;32m    283\u001b[0m \u001b[0;34m\u001b[0m\u001b[0m\n\u001b[1;32m    284\u001b[0m \u001b[0;34m\u001b[0m\u001b[0m\n",
      "\u001b[0;32m~/opt/anaconda3/lib/python3.7/pickle.py\u001b[0m in \u001b[0;36msave\u001b[0;34m(self, obj, save_persistent_id)\u001b[0m\n\u001b[1;32m    547\u001b[0m \u001b[0;34m\u001b[0m\u001b[0m\n\u001b[1;32m    548\u001b[0m         \u001b[0;31m# Save the reduce() output and finally memoize the object\u001b[0m\u001b[0;34m\u001b[0m\u001b[0;34m\u001b[0m\u001b[0;34m\u001b[0m\u001b[0m\n\u001b[0;32m--> 549\u001b[0;31m         \u001b[0mself\u001b[0m\u001b[0;34m.\u001b[0m\u001b[0msave_reduce\u001b[0m\u001b[0;34m(\u001b[0m\u001b[0mobj\u001b[0m\u001b[0;34m=\u001b[0m\u001b[0mobj\u001b[0m\u001b[0;34m,\u001b[0m \u001b[0;34m*\u001b[0m\u001b[0mrv\u001b[0m\u001b[0;34m)\u001b[0m\u001b[0;34m\u001b[0m\u001b[0;34m\u001b[0m\u001b[0m\n\u001b[0m\u001b[1;32m    550\u001b[0m \u001b[0;34m\u001b[0m\u001b[0m\n\u001b[1;32m    551\u001b[0m     \u001b[0;32mdef\u001b[0m \u001b[0mpersistent_id\u001b[0m\u001b[0;34m(\u001b[0m\u001b[0mself\u001b[0m\u001b[0;34m,\u001b[0m \u001b[0mobj\u001b[0m\u001b[0;34m)\u001b[0m\u001b[0;34m:\u001b[0m\u001b[0;34m\u001b[0m\u001b[0;34m\u001b[0m\u001b[0m\n",
      "\u001b[0;32m~/opt/anaconda3/lib/python3.7/pickle.py\u001b[0m in \u001b[0;36msave_reduce\u001b[0;34m(self, func, args, state, listitems, dictitems, obj)\u001b[0m\n\u001b[1;32m    660\u001b[0m \u001b[0;34m\u001b[0m\u001b[0m\n\u001b[1;32m    661\u001b[0m         \u001b[0;32mif\u001b[0m \u001b[0mstate\u001b[0m \u001b[0;32mis\u001b[0m \u001b[0;32mnot\u001b[0m \u001b[0;32mNone\u001b[0m\u001b[0;34m:\u001b[0m\u001b[0;34m\u001b[0m\u001b[0;34m\u001b[0m\u001b[0m\n\u001b[0;32m--> 662\u001b[0;31m             \u001b[0msave\u001b[0m\u001b[0;34m(\u001b[0m\u001b[0mstate\u001b[0m\u001b[0;34m)\u001b[0m\u001b[0;34m\u001b[0m\u001b[0;34m\u001b[0m\u001b[0m\n\u001b[0m\u001b[1;32m    663\u001b[0m             \u001b[0mwrite\u001b[0m\u001b[0;34m(\u001b[0m\u001b[0mBUILD\u001b[0m\u001b[0;34m)\u001b[0m\u001b[0;34m\u001b[0m\u001b[0;34m\u001b[0m\u001b[0m\n\u001b[1;32m    664\u001b[0m \u001b[0;34m\u001b[0m\u001b[0m\n",
      "\u001b[0;32m~/opt/anaconda3/lib/python3.7/site-packages/joblib/numpy_pickle.py\u001b[0m in \u001b[0;36msave\u001b[0;34m(self, obj)\u001b[0m\n\u001b[1;32m    280\u001b[0m             \u001b[0;32mreturn\u001b[0m\u001b[0;34m\u001b[0m\u001b[0;34m\u001b[0m\u001b[0m\n\u001b[1;32m    281\u001b[0m \u001b[0;34m\u001b[0m\u001b[0m\n\u001b[0;32m--> 282\u001b[0;31m         \u001b[0;32mreturn\u001b[0m \u001b[0mPickler\u001b[0m\u001b[0;34m.\u001b[0m\u001b[0msave\u001b[0m\u001b[0;34m(\u001b[0m\u001b[0mself\u001b[0m\u001b[0;34m,\u001b[0m \u001b[0mobj\u001b[0m\u001b[0;34m)\u001b[0m\u001b[0;34m\u001b[0m\u001b[0;34m\u001b[0m\u001b[0m\n\u001b[0m\u001b[1;32m    283\u001b[0m \u001b[0;34m\u001b[0m\u001b[0m\n\u001b[1;32m    284\u001b[0m \u001b[0;34m\u001b[0m\u001b[0m\n",
      "\u001b[0;32m~/opt/anaconda3/lib/python3.7/pickle.py\u001b[0m in \u001b[0;36msave\u001b[0;34m(self, obj, save_persistent_id)\u001b[0m\n\u001b[1;32m    502\u001b[0m         \u001b[0mf\u001b[0m \u001b[0;34m=\u001b[0m \u001b[0mself\u001b[0m\u001b[0;34m.\u001b[0m\u001b[0mdispatch\u001b[0m\u001b[0;34m.\u001b[0m\u001b[0mget\u001b[0m\u001b[0;34m(\u001b[0m\u001b[0mt\u001b[0m\u001b[0;34m)\u001b[0m\u001b[0;34m\u001b[0m\u001b[0;34m\u001b[0m\u001b[0m\n\u001b[1;32m    503\u001b[0m         \u001b[0;32mif\u001b[0m \u001b[0mf\u001b[0m \u001b[0;32mis\u001b[0m \u001b[0;32mnot\u001b[0m \u001b[0;32mNone\u001b[0m\u001b[0;34m:\u001b[0m\u001b[0;34m\u001b[0m\u001b[0;34m\u001b[0m\u001b[0m\n\u001b[0;32m--> 504\u001b[0;31m             \u001b[0mf\u001b[0m\u001b[0;34m(\u001b[0m\u001b[0mself\u001b[0m\u001b[0;34m,\u001b[0m \u001b[0mobj\u001b[0m\u001b[0;34m)\u001b[0m \u001b[0;31m# Call unbound method with explicit self\u001b[0m\u001b[0;34m\u001b[0m\u001b[0;34m\u001b[0m\u001b[0m\n\u001b[0m\u001b[1;32m    505\u001b[0m             \u001b[0;32mreturn\u001b[0m\u001b[0;34m\u001b[0m\u001b[0;34m\u001b[0m\u001b[0m\n\u001b[1;32m    506\u001b[0m \u001b[0;34m\u001b[0m\u001b[0m\n",
      "\u001b[0;32m~/opt/anaconda3/lib/python3.7/pickle.py\u001b[0m in \u001b[0;36msave_dict\u001b[0;34m(self, obj)\u001b[0m\n\u001b[1;32m    857\u001b[0m \u001b[0;34m\u001b[0m\u001b[0m\n\u001b[1;32m    858\u001b[0m         \u001b[0mself\u001b[0m\u001b[0;34m.\u001b[0m\u001b[0mmemoize\u001b[0m\u001b[0;34m(\u001b[0m\u001b[0mobj\u001b[0m\u001b[0;34m)\u001b[0m\u001b[0;34m\u001b[0m\u001b[0;34m\u001b[0m\u001b[0m\n\u001b[0;32m--> 859\u001b[0;31m         \u001b[0mself\u001b[0m\u001b[0;34m.\u001b[0m\u001b[0m_batch_setitems\u001b[0m\u001b[0;34m(\u001b[0m\u001b[0mobj\u001b[0m\u001b[0;34m.\u001b[0m\u001b[0mitems\u001b[0m\u001b[0;34m(\u001b[0m\u001b[0;34m)\u001b[0m\u001b[0;34m)\u001b[0m\u001b[0;34m\u001b[0m\u001b[0;34m\u001b[0m\u001b[0m\n\u001b[0m\u001b[1;32m    860\u001b[0m \u001b[0;34m\u001b[0m\u001b[0m\n\u001b[1;32m    861\u001b[0m     \u001b[0mdispatch\u001b[0m\u001b[0;34m[\u001b[0m\u001b[0mdict\u001b[0m\u001b[0;34m]\u001b[0m \u001b[0;34m=\u001b[0m \u001b[0msave_dict\u001b[0m\u001b[0;34m\u001b[0m\u001b[0;34m\u001b[0m\u001b[0m\n",
      "\u001b[0;32m~/opt/anaconda3/lib/python3.7/pickle.py\u001b[0m in \u001b[0;36m_batch_setitems\u001b[0;34m(self, items)\u001b[0m\n\u001b[1;32m    883\u001b[0m                 \u001b[0;32mfor\u001b[0m \u001b[0mk\u001b[0m\u001b[0;34m,\u001b[0m \u001b[0mv\u001b[0m \u001b[0;32min\u001b[0m \u001b[0mtmp\u001b[0m\u001b[0;34m:\u001b[0m\u001b[0;34m\u001b[0m\u001b[0;34m\u001b[0m\u001b[0m\n\u001b[1;32m    884\u001b[0m                     \u001b[0msave\u001b[0m\u001b[0;34m(\u001b[0m\u001b[0mk\u001b[0m\u001b[0;34m)\u001b[0m\u001b[0;34m\u001b[0m\u001b[0;34m\u001b[0m\u001b[0m\n\u001b[0;32m--> 885\u001b[0;31m                     \u001b[0msave\u001b[0m\u001b[0;34m(\u001b[0m\u001b[0mv\u001b[0m\u001b[0;34m)\u001b[0m\u001b[0;34m\u001b[0m\u001b[0;34m\u001b[0m\u001b[0m\n\u001b[0m\u001b[1;32m    886\u001b[0m                 \u001b[0mwrite\u001b[0m\u001b[0;34m(\u001b[0m\u001b[0mSETITEMS\u001b[0m\u001b[0;34m)\u001b[0m\u001b[0;34m\u001b[0m\u001b[0;34m\u001b[0m\u001b[0m\n\u001b[1;32m    887\u001b[0m             \u001b[0;32melif\u001b[0m \u001b[0mn\u001b[0m\u001b[0;34m:\u001b[0m\u001b[0;34m\u001b[0m\u001b[0;34m\u001b[0m\u001b[0m\n",
      "\u001b[0;32m~/opt/anaconda3/lib/python3.7/site-packages/joblib/numpy_pickle.py\u001b[0m in \u001b[0;36msave\u001b[0;34m(self, obj)\u001b[0m\n\u001b[1;32m    280\u001b[0m             \u001b[0;32mreturn\u001b[0m\u001b[0;34m\u001b[0m\u001b[0;34m\u001b[0m\u001b[0m\n\u001b[1;32m    281\u001b[0m \u001b[0;34m\u001b[0m\u001b[0m\n\u001b[0;32m--> 282\u001b[0;31m         \u001b[0;32mreturn\u001b[0m \u001b[0mPickler\u001b[0m\u001b[0;34m.\u001b[0m\u001b[0msave\u001b[0m\u001b[0;34m(\u001b[0m\u001b[0mself\u001b[0m\u001b[0;34m,\u001b[0m \u001b[0mobj\u001b[0m\u001b[0;34m)\u001b[0m\u001b[0;34m\u001b[0m\u001b[0;34m\u001b[0m\u001b[0m\n\u001b[0m\u001b[1;32m    283\u001b[0m \u001b[0;34m\u001b[0m\u001b[0m\n\u001b[1;32m    284\u001b[0m \u001b[0;34m\u001b[0m\u001b[0m\n",
      "\u001b[0;32m~/opt/anaconda3/lib/python3.7/pickle.py\u001b[0m in \u001b[0;36msave\u001b[0;34m(self, obj, save_persistent_id)\u001b[0m\n\u001b[1;32m    502\u001b[0m         \u001b[0mf\u001b[0m \u001b[0;34m=\u001b[0m \u001b[0mself\u001b[0m\u001b[0;34m.\u001b[0m\u001b[0mdispatch\u001b[0m\u001b[0;34m.\u001b[0m\u001b[0mget\u001b[0m\u001b[0;34m(\u001b[0m\u001b[0mt\u001b[0m\u001b[0;34m)\u001b[0m\u001b[0;34m\u001b[0m\u001b[0;34m\u001b[0m\u001b[0m\n\u001b[1;32m    503\u001b[0m         \u001b[0;32mif\u001b[0m \u001b[0mf\u001b[0m \u001b[0;32mis\u001b[0m \u001b[0;32mnot\u001b[0m \u001b[0;32mNone\u001b[0m\u001b[0;34m:\u001b[0m\u001b[0;34m\u001b[0m\u001b[0;34m\u001b[0m\u001b[0m\n\u001b[0;32m--> 504\u001b[0;31m             \u001b[0mf\u001b[0m\u001b[0;34m(\u001b[0m\u001b[0mself\u001b[0m\u001b[0;34m,\u001b[0m \u001b[0mobj\u001b[0m\u001b[0;34m)\u001b[0m \u001b[0;31m# Call unbound method with explicit self\u001b[0m\u001b[0;34m\u001b[0m\u001b[0;34m\u001b[0m\u001b[0m\n\u001b[0m\u001b[1;32m    505\u001b[0m             \u001b[0;32mreturn\u001b[0m\u001b[0;34m\u001b[0m\u001b[0;34m\u001b[0m\u001b[0m\n\u001b[1;32m    506\u001b[0m \u001b[0;34m\u001b[0m\u001b[0m\n",
      "\u001b[0;32m~/opt/anaconda3/lib/python3.7/pickle.py\u001b[0m in \u001b[0;36msave_list\u001b[0;34m(self, obj)\u001b[0m\n\u001b[1;32m    817\u001b[0m \u001b[0;34m\u001b[0m\u001b[0m\n\u001b[1;32m    818\u001b[0m         \u001b[0mself\u001b[0m\u001b[0;34m.\u001b[0m\u001b[0mmemoize\u001b[0m\u001b[0;34m(\u001b[0m\u001b[0mobj\u001b[0m\u001b[0;34m)\u001b[0m\u001b[0;34m\u001b[0m\u001b[0;34m\u001b[0m\u001b[0m\n\u001b[0;32m--> 819\u001b[0;31m         \u001b[0mself\u001b[0m\u001b[0;34m.\u001b[0m\u001b[0m_batch_appends\u001b[0m\u001b[0;34m(\u001b[0m\u001b[0mobj\u001b[0m\u001b[0;34m)\u001b[0m\u001b[0;34m\u001b[0m\u001b[0;34m\u001b[0m\u001b[0m\n\u001b[0m\u001b[1;32m    820\u001b[0m \u001b[0;34m\u001b[0m\u001b[0m\n\u001b[1;32m    821\u001b[0m     \u001b[0mdispatch\u001b[0m\u001b[0;34m[\u001b[0m\u001b[0mlist\u001b[0m\u001b[0;34m]\u001b[0m \u001b[0;34m=\u001b[0m \u001b[0msave_list\u001b[0m\u001b[0;34m\u001b[0m\u001b[0;34m\u001b[0m\u001b[0m\n",
      "\u001b[0;32m~/opt/anaconda3/lib/python3.7/pickle.py\u001b[0m in \u001b[0;36m_batch_appends\u001b[0;34m(self, items)\u001b[0m\n\u001b[1;32m    844\u001b[0m                 \u001b[0mwrite\u001b[0m\u001b[0;34m(\u001b[0m\u001b[0mAPPENDS\u001b[0m\u001b[0;34m)\u001b[0m\u001b[0;34m\u001b[0m\u001b[0;34m\u001b[0m\u001b[0m\n\u001b[1;32m    845\u001b[0m             \u001b[0;32melif\u001b[0m \u001b[0mn\u001b[0m\u001b[0;34m:\u001b[0m\u001b[0;34m\u001b[0m\u001b[0;34m\u001b[0m\u001b[0m\n\u001b[0;32m--> 846\u001b[0;31m                 \u001b[0msave\u001b[0m\u001b[0;34m(\u001b[0m\u001b[0mtmp\u001b[0m\u001b[0;34m[\u001b[0m\u001b[0;36m0\u001b[0m\u001b[0;34m]\u001b[0m\u001b[0;34m)\u001b[0m\u001b[0;34m\u001b[0m\u001b[0;34m\u001b[0m\u001b[0m\n\u001b[0m\u001b[1;32m    847\u001b[0m                 \u001b[0mwrite\u001b[0m\u001b[0;34m(\u001b[0m\u001b[0mAPPEND\u001b[0m\u001b[0;34m)\u001b[0m\u001b[0;34m\u001b[0m\u001b[0;34m\u001b[0m\u001b[0m\n\u001b[1;32m    848\u001b[0m             \u001b[0;31m# else tmp is empty, and we're done\u001b[0m\u001b[0;34m\u001b[0m\u001b[0;34m\u001b[0m\u001b[0;34m\u001b[0m\u001b[0m\n",
      "\u001b[0;32m~/opt/anaconda3/lib/python3.7/site-packages/joblib/numpy_pickle.py\u001b[0m in \u001b[0;36msave\u001b[0;34m(self, obj)\u001b[0m\n\u001b[1;32m    280\u001b[0m             \u001b[0;32mreturn\u001b[0m\u001b[0;34m\u001b[0m\u001b[0;34m\u001b[0m\u001b[0m\n\u001b[1;32m    281\u001b[0m \u001b[0;34m\u001b[0m\u001b[0m\n\u001b[0;32m--> 282\u001b[0;31m         \u001b[0;32mreturn\u001b[0m \u001b[0mPickler\u001b[0m\u001b[0;34m.\u001b[0m\u001b[0msave\u001b[0m\u001b[0;34m(\u001b[0m\u001b[0mself\u001b[0m\u001b[0;34m,\u001b[0m \u001b[0mobj\u001b[0m\u001b[0;34m)\u001b[0m\u001b[0;34m\u001b[0m\u001b[0;34m\u001b[0m\u001b[0m\n\u001b[0m\u001b[1;32m    283\u001b[0m \u001b[0;34m\u001b[0m\u001b[0m\n\u001b[1;32m    284\u001b[0m \u001b[0;34m\u001b[0m\u001b[0m\n",
      "\u001b[0;32m~/opt/anaconda3/lib/python3.7/pickle.py\u001b[0m in \u001b[0;36msave\u001b[0;34m(self, obj, save_persistent_id)\u001b[0m\n\u001b[1;32m    547\u001b[0m \u001b[0;34m\u001b[0m\u001b[0m\n\u001b[1;32m    548\u001b[0m         \u001b[0;31m# Save the reduce() output and finally memoize the object\u001b[0m\u001b[0;34m\u001b[0m\u001b[0;34m\u001b[0m\u001b[0;34m\u001b[0m\u001b[0m\n\u001b[0;32m--> 549\u001b[0;31m         \u001b[0mself\u001b[0m\u001b[0;34m.\u001b[0m\u001b[0msave_reduce\u001b[0m\u001b[0;34m(\u001b[0m\u001b[0mobj\u001b[0m\u001b[0;34m=\u001b[0m\u001b[0mobj\u001b[0m\u001b[0;34m,\u001b[0m \u001b[0;34m*\u001b[0m\u001b[0mrv\u001b[0m\u001b[0;34m)\u001b[0m\u001b[0;34m\u001b[0m\u001b[0;34m\u001b[0m\u001b[0m\n\u001b[0m\u001b[1;32m    550\u001b[0m \u001b[0;34m\u001b[0m\u001b[0m\n\u001b[1;32m    551\u001b[0m     \u001b[0;32mdef\u001b[0m \u001b[0mpersistent_id\u001b[0m\u001b[0;34m(\u001b[0m\u001b[0mself\u001b[0m\u001b[0;34m,\u001b[0m \u001b[0mobj\u001b[0m\u001b[0;34m)\u001b[0m\u001b[0;34m:\u001b[0m\u001b[0;34m\u001b[0m\u001b[0;34m\u001b[0m\u001b[0m\n",
      "\u001b[0;32m~/opt/anaconda3/lib/python3.7/pickle.py\u001b[0m in \u001b[0;36msave_reduce\u001b[0;34m(self, func, args, state, listitems, dictitems, obj)\u001b[0m\n\u001b[1;32m    660\u001b[0m \u001b[0;34m\u001b[0m\u001b[0m\n\u001b[1;32m    661\u001b[0m         \u001b[0;32mif\u001b[0m \u001b[0mstate\u001b[0m \u001b[0;32mis\u001b[0m \u001b[0;32mnot\u001b[0m \u001b[0;32mNone\u001b[0m\u001b[0;34m:\u001b[0m\u001b[0;34m\u001b[0m\u001b[0;34m\u001b[0m\u001b[0m\n\u001b[0;32m--> 662\u001b[0;31m             \u001b[0msave\u001b[0m\u001b[0;34m(\u001b[0m\u001b[0mstate\u001b[0m\u001b[0;34m)\u001b[0m\u001b[0;34m\u001b[0m\u001b[0;34m\u001b[0m\u001b[0m\n\u001b[0m\u001b[1;32m    663\u001b[0m             \u001b[0mwrite\u001b[0m\u001b[0;34m(\u001b[0m\u001b[0mBUILD\u001b[0m\u001b[0;34m)\u001b[0m\u001b[0;34m\u001b[0m\u001b[0;34m\u001b[0m\u001b[0m\n\u001b[1;32m    664\u001b[0m \u001b[0;34m\u001b[0m\u001b[0m\n",
      "\u001b[0;32m~/opt/anaconda3/lib/python3.7/site-packages/joblib/numpy_pickle.py\u001b[0m in \u001b[0;36msave\u001b[0;34m(self, obj)\u001b[0m\n\u001b[1;32m    280\u001b[0m             \u001b[0;32mreturn\u001b[0m\u001b[0;34m\u001b[0m\u001b[0;34m\u001b[0m\u001b[0m\n\u001b[1;32m    281\u001b[0m \u001b[0;34m\u001b[0m\u001b[0m\n\u001b[0;32m--> 282\u001b[0;31m         \u001b[0;32mreturn\u001b[0m \u001b[0mPickler\u001b[0m\u001b[0;34m.\u001b[0m\u001b[0msave\u001b[0m\u001b[0;34m(\u001b[0m\u001b[0mself\u001b[0m\u001b[0;34m,\u001b[0m \u001b[0mobj\u001b[0m\u001b[0;34m)\u001b[0m\u001b[0;34m\u001b[0m\u001b[0;34m\u001b[0m\u001b[0m\n\u001b[0m\u001b[1;32m    283\u001b[0m \u001b[0;34m\u001b[0m\u001b[0m\n\u001b[1;32m    284\u001b[0m \u001b[0;34m\u001b[0m\u001b[0m\n",
      "\u001b[0;32m~/opt/anaconda3/lib/python3.7/pickle.py\u001b[0m in \u001b[0;36msave\u001b[0;34m(self, obj, save_persistent_id)\u001b[0m\n\u001b[1;32m    502\u001b[0m         \u001b[0mf\u001b[0m \u001b[0;34m=\u001b[0m \u001b[0mself\u001b[0m\u001b[0;34m.\u001b[0m\u001b[0mdispatch\u001b[0m\u001b[0;34m.\u001b[0m\u001b[0mget\u001b[0m\u001b[0;34m(\u001b[0m\u001b[0mt\u001b[0m\u001b[0;34m)\u001b[0m\u001b[0;34m\u001b[0m\u001b[0;34m\u001b[0m\u001b[0m\n\u001b[1;32m    503\u001b[0m         \u001b[0;32mif\u001b[0m \u001b[0mf\u001b[0m \u001b[0;32mis\u001b[0m \u001b[0;32mnot\u001b[0m \u001b[0;32mNone\u001b[0m\u001b[0;34m:\u001b[0m\u001b[0;34m\u001b[0m\u001b[0;34m\u001b[0m\u001b[0m\n\u001b[0;32m--> 504\u001b[0;31m             \u001b[0mf\u001b[0m\u001b[0;34m(\u001b[0m\u001b[0mself\u001b[0m\u001b[0;34m,\u001b[0m \u001b[0mobj\u001b[0m\u001b[0;34m)\u001b[0m \u001b[0;31m# Call unbound method with explicit self\u001b[0m\u001b[0;34m\u001b[0m\u001b[0;34m\u001b[0m\u001b[0m\n\u001b[0m\u001b[1;32m    505\u001b[0m             \u001b[0;32mreturn\u001b[0m\u001b[0;34m\u001b[0m\u001b[0;34m\u001b[0m\u001b[0m\n\u001b[1;32m    506\u001b[0m \u001b[0;34m\u001b[0m\u001b[0m\n",
      "\u001b[0;32m~/opt/anaconda3/lib/python3.7/pickle.py\u001b[0m in \u001b[0;36msave_dict\u001b[0;34m(self, obj)\u001b[0m\n\u001b[1;32m    857\u001b[0m \u001b[0;34m\u001b[0m\u001b[0m\n\u001b[1;32m    858\u001b[0m         \u001b[0mself\u001b[0m\u001b[0;34m.\u001b[0m\u001b[0mmemoize\u001b[0m\u001b[0;34m(\u001b[0m\u001b[0mobj\u001b[0m\u001b[0;34m)\u001b[0m\u001b[0;34m\u001b[0m\u001b[0;34m\u001b[0m\u001b[0m\n\u001b[0;32m--> 859\u001b[0;31m         \u001b[0mself\u001b[0m\u001b[0;34m.\u001b[0m\u001b[0m_batch_setitems\u001b[0m\u001b[0;34m(\u001b[0m\u001b[0mobj\u001b[0m\u001b[0;34m.\u001b[0m\u001b[0mitems\u001b[0m\u001b[0;34m(\u001b[0m\u001b[0;34m)\u001b[0m\u001b[0;34m)\u001b[0m\u001b[0;34m\u001b[0m\u001b[0;34m\u001b[0m\u001b[0m\n\u001b[0m\u001b[1;32m    860\u001b[0m \u001b[0;34m\u001b[0m\u001b[0m\n\u001b[1;32m    861\u001b[0m     \u001b[0mdispatch\u001b[0m\u001b[0;34m[\u001b[0m\u001b[0mdict\u001b[0m\u001b[0;34m]\u001b[0m \u001b[0;34m=\u001b[0m \u001b[0msave_dict\u001b[0m\u001b[0;34m\u001b[0m\u001b[0;34m\u001b[0m\u001b[0m\n",
      "\u001b[0;32m~/opt/anaconda3/lib/python3.7/pickle.py\u001b[0m in \u001b[0;36m_batch_setitems\u001b[0;34m(self, items)\u001b[0m\n\u001b[1;32m    883\u001b[0m                 \u001b[0;32mfor\u001b[0m \u001b[0mk\u001b[0m\u001b[0;34m,\u001b[0m \u001b[0mv\u001b[0m \u001b[0;32min\u001b[0m \u001b[0mtmp\u001b[0m\u001b[0;34m:\u001b[0m\u001b[0;34m\u001b[0m\u001b[0;34m\u001b[0m\u001b[0m\n\u001b[1;32m    884\u001b[0m                     \u001b[0msave\u001b[0m\u001b[0;34m(\u001b[0m\u001b[0mk\u001b[0m\u001b[0;34m)\u001b[0m\u001b[0;34m\u001b[0m\u001b[0;34m\u001b[0m\u001b[0m\n\u001b[0;32m--> 885\u001b[0;31m                     \u001b[0msave\u001b[0m\u001b[0;34m(\u001b[0m\u001b[0mv\u001b[0m\u001b[0;34m)\u001b[0m\u001b[0;34m\u001b[0m\u001b[0;34m\u001b[0m\u001b[0m\n\u001b[0m\u001b[1;32m    886\u001b[0m                 \u001b[0mwrite\u001b[0m\u001b[0;34m(\u001b[0m\u001b[0mSETITEMS\u001b[0m\u001b[0;34m)\u001b[0m\u001b[0;34m\u001b[0m\u001b[0;34m\u001b[0m\u001b[0m\n\u001b[1;32m    887\u001b[0m             \u001b[0;32melif\u001b[0m \u001b[0mn\u001b[0m\u001b[0;34m:\u001b[0m\u001b[0;34m\u001b[0m\u001b[0;34m\u001b[0m\u001b[0m\n",
      "\u001b[0;32m~/opt/anaconda3/lib/python3.7/site-packages/joblib/numpy_pickle.py\u001b[0m in \u001b[0;36msave\u001b[0;34m(self, obj)\u001b[0m\n\u001b[1;32m    280\u001b[0m             \u001b[0;32mreturn\u001b[0m\u001b[0;34m\u001b[0m\u001b[0;34m\u001b[0m\u001b[0m\n\u001b[1;32m    281\u001b[0m \u001b[0;34m\u001b[0m\u001b[0m\n\u001b[0;32m--> 282\u001b[0;31m         \u001b[0;32mreturn\u001b[0m \u001b[0mPickler\u001b[0m\u001b[0;34m.\u001b[0m\u001b[0msave\u001b[0m\u001b[0;34m(\u001b[0m\u001b[0mself\u001b[0m\u001b[0;34m,\u001b[0m \u001b[0mobj\u001b[0m\u001b[0;34m)\u001b[0m\u001b[0;34m\u001b[0m\u001b[0;34m\u001b[0m\u001b[0m\n\u001b[0m\u001b[1;32m    283\u001b[0m \u001b[0;34m\u001b[0m\u001b[0m\n\u001b[1;32m    284\u001b[0m \u001b[0;34m\u001b[0m\u001b[0m\n",
      "\u001b[0;32m~/opt/anaconda3/lib/python3.7/pickle.py\u001b[0m in \u001b[0;36msave\u001b[0;34m(self, obj, save_persistent_id)\u001b[0m\n\u001b[1;32m    547\u001b[0m \u001b[0;34m\u001b[0m\u001b[0m\n\u001b[1;32m    548\u001b[0m         \u001b[0;31m# Save the reduce() output and finally memoize the object\u001b[0m\u001b[0;34m\u001b[0m\u001b[0;34m\u001b[0m\u001b[0;34m\u001b[0m\u001b[0m\n\u001b[0;32m--> 549\u001b[0;31m         \u001b[0mself\u001b[0m\u001b[0;34m.\u001b[0m\u001b[0msave_reduce\u001b[0m\u001b[0;34m(\u001b[0m\u001b[0mobj\u001b[0m\u001b[0;34m=\u001b[0m\u001b[0mobj\u001b[0m\u001b[0;34m,\u001b[0m \u001b[0;34m*\u001b[0m\u001b[0mrv\u001b[0m\u001b[0;34m)\u001b[0m\u001b[0;34m\u001b[0m\u001b[0;34m\u001b[0m\u001b[0m\n\u001b[0m\u001b[1;32m    550\u001b[0m \u001b[0;34m\u001b[0m\u001b[0m\n\u001b[1;32m    551\u001b[0m     \u001b[0;32mdef\u001b[0m \u001b[0mpersistent_id\u001b[0m\u001b[0;34m(\u001b[0m\u001b[0mself\u001b[0m\u001b[0;34m,\u001b[0m \u001b[0mobj\u001b[0m\u001b[0;34m)\u001b[0m\u001b[0;34m:\u001b[0m\u001b[0;34m\u001b[0m\u001b[0;34m\u001b[0m\u001b[0m\n",
      "\u001b[0;32m~/opt/anaconda3/lib/python3.7/pickle.py\u001b[0m in \u001b[0;36msave_reduce\u001b[0;34m(self, func, args, state, listitems, dictitems, obj)\u001b[0m\n\u001b[1;32m    660\u001b[0m \u001b[0;34m\u001b[0m\u001b[0m\n\u001b[1;32m    661\u001b[0m         \u001b[0;32mif\u001b[0m \u001b[0mstate\u001b[0m \u001b[0;32mis\u001b[0m \u001b[0;32mnot\u001b[0m \u001b[0;32mNone\u001b[0m\u001b[0;34m:\u001b[0m\u001b[0;34m\u001b[0m\u001b[0;34m\u001b[0m\u001b[0m\n\u001b[0;32m--> 662\u001b[0;31m             \u001b[0msave\u001b[0m\u001b[0;34m(\u001b[0m\u001b[0mstate\u001b[0m\u001b[0;34m)\u001b[0m\u001b[0;34m\u001b[0m\u001b[0;34m\u001b[0m\u001b[0m\n\u001b[0m\u001b[1;32m    663\u001b[0m             \u001b[0mwrite\u001b[0m\u001b[0;34m(\u001b[0m\u001b[0mBUILD\u001b[0m\u001b[0;34m)\u001b[0m\u001b[0;34m\u001b[0m\u001b[0;34m\u001b[0m\u001b[0m\n\u001b[1;32m    664\u001b[0m \u001b[0;34m\u001b[0m\u001b[0m\n",
      "\u001b[0;32m~/opt/anaconda3/lib/python3.7/site-packages/joblib/numpy_pickle.py\u001b[0m in \u001b[0;36msave\u001b[0;34m(self, obj)\u001b[0m\n\u001b[1;32m    280\u001b[0m             \u001b[0;32mreturn\u001b[0m\u001b[0;34m\u001b[0m\u001b[0;34m\u001b[0m\u001b[0m\n\u001b[1;32m    281\u001b[0m \u001b[0;34m\u001b[0m\u001b[0m\n\u001b[0;32m--> 282\u001b[0;31m         \u001b[0;32mreturn\u001b[0m \u001b[0mPickler\u001b[0m\u001b[0;34m.\u001b[0m\u001b[0msave\u001b[0m\u001b[0;34m(\u001b[0m\u001b[0mself\u001b[0m\u001b[0;34m,\u001b[0m \u001b[0mobj\u001b[0m\u001b[0;34m)\u001b[0m\u001b[0;34m\u001b[0m\u001b[0;34m\u001b[0m\u001b[0m\n\u001b[0m\u001b[1;32m    283\u001b[0m \u001b[0;34m\u001b[0m\u001b[0m\n\u001b[1;32m    284\u001b[0m \u001b[0;34m\u001b[0m\u001b[0m\n",
      "\u001b[0;32m~/opt/anaconda3/lib/python3.7/pickle.py\u001b[0m in \u001b[0;36msave\u001b[0;34m(self, obj, save_persistent_id)\u001b[0m\n\u001b[1;32m    502\u001b[0m         \u001b[0mf\u001b[0m \u001b[0;34m=\u001b[0m \u001b[0mself\u001b[0m\u001b[0;34m.\u001b[0m\u001b[0mdispatch\u001b[0m\u001b[0;34m.\u001b[0m\u001b[0mget\u001b[0m\u001b[0;34m(\u001b[0m\u001b[0mt\u001b[0m\u001b[0;34m)\u001b[0m\u001b[0;34m\u001b[0m\u001b[0;34m\u001b[0m\u001b[0m\n\u001b[1;32m    503\u001b[0m         \u001b[0;32mif\u001b[0m \u001b[0mf\u001b[0m \u001b[0;32mis\u001b[0m \u001b[0;32mnot\u001b[0m \u001b[0;32mNone\u001b[0m\u001b[0;34m:\u001b[0m\u001b[0;34m\u001b[0m\u001b[0;34m\u001b[0m\u001b[0m\n\u001b[0;32m--> 504\u001b[0;31m             \u001b[0mf\u001b[0m\u001b[0;34m(\u001b[0m\u001b[0mself\u001b[0m\u001b[0;34m,\u001b[0m \u001b[0mobj\u001b[0m\u001b[0;34m)\u001b[0m \u001b[0;31m# Call unbound method with explicit self\u001b[0m\u001b[0;34m\u001b[0m\u001b[0;34m\u001b[0m\u001b[0m\n\u001b[0m\u001b[1;32m    505\u001b[0m             \u001b[0;32mreturn\u001b[0m\u001b[0;34m\u001b[0m\u001b[0;34m\u001b[0m\u001b[0m\n\u001b[1;32m    506\u001b[0m \u001b[0;34m\u001b[0m\u001b[0m\n",
      "\u001b[0;32m~/opt/anaconda3/lib/python3.7/pickle.py\u001b[0m in \u001b[0;36msave_dict\u001b[0;34m(self, obj)\u001b[0m\n\u001b[1;32m    857\u001b[0m \u001b[0;34m\u001b[0m\u001b[0m\n\u001b[1;32m    858\u001b[0m         \u001b[0mself\u001b[0m\u001b[0;34m.\u001b[0m\u001b[0mmemoize\u001b[0m\u001b[0;34m(\u001b[0m\u001b[0mobj\u001b[0m\u001b[0;34m)\u001b[0m\u001b[0;34m\u001b[0m\u001b[0;34m\u001b[0m\u001b[0m\n\u001b[0;32m--> 859\u001b[0;31m         \u001b[0mself\u001b[0m\u001b[0;34m.\u001b[0m\u001b[0m_batch_setitems\u001b[0m\u001b[0;34m(\u001b[0m\u001b[0mobj\u001b[0m\u001b[0;34m.\u001b[0m\u001b[0mitems\u001b[0m\u001b[0;34m(\u001b[0m\u001b[0;34m)\u001b[0m\u001b[0;34m)\u001b[0m\u001b[0;34m\u001b[0m\u001b[0;34m\u001b[0m\u001b[0m\n\u001b[0m\u001b[1;32m    860\u001b[0m \u001b[0;34m\u001b[0m\u001b[0m\n\u001b[1;32m    861\u001b[0m     \u001b[0mdispatch\u001b[0m\u001b[0;34m[\u001b[0m\u001b[0mdict\u001b[0m\u001b[0;34m]\u001b[0m \u001b[0;34m=\u001b[0m \u001b[0msave_dict\u001b[0m\u001b[0;34m\u001b[0m\u001b[0;34m\u001b[0m\u001b[0m\n",
      "\u001b[0;32m~/opt/anaconda3/lib/python3.7/pickle.py\u001b[0m in \u001b[0;36m_batch_setitems\u001b[0;34m(self, items)\u001b[0m\n\u001b[1;32m    883\u001b[0m                 \u001b[0;32mfor\u001b[0m \u001b[0mk\u001b[0m\u001b[0;34m,\u001b[0m \u001b[0mv\u001b[0m \u001b[0;32min\u001b[0m \u001b[0mtmp\u001b[0m\u001b[0;34m:\u001b[0m\u001b[0;34m\u001b[0m\u001b[0;34m\u001b[0m\u001b[0m\n\u001b[1;32m    884\u001b[0m                     \u001b[0msave\u001b[0m\u001b[0;34m(\u001b[0m\u001b[0mk\u001b[0m\u001b[0;34m)\u001b[0m\u001b[0;34m\u001b[0m\u001b[0;34m\u001b[0m\u001b[0m\n\u001b[0;32m--> 885\u001b[0;31m                     \u001b[0msave\u001b[0m\u001b[0;34m(\u001b[0m\u001b[0mv\u001b[0m\u001b[0;34m)\u001b[0m\u001b[0;34m\u001b[0m\u001b[0;34m\u001b[0m\u001b[0m\n\u001b[0m\u001b[1;32m    886\u001b[0m                 \u001b[0mwrite\u001b[0m\u001b[0;34m(\u001b[0m\u001b[0mSETITEMS\u001b[0m\u001b[0;34m)\u001b[0m\u001b[0;34m\u001b[0m\u001b[0;34m\u001b[0m\u001b[0m\n\u001b[1;32m    887\u001b[0m             \u001b[0;32melif\u001b[0m \u001b[0mn\u001b[0m\u001b[0;34m:\u001b[0m\u001b[0;34m\u001b[0m\u001b[0;34m\u001b[0m\u001b[0m\n",
      "\u001b[0;32m~/opt/anaconda3/lib/python3.7/site-packages/joblib/numpy_pickle.py\u001b[0m in \u001b[0;36msave\u001b[0;34m(self, obj)\u001b[0m\n\u001b[1;32m    280\u001b[0m             \u001b[0;32mreturn\u001b[0m\u001b[0;34m\u001b[0m\u001b[0;34m\u001b[0m\u001b[0m\n\u001b[1;32m    281\u001b[0m \u001b[0;34m\u001b[0m\u001b[0m\n\u001b[0;32m--> 282\u001b[0;31m         \u001b[0;32mreturn\u001b[0m \u001b[0mPickler\u001b[0m\u001b[0;34m.\u001b[0m\u001b[0msave\u001b[0m\u001b[0;34m(\u001b[0m\u001b[0mself\u001b[0m\u001b[0;34m,\u001b[0m \u001b[0mobj\u001b[0m\u001b[0;34m)\u001b[0m\u001b[0;34m\u001b[0m\u001b[0;34m\u001b[0m\u001b[0m\n\u001b[0m\u001b[1;32m    283\u001b[0m \u001b[0;34m\u001b[0m\u001b[0m\n\u001b[1;32m    284\u001b[0m \u001b[0;34m\u001b[0m\u001b[0m\n",
      "\u001b[0;32m~/opt/anaconda3/lib/python3.7/pickle.py\u001b[0m in \u001b[0;36msave\u001b[0;34m(self, obj, save_persistent_id)\u001b[0m\n\u001b[1;32m    547\u001b[0m \u001b[0;34m\u001b[0m\u001b[0m\n\u001b[1;32m    548\u001b[0m         \u001b[0;31m# Save the reduce() output and finally memoize the object\u001b[0m\u001b[0;34m\u001b[0m\u001b[0;34m\u001b[0m\u001b[0;34m\u001b[0m\u001b[0m\n\u001b[0;32m--> 549\u001b[0;31m         \u001b[0mself\u001b[0m\u001b[0;34m.\u001b[0m\u001b[0msave_reduce\u001b[0m\u001b[0;34m(\u001b[0m\u001b[0mobj\u001b[0m\u001b[0;34m=\u001b[0m\u001b[0mobj\u001b[0m\u001b[0;34m,\u001b[0m \u001b[0;34m*\u001b[0m\u001b[0mrv\u001b[0m\u001b[0;34m)\u001b[0m\u001b[0;34m\u001b[0m\u001b[0;34m\u001b[0m\u001b[0m\n\u001b[0m\u001b[1;32m    550\u001b[0m \u001b[0;34m\u001b[0m\u001b[0m\n\u001b[1;32m    551\u001b[0m     \u001b[0;32mdef\u001b[0m \u001b[0mpersistent_id\u001b[0m\u001b[0;34m(\u001b[0m\u001b[0mself\u001b[0m\u001b[0;34m,\u001b[0m \u001b[0mobj\u001b[0m\u001b[0;34m)\u001b[0m\u001b[0;34m:\u001b[0m\u001b[0;34m\u001b[0m\u001b[0;34m\u001b[0m\u001b[0m\n",
      "\u001b[0;32m~/opt/anaconda3/lib/python3.7/pickle.py\u001b[0m in \u001b[0;36msave_reduce\u001b[0;34m(self, func, args, state, listitems, dictitems, obj)\u001b[0m\n\u001b[1;32m    660\u001b[0m \u001b[0;34m\u001b[0m\u001b[0m\n\u001b[1;32m    661\u001b[0m         \u001b[0;32mif\u001b[0m \u001b[0mstate\u001b[0m \u001b[0;32mis\u001b[0m \u001b[0;32mnot\u001b[0m \u001b[0;32mNone\u001b[0m\u001b[0;34m:\u001b[0m\u001b[0;34m\u001b[0m\u001b[0;34m\u001b[0m\u001b[0m\n\u001b[0;32m--> 662\u001b[0;31m             \u001b[0msave\u001b[0m\u001b[0;34m(\u001b[0m\u001b[0mstate\u001b[0m\u001b[0;34m)\u001b[0m\u001b[0;34m\u001b[0m\u001b[0;34m\u001b[0m\u001b[0m\n\u001b[0m\u001b[1;32m    663\u001b[0m             \u001b[0mwrite\u001b[0m\u001b[0;34m(\u001b[0m\u001b[0mBUILD\u001b[0m\u001b[0;34m)\u001b[0m\u001b[0;34m\u001b[0m\u001b[0;34m\u001b[0m\u001b[0m\n\u001b[1;32m    664\u001b[0m \u001b[0;34m\u001b[0m\u001b[0m\n",
      "\u001b[0;32m~/opt/anaconda3/lib/python3.7/site-packages/joblib/numpy_pickle.py\u001b[0m in \u001b[0;36msave\u001b[0;34m(self, obj)\u001b[0m\n\u001b[1;32m    280\u001b[0m             \u001b[0;32mreturn\u001b[0m\u001b[0;34m\u001b[0m\u001b[0;34m\u001b[0m\u001b[0m\n\u001b[1;32m    281\u001b[0m \u001b[0;34m\u001b[0m\u001b[0m\n\u001b[0;32m--> 282\u001b[0;31m         \u001b[0;32mreturn\u001b[0m \u001b[0mPickler\u001b[0m\u001b[0;34m.\u001b[0m\u001b[0msave\u001b[0m\u001b[0;34m(\u001b[0m\u001b[0mself\u001b[0m\u001b[0;34m,\u001b[0m \u001b[0mobj\u001b[0m\u001b[0;34m)\u001b[0m\u001b[0;34m\u001b[0m\u001b[0;34m\u001b[0m\u001b[0m\n\u001b[0m\u001b[1;32m    283\u001b[0m \u001b[0;34m\u001b[0m\u001b[0m\n\u001b[1;32m    284\u001b[0m \u001b[0;34m\u001b[0m\u001b[0m\n",
      "\u001b[0;32m~/opt/anaconda3/lib/python3.7/pickle.py\u001b[0m in \u001b[0;36msave\u001b[0;34m(self, obj, save_persistent_id)\u001b[0m\n\u001b[1;32m    502\u001b[0m         \u001b[0mf\u001b[0m \u001b[0;34m=\u001b[0m \u001b[0mself\u001b[0m\u001b[0;34m.\u001b[0m\u001b[0mdispatch\u001b[0m\u001b[0;34m.\u001b[0m\u001b[0mget\u001b[0m\u001b[0;34m(\u001b[0m\u001b[0mt\u001b[0m\u001b[0;34m)\u001b[0m\u001b[0;34m\u001b[0m\u001b[0;34m\u001b[0m\u001b[0m\n\u001b[1;32m    503\u001b[0m         \u001b[0;32mif\u001b[0m \u001b[0mf\u001b[0m \u001b[0;32mis\u001b[0m \u001b[0;32mnot\u001b[0m \u001b[0;32mNone\u001b[0m\u001b[0;34m:\u001b[0m\u001b[0;34m\u001b[0m\u001b[0;34m\u001b[0m\u001b[0m\n\u001b[0;32m--> 504\u001b[0;31m             \u001b[0mf\u001b[0m\u001b[0;34m(\u001b[0m\u001b[0mself\u001b[0m\u001b[0;34m,\u001b[0m \u001b[0mobj\u001b[0m\u001b[0;34m)\u001b[0m \u001b[0;31m# Call unbound method with explicit self\u001b[0m\u001b[0;34m\u001b[0m\u001b[0;34m\u001b[0m\u001b[0m\n\u001b[0m\u001b[1;32m    505\u001b[0m             \u001b[0;32mreturn\u001b[0m\u001b[0;34m\u001b[0m\u001b[0;34m\u001b[0m\u001b[0m\n\u001b[1;32m    506\u001b[0m \u001b[0;34m\u001b[0m\u001b[0m\n",
      "\u001b[0;32m~/opt/anaconda3/lib/python3.7/pickle.py\u001b[0m in \u001b[0;36msave_dict\u001b[0;34m(self, obj)\u001b[0m\n\u001b[1;32m    857\u001b[0m \u001b[0;34m\u001b[0m\u001b[0m\n\u001b[1;32m    858\u001b[0m         \u001b[0mself\u001b[0m\u001b[0;34m.\u001b[0m\u001b[0mmemoize\u001b[0m\u001b[0;34m(\u001b[0m\u001b[0mobj\u001b[0m\u001b[0;34m)\u001b[0m\u001b[0;34m\u001b[0m\u001b[0;34m\u001b[0m\u001b[0m\n\u001b[0;32m--> 859\u001b[0;31m         \u001b[0mself\u001b[0m\u001b[0;34m.\u001b[0m\u001b[0m_batch_setitems\u001b[0m\u001b[0;34m(\u001b[0m\u001b[0mobj\u001b[0m\u001b[0;34m.\u001b[0m\u001b[0mitems\u001b[0m\u001b[0;34m(\u001b[0m\u001b[0;34m)\u001b[0m\u001b[0;34m)\u001b[0m\u001b[0;34m\u001b[0m\u001b[0;34m\u001b[0m\u001b[0m\n\u001b[0m\u001b[1;32m    860\u001b[0m \u001b[0;34m\u001b[0m\u001b[0m\n\u001b[1;32m    861\u001b[0m     \u001b[0mdispatch\u001b[0m\u001b[0;34m[\u001b[0m\u001b[0mdict\u001b[0m\u001b[0;34m]\u001b[0m \u001b[0;34m=\u001b[0m \u001b[0msave_dict\u001b[0m\u001b[0;34m\u001b[0m\u001b[0;34m\u001b[0m\u001b[0m\n",
      "\u001b[0;32m~/opt/anaconda3/lib/python3.7/pickle.py\u001b[0m in \u001b[0;36m_batch_setitems\u001b[0;34m(self, items)\u001b[0m\n\u001b[1;32m    883\u001b[0m                 \u001b[0;32mfor\u001b[0m \u001b[0mk\u001b[0m\u001b[0;34m,\u001b[0m \u001b[0mv\u001b[0m \u001b[0;32min\u001b[0m \u001b[0mtmp\u001b[0m\u001b[0;34m:\u001b[0m\u001b[0;34m\u001b[0m\u001b[0;34m\u001b[0m\u001b[0m\n\u001b[1;32m    884\u001b[0m                     \u001b[0msave\u001b[0m\u001b[0;34m(\u001b[0m\u001b[0mk\u001b[0m\u001b[0;34m)\u001b[0m\u001b[0;34m\u001b[0m\u001b[0;34m\u001b[0m\u001b[0m\n\u001b[0;32m--> 885\u001b[0;31m                     \u001b[0msave\u001b[0m\u001b[0;34m(\u001b[0m\u001b[0mv\u001b[0m\u001b[0;34m)\u001b[0m\u001b[0;34m\u001b[0m\u001b[0;34m\u001b[0m\u001b[0m\n\u001b[0m\u001b[1;32m    886\u001b[0m                 \u001b[0mwrite\u001b[0m\u001b[0;34m(\u001b[0m\u001b[0mSETITEMS\u001b[0m\u001b[0;34m)\u001b[0m\u001b[0;34m\u001b[0m\u001b[0;34m\u001b[0m\u001b[0m\n\u001b[1;32m    887\u001b[0m             \u001b[0;32melif\u001b[0m \u001b[0mn\u001b[0m\u001b[0;34m:\u001b[0m\u001b[0;34m\u001b[0m\u001b[0;34m\u001b[0m\u001b[0m\n",
      "\u001b[0;32m~/opt/anaconda3/lib/python3.7/site-packages/joblib/numpy_pickle.py\u001b[0m in \u001b[0;36msave\u001b[0;34m(self, obj)\u001b[0m\n\u001b[1;32m    280\u001b[0m             \u001b[0;32mreturn\u001b[0m\u001b[0;34m\u001b[0m\u001b[0;34m\u001b[0m\u001b[0m\n\u001b[1;32m    281\u001b[0m \u001b[0;34m\u001b[0m\u001b[0m\n\u001b[0;32m--> 282\u001b[0;31m         \u001b[0;32mreturn\u001b[0m \u001b[0mPickler\u001b[0m\u001b[0;34m.\u001b[0m\u001b[0msave\u001b[0m\u001b[0;34m(\u001b[0m\u001b[0mself\u001b[0m\u001b[0;34m,\u001b[0m \u001b[0mobj\u001b[0m\u001b[0;34m)\u001b[0m\u001b[0;34m\u001b[0m\u001b[0;34m\u001b[0m\u001b[0m\n\u001b[0m\u001b[1;32m    283\u001b[0m \u001b[0;34m\u001b[0m\u001b[0m\n\u001b[1;32m    284\u001b[0m \u001b[0;34m\u001b[0m\u001b[0m\n",
      "\u001b[0;32m~/opt/anaconda3/lib/python3.7/pickle.py\u001b[0m in \u001b[0;36msave\u001b[0;34m(self, obj, save_persistent_id)\u001b[0m\n\u001b[1;32m    547\u001b[0m \u001b[0;34m\u001b[0m\u001b[0m\n\u001b[1;32m    548\u001b[0m         \u001b[0;31m# Save the reduce() output and finally memoize the object\u001b[0m\u001b[0;34m\u001b[0m\u001b[0;34m\u001b[0m\u001b[0;34m\u001b[0m\u001b[0m\n\u001b[0;32m--> 549\u001b[0;31m         \u001b[0mself\u001b[0m\u001b[0;34m.\u001b[0m\u001b[0msave_reduce\u001b[0m\u001b[0;34m(\u001b[0m\u001b[0mobj\u001b[0m\u001b[0;34m=\u001b[0m\u001b[0mobj\u001b[0m\u001b[0;34m,\u001b[0m \u001b[0;34m*\u001b[0m\u001b[0mrv\u001b[0m\u001b[0;34m)\u001b[0m\u001b[0;34m\u001b[0m\u001b[0;34m\u001b[0m\u001b[0m\n\u001b[0m\u001b[1;32m    550\u001b[0m \u001b[0;34m\u001b[0m\u001b[0m\n\u001b[1;32m    551\u001b[0m     \u001b[0;32mdef\u001b[0m \u001b[0mpersistent_id\u001b[0m\u001b[0;34m(\u001b[0m\u001b[0mself\u001b[0m\u001b[0;34m,\u001b[0m \u001b[0mobj\u001b[0m\u001b[0;34m)\u001b[0m\u001b[0;34m:\u001b[0m\u001b[0;34m\u001b[0m\u001b[0;34m\u001b[0m\u001b[0m\n",
      "\u001b[0;32m~/opt/anaconda3/lib/python3.7/pickle.py\u001b[0m in \u001b[0;36msave_reduce\u001b[0;34m(self, func, args, state, listitems, dictitems, obj)\u001b[0m\n\u001b[1;32m    660\u001b[0m \u001b[0;34m\u001b[0m\u001b[0m\n\u001b[1;32m    661\u001b[0m         \u001b[0;32mif\u001b[0m \u001b[0mstate\u001b[0m \u001b[0;32mis\u001b[0m \u001b[0;32mnot\u001b[0m \u001b[0;32mNone\u001b[0m\u001b[0;34m:\u001b[0m\u001b[0;34m\u001b[0m\u001b[0;34m\u001b[0m\u001b[0m\n\u001b[0;32m--> 662\u001b[0;31m             \u001b[0msave\u001b[0m\u001b[0;34m(\u001b[0m\u001b[0mstate\u001b[0m\u001b[0;34m)\u001b[0m\u001b[0;34m\u001b[0m\u001b[0;34m\u001b[0m\u001b[0m\n\u001b[0m\u001b[1;32m    663\u001b[0m             \u001b[0mwrite\u001b[0m\u001b[0;34m(\u001b[0m\u001b[0mBUILD\u001b[0m\u001b[0;34m)\u001b[0m\u001b[0;34m\u001b[0m\u001b[0;34m\u001b[0m\u001b[0m\n\u001b[1;32m    664\u001b[0m \u001b[0;34m\u001b[0m\u001b[0m\n",
      "\u001b[0;32m~/opt/anaconda3/lib/python3.7/site-packages/joblib/numpy_pickle.py\u001b[0m in \u001b[0;36msave\u001b[0;34m(self, obj)\u001b[0m\n\u001b[1;32m    280\u001b[0m             \u001b[0;32mreturn\u001b[0m\u001b[0;34m\u001b[0m\u001b[0;34m\u001b[0m\u001b[0m\n\u001b[1;32m    281\u001b[0m \u001b[0;34m\u001b[0m\u001b[0m\n\u001b[0;32m--> 282\u001b[0;31m         \u001b[0;32mreturn\u001b[0m \u001b[0mPickler\u001b[0m\u001b[0;34m.\u001b[0m\u001b[0msave\u001b[0m\u001b[0;34m(\u001b[0m\u001b[0mself\u001b[0m\u001b[0;34m,\u001b[0m \u001b[0mobj\u001b[0m\u001b[0;34m)\u001b[0m\u001b[0;34m\u001b[0m\u001b[0;34m\u001b[0m\u001b[0m\n\u001b[0m\u001b[1;32m    283\u001b[0m \u001b[0;34m\u001b[0m\u001b[0m\n\u001b[1;32m    284\u001b[0m \u001b[0;34m\u001b[0m\u001b[0m\n",
      "\u001b[0;32m~/opt/anaconda3/lib/python3.7/pickle.py\u001b[0m in \u001b[0;36msave\u001b[0;34m(self, obj, save_persistent_id)\u001b[0m\n\u001b[1;32m    502\u001b[0m         \u001b[0mf\u001b[0m \u001b[0;34m=\u001b[0m \u001b[0mself\u001b[0m\u001b[0;34m.\u001b[0m\u001b[0mdispatch\u001b[0m\u001b[0;34m.\u001b[0m\u001b[0mget\u001b[0m\u001b[0;34m(\u001b[0m\u001b[0mt\u001b[0m\u001b[0;34m)\u001b[0m\u001b[0;34m\u001b[0m\u001b[0;34m\u001b[0m\u001b[0m\n\u001b[1;32m    503\u001b[0m         \u001b[0;32mif\u001b[0m \u001b[0mf\u001b[0m \u001b[0;32mis\u001b[0m \u001b[0;32mnot\u001b[0m \u001b[0;32mNone\u001b[0m\u001b[0;34m:\u001b[0m\u001b[0;34m\u001b[0m\u001b[0;34m\u001b[0m\u001b[0m\n\u001b[0;32m--> 504\u001b[0;31m             \u001b[0mf\u001b[0m\u001b[0;34m(\u001b[0m\u001b[0mself\u001b[0m\u001b[0;34m,\u001b[0m \u001b[0mobj\u001b[0m\u001b[0;34m)\u001b[0m \u001b[0;31m# Call unbound method with explicit self\u001b[0m\u001b[0;34m\u001b[0m\u001b[0;34m\u001b[0m\u001b[0m\n\u001b[0m\u001b[1;32m    505\u001b[0m             \u001b[0;32mreturn\u001b[0m\u001b[0;34m\u001b[0m\u001b[0;34m\u001b[0m\u001b[0m\n\u001b[1;32m    506\u001b[0m \u001b[0;34m\u001b[0m\u001b[0m\n",
      "\u001b[0;32m~/opt/anaconda3/lib/python3.7/pickle.py\u001b[0m in \u001b[0;36msave_dict\u001b[0;34m(self, obj)\u001b[0m\n\u001b[1;32m    857\u001b[0m \u001b[0;34m\u001b[0m\u001b[0m\n\u001b[1;32m    858\u001b[0m         \u001b[0mself\u001b[0m\u001b[0;34m.\u001b[0m\u001b[0mmemoize\u001b[0m\u001b[0;34m(\u001b[0m\u001b[0mobj\u001b[0m\u001b[0;34m)\u001b[0m\u001b[0;34m\u001b[0m\u001b[0;34m\u001b[0m\u001b[0m\n\u001b[0;32m--> 859\u001b[0;31m         \u001b[0mself\u001b[0m\u001b[0;34m.\u001b[0m\u001b[0m_batch_setitems\u001b[0m\u001b[0;34m(\u001b[0m\u001b[0mobj\u001b[0m\u001b[0;34m.\u001b[0m\u001b[0mitems\u001b[0m\u001b[0;34m(\u001b[0m\u001b[0;34m)\u001b[0m\u001b[0;34m)\u001b[0m\u001b[0;34m\u001b[0m\u001b[0;34m\u001b[0m\u001b[0m\n\u001b[0m\u001b[1;32m    860\u001b[0m \u001b[0;34m\u001b[0m\u001b[0m\n\u001b[1;32m    861\u001b[0m     \u001b[0mdispatch\u001b[0m\u001b[0;34m[\u001b[0m\u001b[0mdict\u001b[0m\u001b[0;34m]\u001b[0m \u001b[0;34m=\u001b[0m \u001b[0msave_dict\u001b[0m\u001b[0;34m\u001b[0m\u001b[0;34m\u001b[0m\u001b[0m\n",
      "\u001b[0;32m~/opt/anaconda3/lib/python3.7/pickle.py\u001b[0m in \u001b[0;36m_batch_setitems\u001b[0;34m(self, items)\u001b[0m\n\u001b[1;32m    883\u001b[0m                 \u001b[0;32mfor\u001b[0m \u001b[0mk\u001b[0m\u001b[0;34m,\u001b[0m \u001b[0mv\u001b[0m \u001b[0;32min\u001b[0m \u001b[0mtmp\u001b[0m\u001b[0;34m:\u001b[0m\u001b[0;34m\u001b[0m\u001b[0;34m\u001b[0m\u001b[0m\n\u001b[1;32m    884\u001b[0m                     \u001b[0msave\u001b[0m\u001b[0;34m(\u001b[0m\u001b[0mk\u001b[0m\u001b[0;34m)\u001b[0m\u001b[0;34m\u001b[0m\u001b[0;34m\u001b[0m\u001b[0m\n\u001b[0;32m--> 885\u001b[0;31m                     \u001b[0msave\u001b[0m\u001b[0;34m(\u001b[0m\u001b[0mv\u001b[0m\u001b[0;34m)\u001b[0m\u001b[0;34m\u001b[0m\u001b[0;34m\u001b[0m\u001b[0m\n\u001b[0m\u001b[1;32m    886\u001b[0m                 \u001b[0mwrite\u001b[0m\u001b[0;34m(\u001b[0m\u001b[0mSETITEMS\u001b[0m\u001b[0;34m)\u001b[0m\u001b[0;34m\u001b[0m\u001b[0;34m\u001b[0m\u001b[0m\n\u001b[1;32m    887\u001b[0m             \u001b[0;32melif\u001b[0m \u001b[0mn\u001b[0m\u001b[0;34m:\u001b[0m\u001b[0;34m\u001b[0m\u001b[0;34m\u001b[0m\u001b[0m\n",
      "\u001b[0;32m~/opt/anaconda3/lib/python3.7/site-packages/joblib/numpy_pickle.py\u001b[0m in \u001b[0;36msave\u001b[0;34m(self, obj)\u001b[0m\n\u001b[1;32m    280\u001b[0m             \u001b[0;32mreturn\u001b[0m\u001b[0;34m\u001b[0m\u001b[0;34m\u001b[0m\u001b[0m\n\u001b[1;32m    281\u001b[0m \u001b[0;34m\u001b[0m\u001b[0m\n\u001b[0;32m--> 282\u001b[0;31m         \u001b[0;32mreturn\u001b[0m \u001b[0mPickler\u001b[0m\u001b[0;34m.\u001b[0m\u001b[0msave\u001b[0m\u001b[0;34m(\u001b[0m\u001b[0mself\u001b[0m\u001b[0;34m,\u001b[0m \u001b[0mobj\u001b[0m\u001b[0;34m)\u001b[0m\u001b[0;34m\u001b[0m\u001b[0;34m\u001b[0m\u001b[0m\n\u001b[0m\u001b[1;32m    283\u001b[0m \u001b[0;34m\u001b[0m\u001b[0m\n\u001b[1;32m    284\u001b[0m \u001b[0;34m\u001b[0m\u001b[0m\n",
      "\u001b[0;32m~/opt/anaconda3/lib/python3.7/pickle.py\u001b[0m in \u001b[0;36msave\u001b[0;34m(self, obj, save_persistent_id)\u001b[0m\n\u001b[1;32m    522\u001b[0m             \u001b[0mreduce\u001b[0m \u001b[0;34m=\u001b[0m \u001b[0mgetattr\u001b[0m\u001b[0;34m(\u001b[0m\u001b[0mobj\u001b[0m\u001b[0;34m,\u001b[0m \u001b[0;34m\"__reduce_ex__\"\u001b[0m\u001b[0;34m,\u001b[0m \u001b[0;32mNone\u001b[0m\u001b[0;34m)\u001b[0m\u001b[0;34m\u001b[0m\u001b[0;34m\u001b[0m\u001b[0m\n\u001b[1;32m    523\u001b[0m             \u001b[0;32mif\u001b[0m \u001b[0mreduce\u001b[0m \u001b[0;32mis\u001b[0m \u001b[0;32mnot\u001b[0m \u001b[0;32mNone\u001b[0m\u001b[0;34m:\u001b[0m\u001b[0;34m\u001b[0m\u001b[0;34m\u001b[0m\u001b[0m\n\u001b[0;32m--> 524\u001b[0;31m                 \u001b[0mrv\u001b[0m \u001b[0;34m=\u001b[0m \u001b[0mreduce\u001b[0m\u001b[0;34m(\u001b[0m\u001b[0mself\u001b[0m\u001b[0;34m.\u001b[0m\u001b[0mproto\u001b[0m\u001b[0;34m)\u001b[0m\u001b[0;34m\u001b[0m\u001b[0;34m\u001b[0m\u001b[0m\n\u001b[0m\u001b[1;32m    525\u001b[0m             \u001b[0;32melse\u001b[0m\u001b[0;34m:\u001b[0m\u001b[0;34m\u001b[0m\u001b[0;34m\u001b[0m\u001b[0m\n\u001b[1;32m    526\u001b[0m                 \u001b[0mreduce\u001b[0m \u001b[0;34m=\u001b[0m \u001b[0mgetattr\u001b[0m\u001b[0;34m(\u001b[0m\u001b[0mobj\u001b[0m\u001b[0;34m,\u001b[0m \u001b[0;34m\"__reduce__\"\u001b[0m\u001b[0;34m,\u001b[0m \u001b[0;32mNone\u001b[0m\u001b[0;34m)\u001b[0m\u001b[0;34m\u001b[0m\u001b[0;34m\u001b[0m\u001b[0m\n",
      "\u001b[0;31mTypeError\u001b[0m: can't pickle _thread.RLock objects"
     ]
    }
   ],
   "source": [
    "dump(model_lstm, 'lstm_gbdt.pkl')"
   ]
  },
  {
   "cell_type": "code",
   "execution_count": 219,
   "metadata": {},
   "outputs": [],
   "source": [
    "X_train_in = model_lstm.predict(X_train)\n",
    "X_test_in = model_lstm.predict(X_test)"
   ]
  },
  {
   "cell_type": "code",
   "execution_count": 220,
   "metadata": {},
   "outputs": [],
   "source": [
    "model_combine = GradientBoostingClassifier(n_estimators=100, learning_rate=0.02, max_depth = 1, random_state=0).fit(X_train_in, y_train)"
   ]
  },
  {
   "cell_type": "code",
   "execution_count": 221,
   "metadata": {},
   "outputs": [],
   "source": [
    "model_combine_pred = model_combine.predict(X_test_in)"
   ]
  },
  {
   "cell_type": "code",
   "execution_count": 222,
   "metadata": {},
   "outputs": [
    {
     "data": {
      "text/plain": [
       "0.8689700366186022"
      ]
     },
     "execution_count": 222,
     "metadata": {},
     "output_type": "execute_result"
    }
   ],
   "source": [
    "f1_score(y_test, (model_combine_pred), average = 'weighted')"
   ]
  },
  {
   "cell_type": "code",
   "execution_count": 223,
   "metadata": {},
   "outputs": [
    {
     "name": "stdout",
     "output_type": "stream",
     "text": [
      "              precision    recall  f1-score   support\n",
      "\n",
      "           0       0.80      0.77      0.79      1677\n",
      "           1       0.93      0.95      0.94      3872\n",
      "           2       0.78      0.77      0.78      1368\n",
      "\n",
      "    accuracy                           0.87      6917\n",
      "   macro avg       0.84      0.83      0.83      6917\n",
      "weighted avg       0.87      0.87      0.87      6917\n",
      "\n"
     ]
    }
   ],
   "source": [
    "print(classification_report(y_test, model_combine_pred))"
   ]
  },
  {
   "cell_type": "code",
   "execution_count": 231,
   "metadata": {},
   "outputs": [
    {
     "data": {
      "image/png": "[encoded data removed]",
      "text/plain": [
       "<Figure size 432x288 with 2 Axes>"
      ]
     },
     "metadata": {
      "needs_background": "light"
     },
     "output_type": "display_data"
    }
   ],
   "source": [
    "plot_confusion_matrix(model_combine, X_test_in, y_test, normalize='true', cmap=plt.cm.Blues,\n",
    "                      display_labels=['neither','racism','sexism'])\n",
    "plt.title('Confusion Matrix')\n",
    "plt.savefig('model_combine_cm.png', dpi=200, transparent=True)\n",
    "plt.show()"
   ]
  },
  {
   "cell_type": "code",
   "execution_count": 76,
   "metadata": {},
   "outputs": [
    {
     "data": {
      "text/plain": [
       "['lstm_gbdt.pkl']"
      ]
     },
     "execution_count": 76,
     "metadata": {},
     "output_type": "execute_result"
    }
   ],
   "source": [
    "dump(model_combine, 'lstm_gbdt.pkl')"
   ]
  },
  {
   "cell_type": "code",
   "execution_count": 331,
   "metadata": {},
   "outputs": [],
   "source": [
    "abc = load('/Volumes/DATA/UNIMI/Text Mining and Sentiment Analysis/hate_speech_detection/gbdt.pkl')"
   ]
  },
  {
   "cell_type": "code",
   "execution_count": 332,
   "metadata": {},
   "outputs": [],
   "source": [
    "a = pd.Series(text_cleaning(\"you bitch\"))"
   ]
  },
  {
   "cell_type": "code",
   "execution_count": 80,
   "metadata": {},
   "outputs": [],
   "source": [
    "aa = tokenizer.texts_to_sequences(a)"
   ]
  },
  {
   "cell_type": "code",
   "execution_count": 333,
   "metadata": {},
   "outputs": [
    {
     "ename": "NotFittedError",
     "evalue": "The TF-IDF vectorizer is not fitted",
     "output_type": "error",
     "traceback": [
      "\u001b[0;31m---------------------------------------------------------------------------\u001b[0m",
      "\u001b[0;31mNotFittedError\u001b[0m                            Traceback (most recent call last)",
      "\u001b[0;32m<ipython-input-333-750eb4055c7b>\u001b[0m in \u001b[0;36m<module>\u001b[0;34m\u001b[0m\n\u001b[0;32m----> 1\u001b[0;31m \u001b[0mpred\u001b[0m \u001b[0;34m=\u001b[0m \u001b[0mabc\u001b[0m\u001b[0;34m.\u001b[0m\u001b[0mpredict\u001b[0m\u001b[0;34m(\u001b[0m\u001b[0ma\u001b[0m\u001b[0;34m)\u001b[0m\u001b[0;34m[\u001b[0m\u001b[0;36m0\u001b[0m\u001b[0;34m]\u001b[0m\u001b[0;34m\u001b[0m\u001b[0;34m\u001b[0m\u001b[0m\n\u001b[0m\u001b[1;32m      2\u001b[0m \u001b[0;31m#l = abc.predict_classes()\u001b[0m\u001b[0;34m\u001b[0m\u001b[0;34m\u001b[0m\u001b[0;34m\u001b[0m\u001b[0m\n",
      "\u001b[0;32m~/opt/anaconda3/lib/python3.7/site-packages/sklearn/utils/metaestimators.py\u001b[0m in \u001b[0;36m<lambda>\u001b[0;34m(*args, **kwargs)\u001b[0m\n\u001b[1;32m    118\u001b[0m \u001b[0;34m\u001b[0m\u001b[0m\n\u001b[1;32m    119\u001b[0m         \u001b[0;31m# lambda, but not partial, allows help() to work with update_wrapper\u001b[0m\u001b[0;34m\u001b[0m\u001b[0;34m\u001b[0m\u001b[0;34m\u001b[0m\u001b[0m\n\u001b[0;32m--> 120\u001b[0;31m         \u001b[0mout\u001b[0m \u001b[0;34m=\u001b[0m \u001b[0;32mlambda\u001b[0m \u001b[0;34m*\u001b[0m\u001b[0margs\u001b[0m\u001b[0;34m,\u001b[0m \u001b[0;34m**\u001b[0m\u001b[0mkwargs\u001b[0m\u001b[0;34m:\u001b[0m \u001b[0mself\u001b[0m\u001b[0;34m.\u001b[0m\u001b[0mfn\u001b[0m\u001b[0;34m(\u001b[0m\u001b[0mobj\u001b[0m\u001b[0;34m,\u001b[0m \u001b[0;34m*\u001b[0m\u001b[0margs\u001b[0m\u001b[0;34m,\u001b[0m \u001b[0;34m**\u001b[0m\u001b[0mkwargs\u001b[0m\u001b[0;34m)\u001b[0m\u001b[0;34m\u001b[0m\u001b[0;34m\u001b[0m\u001b[0m\n\u001b[0m\u001b[1;32m    121\u001b[0m         \u001b[0;31m# update the docstring of the returned function\u001b[0m\u001b[0;34m\u001b[0m\u001b[0;34m\u001b[0m\u001b[0;34m\u001b[0m\u001b[0m\n\u001b[1;32m    122\u001b[0m         \u001b[0mupdate_wrapper\u001b[0m\u001b[0;34m(\u001b[0m\u001b[0mout\u001b[0m\u001b[0;34m,\u001b[0m \u001b[0mself\u001b[0m\u001b[0;34m.\u001b[0m\u001b[0mfn\u001b[0m\u001b[0;34m)\u001b[0m\u001b[0;34m\u001b[0m\u001b[0;34m\u001b[0m\u001b[0m\n",
      "\u001b[0;32m~/opt/anaconda3/lib/python3.7/site-packages/sklearn/pipeline.py\u001b[0m in \u001b[0;36mpredict\u001b[0;34m(self, X, **predict_params)\u001b[0m\n\u001b[1;32m    416\u001b[0m         \u001b[0mXt\u001b[0m \u001b[0;34m=\u001b[0m \u001b[0mX\u001b[0m\u001b[0;34m\u001b[0m\u001b[0;34m\u001b[0m\u001b[0m\n\u001b[1;32m    417\u001b[0m         \u001b[0;32mfor\u001b[0m \u001b[0m_\u001b[0m\u001b[0;34m,\u001b[0m \u001b[0mname\u001b[0m\u001b[0;34m,\u001b[0m \u001b[0mtransform\u001b[0m \u001b[0;32min\u001b[0m \u001b[0mself\u001b[0m\u001b[0;34m.\u001b[0m\u001b[0m_iter\u001b[0m\u001b[0;34m(\u001b[0m\u001b[0mwith_final\u001b[0m\u001b[0;34m=\u001b[0m\u001b[0;32mFalse\u001b[0m\u001b[0;34m)\u001b[0m\u001b[0;34m:\u001b[0m\u001b[0;34m\u001b[0m\u001b[0;34m\u001b[0m\u001b[0m\n\u001b[0;32m--> 418\u001b[0;31m             \u001b[0mXt\u001b[0m \u001b[0;34m=\u001b[0m \u001b[0mtransform\u001b[0m\u001b[0;34m.\u001b[0m\u001b[0mtransform\u001b[0m\u001b[0;34m(\u001b[0m\u001b[0mXt\u001b[0m\u001b[0;34m)\u001b[0m\u001b[0;34m\u001b[0m\u001b[0;34m\u001b[0m\u001b[0m\n\u001b[0m\u001b[1;32m    419\u001b[0m         \u001b[0;32mreturn\u001b[0m \u001b[0mself\u001b[0m\u001b[0;34m.\u001b[0m\u001b[0msteps\u001b[0m\u001b[0;34m[\u001b[0m\u001b[0;34m-\u001b[0m\u001b[0;36m1\u001b[0m\u001b[0;34m]\u001b[0m\u001b[0;34m[\u001b[0m\u001b[0;34m-\u001b[0m\u001b[0;36m1\u001b[0m\u001b[0;34m]\u001b[0m\u001b[0;34m.\u001b[0m\u001b[0mpredict\u001b[0m\u001b[0;34m(\u001b[0m\u001b[0mXt\u001b[0m\u001b[0;34m,\u001b[0m \u001b[0;34m**\u001b[0m\u001b[0mpredict_params\u001b[0m\u001b[0;34m)\u001b[0m\u001b[0;34m\u001b[0m\u001b[0;34m\u001b[0m\u001b[0m\n\u001b[1;32m    420\u001b[0m \u001b[0;34m\u001b[0m\u001b[0m\n",
      "\u001b[0;32m~/opt/anaconda3/lib/python3.7/site-packages/sklearn/pipeline.py\u001b[0m in \u001b[0;36m_transform\u001b[0;34m(self, X)\u001b[0m\n\u001b[1;32m    558\u001b[0m         \u001b[0mXt\u001b[0m \u001b[0;34m=\u001b[0m \u001b[0mX\u001b[0m\u001b[0;34m\u001b[0m\u001b[0;34m\u001b[0m\u001b[0m\n\u001b[1;32m    559\u001b[0m         \u001b[0;32mfor\u001b[0m \u001b[0m_\u001b[0m\u001b[0;34m,\u001b[0m \u001b[0m_\u001b[0m\u001b[0;34m,\u001b[0m \u001b[0mtransform\u001b[0m \u001b[0;32min\u001b[0m \u001b[0mself\u001b[0m\u001b[0;34m.\u001b[0m\u001b[0m_iter\u001b[0m\u001b[0;34m(\u001b[0m\u001b[0;34m)\u001b[0m\u001b[0;34m:\u001b[0m\u001b[0;34m\u001b[0m\u001b[0;34m\u001b[0m\u001b[0m\n\u001b[0;32m--> 560\u001b[0;31m             \u001b[0mXt\u001b[0m \u001b[0;34m=\u001b[0m \u001b[0mtransform\u001b[0m\u001b[0;34m.\u001b[0m\u001b[0mtransform\u001b[0m\u001b[0;34m(\u001b[0m\u001b[0mXt\u001b[0m\u001b[0;34m)\u001b[0m\u001b[0;34m\u001b[0m\u001b[0;34m\u001b[0m\u001b[0m\n\u001b[0m\u001b[1;32m    561\u001b[0m         \u001b[0;32mreturn\u001b[0m \u001b[0mXt\u001b[0m\u001b[0;34m\u001b[0m\u001b[0;34m\u001b[0m\u001b[0m\n\u001b[1;32m    562\u001b[0m \u001b[0;34m\u001b[0m\u001b[0m\n",
      "\u001b[0;32m~/opt/anaconda3/lib/python3.7/site-packages/sklearn/feature_extraction/text.py\u001b[0m in \u001b[0;36mtransform\u001b[0;34m(self, raw_documents)\u001b[0m\n\u001b[1;32m   1866\u001b[0m             \u001b[0mTf\u001b[0m\u001b[0;34m-\u001b[0m\u001b[0midf\u001b[0m\u001b[0;34m-\u001b[0m\u001b[0mweighted\u001b[0m \u001b[0mdocument\u001b[0m\u001b[0;34m-\u001b[0m\u001b[0mterm\u001b[0m \u001b[0mmatrix\u001b[0m\u001b[0;34m.\u001b[0m\u001b[0;34m\u001b[0m\u001b[0;34m\u001b[0m\u001b[0m\n\u001b[1;32m   1867\u001b[0m         \"\"\"\n\u001b[0;32m-> 1868\u001b[0;31m         \u001b[0mcheck_is_fitted\u001b[0m\u001b[0;34m(\u001b[0m\u001b[0mself\u001b[0m\u001b[0;34m,\u001b[0m \u001b[0mmsg\u001b[0m\u001b[0;34m=\u001b[0m\u001b[0;34m'The TF-IDF vectorizer is not fitted'\u001b[0m\u001b[0;34m)\u001b[0m\u001b[0;34m\u001b[0m\u001b[0;34m\u001b[0m\u001b[0m\n\u001b[0m\u001b[1;32m   1869\u001b[0m \u001b[0;34m\u001b[0m\u001b[0m\n\u001b[1;32m   1870\u001b[0m         \u001b[0mX\u001b[0m \u001b[0;34m=\u001b[0m \u001b[0msuper\u001b[0m\u001b[0;34m(\u001b[0m\u001b[0;34m)\u001b[0m\u001b[0;34m.\u001b[0m\u001b[0mtransform\u001b[0m\u001b[0;34m(\u001b[0m\u001b[0mraw_documents\u001b[0m\u001b[0;34m)\u001b[0m\u001b[0;34m\u001b[0m\u001b[0;34m\u001b[0m\u001b[0m\n",
      "\u001b[0;32m~/opt/anaconda3/lib/python3.7/site-packages/sklearn/utils/validation.py\u001b[0m in \u001b[0;36minner_f\u001b[0;34m(*args, **kwargs)\u001b[0m\n\u001b[1;32m     61\u001b[0m             \u001b[0mextra_args\u001b[0m \u001b[0;34m=\u001b[0m \u001b[0mlen\u001b[0m\u001b[0;34m(\u001b[0m\u001b[0margs\u001b[0m\u001b[0;34m)\u001b[0m \u001b[0;34m-\u001b[0m \u001b[0mlen\u001b[0m\u001b[0;34m(\u001b[0m\u001b[0mall_args\u001b[0m\u001b[0;34m)\u001b[0m\u001b[0;34m\u001b[0m\u001b[0;34m\u001b[0m\u001b[0m\n\u001b[1;32m     62\u001b[0m             \u001b[0;32mif\u001b[0m \u001b[0mextra_args\u001b[0m \u001b[0;34m<=\u001b[0m \u001b[0;36m0\u001b[0m\u001b[0;34m:\u001b[0m\u001b[0;34m\u001b[0m\u001b[0;34m\u001b[0m\u001b[0m\n\u001b[0;32m---> 63\u001b[0;31m                 \u001b[0;32mreturn\u001b[0m \u001b[0mf\u001b[0m\u001b[0;34m(\u001b[0m\u001b[0;34m*\u001b[0m\u001b[0margs\u001b[0m\u001b[0;34m,\u001b[0m \u001b[0;34m**\u001b[0m\u001b[0mkwargs\u001b[0m\u001b[0;34m)\u001b[0m\u001b[0;34m\u001b[0m\u001b[0;34m\u001b[0m\u001b[0m\n\u001b[0m\u001b[1;32m     64\u001b[0m \u001b[0;34m\u001b[0m\u001b[0m\n\u001b[1;32m     65\u001b[0m             \u001b[0;31m# extra_args > 0\u001b[0m\u001b[0;34m\u001b[0m\u001b[0;34m\u001b[0m\u001b[0;34m\u001b[0m\u001b[0m\n",
      "\u001b[0;32m~/opt/anaconda3/lib/python3.7/site-packages/sklearn/utils/validation.py\u001b[0m in \u001b[0;36mcheck_is_fitted\u001b[0;34m(estimator, attributes, msg, all_or_any)\u001b[0m\n\u001b[1;32m   1096\u001b[0m \u001b[0;34m\u001b[0m\u001b[0m\n\u001b[1;32m   1097\u001b[0m     \u001b[0;32mif\u001b[0m \u001b[0;32mnot\u001b[0m \u001b[0mattrs\u001b[0m\u001b[0;34m:\u001b[0m\u001b[0;34m\u001b[0m\u001b[0;34m\u001b[0m\u001b[0m\n\u001b[0;32m-> 1098\u001b[0;31m         \u001b[0;32mraise\u001b[0m \u001b[0mNotFittedError\u001b[0m\u001b[0;34m(\u001b[0m\u001b[0mmsg\u001b[0m \u001b[0;34m%\u001b[0m \u001b[0;34m{\u001b[0m\u001b[0;34m'name'\u001b[0m\u001b[0;34m:\u001b[0m \u001b[0mtype\u001b[0m\u001b[0;34m(\u001b[0m\u001b[0mestimator\u001b[0m\u001b[0;34m)\u001b[0m\u001b[0;34m.\u001b[0m\u001b[0m__name__\u001b[0m\u001b[0;34m}\u001b[0m\u001b[0;34m)\u001b[0m\u001b[0;34m\u001b[0m\u001b[0;34m\u001b[0m\u001b[0m\n\u001b[0m\u001b[1;32m   1099\u001b[0m \u001b[0;34m\u001b[0m\u001b[0m\n\u001b[1;32m   1100\u001b[0m \u001b[0;34m\u001b[0m\u001b[0m\n",
      "\u001b[0;31mNotFittedError\u001b[0m: The TF-IDF vectorizer is not fitted"
     ]
    }
   ],
   "source": [
    "pred = abc.predict(a)[0]\n",
    "#l = abc.predict_classes()"
   ]
  },
  {
   "cell_type": "code",
   "execution_count": 82,
   "metadata": {},
   "outputs": [
    {
     "data": {
      "text/plain": [
       "'racism'"
      ]
     },
     "execution_count": 82,
     "metadata": {},
     "output_type": "execute_result"
    }
   ],
   "source": [
    "hate_speech[pred]"
   ]
  },
  {
   "cell_type": "code",
   "execution_count": null,
   "metadata": {},
   "outputs": [],
   "source": []
  },
  {
   "cell_type": "code",
   "execution_count": null,
   "metadata": {},
   "outputs": [],
   "source": []
  },
  {
   "cell_type": "markdown",
   "metadata": {},
   "source": [
    "## Most relevant terminology by category"
   ]
  },
  {
   "cell_type": "code",
   "execution_count": 273,
   "metadata": {},
   "outputs": [],
   "source": [
    "# use tf-idf extraction on the data\n",
    "vtorizer = TfidfVectorizer()\n",
    "X_tf = vtorizer.fit_transform(X_data)\n",
    "features = vtorizer.get_feature_names()"
   ]
  },
  {
   "cell_type": "code",
   "execution_count": 274,
   "metadata": {},
   "outputs": [
    {
     "data": {
      "text/plain": [
       "(34585, 28166)"
      ]
     },
     "execution_count": 274,
     "metadata": {},
     "output_type": "execute_result"
    }
   ],
   "source": [
    "X_tf.shape"
   ]
  },
  {
   "cell_type": "code",
   "execution_count": 275,
   "metadata": {},
   "outputs": [
    {
     "data": {
      "text/plain": [
       "(1, 28166)"
      ]
     },
     "execution_count": 275,
     "metadata": {},
     "output_type": "execute_result"
    }
   ],
   "source": [
    "X_tf[1].shape"
   ]
  },
  {
   "cell_type": "code",
   "execution_count": 276,
   "metadata": {},
   "outputs": [],
   "source": [
    "def top_tfidf_feats(row, features, top_n=25):\n",
    "    ''' Get top n tfidf values in row and return them with their corresponding feature names.'''\n",
    "    topn_ids = np.argsort(row)[::-1][:top_n]\n",
    "    top_feats = [(features[i], row[i]) for i in topn_ids]\n",
    "    df = pd.DataFrame(top_feats)\n",
    "    df.columns = ['feature', 'tfidf']\n",
    "    return df"
   ]
  },
  {
   "cell_type": "code",
   "execution_count": 277,
   "metadata": {},
   "outputs": [],
   "source": [
    "def top_mean_feats(Xtr, features, grp_ids=None, min_tfidf=0.1, top_n=25):\n",
    "    ''' Return the top n features that on average are most important amongst documents in rows\n",
    "        indentified by indices in grp_ids. '''\n",
    "    if grp_ids:\n",
    "        D = Xtr[grp_ids].toarray()\n",
    "    else:\n",
    "        D = Xtr.toarray()\n",
    "\n",
    "    D[D < min_tfidf] = 0\n",
    "    tfidf_means = np.mean(D, axis=0)\n",
    "    return top_tfidf_feats(tfidf_means, features, top_n)"
   ]
  },
  {
   "cell_type": "code",
   "execution_count": 278,
   "metadata": {},
   "outputs": [],
   "source": [
    "def top_feats_by_class(Xtr, y, features, min_tfidf=0.1, top_n=25):\n",
    "    ''' Return a list of dfs, where each df holds top_n features and their mean tfidf value\n",
    "        calculated across documents with the same class label. '''\n",
    "    dfs = []\n",
    "    labels = np.unique(y)\n",
    "    for label in labels:\n",
    "        ids = np.where(y==label)\n",
    "        feats_df = top_mean_feats(Xtr, features, ids, min_tfidf=min_tfidf, top_n=top_n)\n",
    "        feats_df.label = label\n",
    "        dfs.append(feats_df)\n",
    "    return dfs"
   ]
  },
  {
   "cell_type": "code",
   "execution_count": 279,
   "metadata": {},
   "outputs": [
    {
     "name": "stdout",
     "output_type": "stream",
     "text": [
      "[  feature     tfidf\n",
      "0  faggot  0.002844\n",
      "1     yes  0.002776\n",
      "2     mkr  0.002102\n",
      "3     yup  0.001957\n",
      "4     fag  0.001947,   feature     tfidf\n",
      "0   bitch  0.006142\n",
      "1   pussy  0.003179\n",
      "2     hoe  0.002131\n",
      "3   loyal  0.001662\n",
      "4    hoes  0.001469,     feature     tfidf\n",
      "0     trash  0.003211\n",
      "1    monkey  0.000900\n",
      "2  brownies  0.000881\n",
      "3    ghetto  0.000819\n",
      "4    yellow  0.000671]\n"
     ]
    }
   ],
   "source": [
    "print(top_feats_by_class(X_tf, y, features, top_n=5, min_tfidf=0.7))"
   ]
  },
  {
   "cell_type": "code",
   "execution_count": 280,
   "metadata": {},
   "outputs": [],
   "source": [
    "label_dic = {'neither': 0, 'racism': 1, 'sexism': 2}\n",
    "hate_speech = {\n",
    "  0: \"neither\",\n",
    "  1: \"racism\",\n",
    "  2: \"sexism\"\n",
    "}"
   ]
  },
  {
   "cell_type": "code",
   "execution_count": 281,
   "metadata": {},
   "outputs": [],
   "source": [
    "# function to plot the most relevant terms\n",
    "def terminology(label, n_terms=10, threshold=0.7):\n",
    "    top_feats_by_class(X_tf, y, features, top_n=n_terms, min_tfidf=threshold)[label_dic[label]]\\\n",
    "    .sort_values(by='tfidf',ascending=True)\\\n",
    "    .plot(kind='barh', x='feature', stacked=True)\n",
    "    plt.title('Most important terms in the ' + label + ' category')\n",
    "    plt.xlabel('TF-IDF value')\n",
    "    plt.ylabel('Term')\n",
    "    plt.xticks(fontsize=8)\n",
    "    plt.savefig('figure_' + label + '.png', dpi=200, transparent=True)\n",
    "    plt.show()"
   ]
  },
  {
   "cell_type": "code",
   "execution_count": 282,
   "metadata": {},
   "outputs": [
    {
     "data": {
      "image/png": "[encoded data removed]",
      "text/plain": [
       "<Figure size 432x288 with 1 Axes>"
      ]
     },
     "metadata": {
      "needs_background": "light"
     },
     "output_type": "display_data"
    }
   ],
   "source": [
    "terminology('racism')"
   ]
  },
  {
   "cell_type": "code",
   "execution_count": 283,
   "metadata": {},
   "outputs": [
    {
     "data": {
      "image/png": "[encoded data removed]",
      "text/plain": [
       "<Figure size 432x288 with 1 Axes>"
      ]
     },
     "metadata": {
      "needs_background": "light"
     },
     "output_type": "display_data"
    }
   ],
   "source": [
    "terminology('neither')"
   ]
  },
  {
   "cell_type": "code",
   "execution_count": 284,
   "metadata": {},
   "outputs": [
    {
     "data": {
      "image/png": "[encoded data removed]",
      "text/plain": [
       "<Figure size 432x288 with 1 Axes>"
      ]
     },
     "metadata": {
      "needs_background": "light"
     },
     "output_type": "display_data"
    }
   ],
   "source": [
    "terminology('sexism')"
   ]
  },
  {
   "cell_type": "code",
   "execution_count": null,
   "metadata": {},
   "outputs": [],
   "source": []
  }
 ],
 "metadata": {
  "kernelspec": {
   "display_name": "Python 3",
   "language": "python",
   "name": "python3"
  },
  "language_info": {
   "codemirror_mode": {
    "name": "ipython",
    "version": 3
   },
   "file_extension": ".py",
   "mimetype": "text/x-python",
   "name": "python",
   "nbconvert_exporter": "python",
   "pygments_lexer": "ipython3",
   "version": "3.7.4"
  },
  "latex_envs": {
   "LaTeX_envs_menu_present": true,
   "autoclose": false,
   "autocomplete": true,
   "bibliofile": "biblio.bib",
   "cite_by": "apalike",
   "current_citInitial": 1,
   "eqLabelWithNumbers": true,
   "eqNumInitial": 1,
   "hotkeys": {
    "equation": "Ctrl-E",
    "itemize": "Ctrl-I"
   },
   "labels_anchors": false,
   "latex_user_defs": false,
   "report_style_numbering": false,
   "user_envs_cfg": false
  }
 },
 "nbformat": 4,
 "nbformat_minor": 2
}
